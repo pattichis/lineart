{
  "cells": [
    {
      "cell_type": "markdown",
      "metadata": {
        "id": "view-in-github",
        "colab_type": "text"
      },
      "source": [
        "<a href=\"https://colab.research.google.com/github/pattichis/lineart/blob/main/LinePlots_Lesson_1.ipynb\" target=\"_parent\"><img src=\"https://colab.research.google.com/assets/colab-badge.svg\" alt=\"Open In Colab\"/></a>"
      ]
    },
    {
      "cell_type": "markdown",
      "source": [
        "# Basic Instructions\n",
        "<dl>\n",
        "  <dt><h3>Saving your file</h3></dt>\n",
        "  <dd><ol type=\"1\">\n",
        "      <li>Click on <b>File</b> on the upper left</li>\n",
        "      <li>Click on <b>Save</b></li>\n",
        "  </ol></dd>\n",
        "\n",
        "  <dt><h3>Running your code</h3></dt>\n",
        "  <dd><ol type=\"1\">\n",
        "      <li>Move your cursor over <tt>[ ]</tt></li>\n",
        "      <li>With your mouse over <tt>[ ]</tt>, you will see the play button</li>\n",
        "      <li>Click on the play button</li>\n",
        "      <li>You should see output below</li>\n",
        "  </ol></dd>\n",
        "\n",
        "  <dt><h3>Printing your code</h3></dt>\n",
        "  <dd><ol type=\"1\">\n",
        "      <li>Click on <b>File</b> on the upper left</li>\n",
        "      <li>Click on <b>Print</b></li>\n",
        "  </ol></dd>\n",
        "</dl>\n"
      ],
      "metadata": {
        "id": "Hl6QDN4GsVqm"
      }
    },
    {
      "cell_type": "markdown",
      "source": [
        "# Download from the internet"
      ],
      "metadata": {
        "id": "KWiiEUB9gCus"
      }
    },
    {
      "cell_type": "markdown",
      "metadata": {
        "id": "WsXMwyp4L3Rc"
      },
      "source": [
        "# Introduction to Variables\n",
        "\n",
        "Run the following code by clicking on the play button on the left.\n",
        "\n",
        "What can you see?\n",
        "\n",
        "Comments are used for making notes:\n",
        "\n",
        "\n",
        "```\n",
        "# After this special character, computer ignores the text.\n",
        "```\n",
        "\n",
        "A variable is created using the following line:\n",
        "```\n",
        "a = 3\n",
        "```\n",
        "\n",
        "The result is then printed using:\n",
        "```\n",
        "print(a)\n",
        "```\n",
        "\n",
        "Carefully review the code line-by-line to understand how it works.\n",
        "\n",
        "## Assignment \n",
        "\n",
        "1. How do I know that I am making a comment?\n",
        "2. Does the output change if you change a comment?\n",
        "3. Can you change the code so that it will print 2?\n",
        "4. Create variable b with the value 10."
      ]
    },
    {
      "cell_type": "code",
      "execution_count": 1,
      "metadata": {
        "id": "phpwQh3WoYP4",
        "colab": {
          "base_uri": "https://localhost:8080/"
        },
        "outputId": "33c8a679-0424-46c5-ca6d-02518c4178b0"
      },
      "outputs": [
        {
          "output_type": "stream",
          "name": "stdout",
          "text": [
            "2\n"
          ]
        }
      ],
      "source": [
        "# COMMENTS\n",
        "# When you first type #, we have a comment. Typing here does not affect anything\n",
        "# Comments are used to explain programs to humans.\n",
        "# Computers do not execute the comments.\n",
        "\n",
        "# Computers use variables to store information.\n",
        "# In the following line, we store the number 3 in the variable \"a\"\n",
        "a = 2\n",
        "\n",
        "# We place \"a\" inside parenthesis \"(a)\" to apply the print() function:\n",
        "print(a)"
      ]
    },
    {
      "cell_type": "markdown",
      "metadata": {
        "id": "Ai8Kj_cJ2jWa"
      },
      "source": [
        "# Strings\n",
        "\n",
        "Run the following code by clicking on the play button on the left.\n",
        "\n",
        "What can you see?\n",
        "\n",
        "Carefully read the code line-by-line to understand how it works.\n",
        "\n",
        "## Assignment \n",
        "\n",
        "Which color do the strings appear in?\n",
        "\n",
        "Can you change the code so that it will print your name?\n"
      ]
    },
    {
      "cell_type": "code",
      "execution_count": 2,
      "metadata": {
        "id": "9AzfNp252r8G",
        "colab": {
          "base_uri": "https://localhost:8080/"
        },
        "outputId": "5536f7dd-b563-49cc-af05-384cfdea0ceb"
      },
      "outputs": [
        {
          "output_type": "stream",
          "name": "stdout",
          "text": [
            "A short phrase\n"
          ]
        }
      ],
      "source": [
        "# STRINGS\n",
        "# Computers understand strings.\n",
        "# The following line creates a string and stores it in the variable MyString\n",
        "MyString = \"A short phrase\"\n",
        "\n",
        "# PRINTING\n",
        "# You can now see the string in a:\n",
        "print(MyString)"
      ]
    },
    {
      "cell_type": "markdown",
      "metadata": {
        "id": "Yly9mgzB242N"
      },
      "source": [
        "# Concatenating = Putting two strings together\n",
        "\n",
        "Run the following code by clicking on the play button on the left.\n",
        "\n",
        "What can you see?\n",
        "\n",
        "Carefully read the code line-by-line to understand how it works.\n",
        "\n",
        "What does it mean to use + with two strings?\n",
        "\n",
        "## Assignment\n",
        "\n",
        "Can you change the code so that it prints \"Hello Marios\"?\n",
        "\n",
        "Can you change the code so that it prints \"Hello your-name\"?"
      ]
    },
    {
      "cell_type": "code",
      "execution_count": 3,
      "metadata": {
        "id": "gYmaHqEE28fp",
        "colab": {
          "base_uri": "https://localhost:8080/"
        },
        "outputId": "4d935093-3e17-4cba-95a9-5a2e1e92ca5a"
      },
      "outputs": [
        {
          "output_type": "stream",
          "name": "stdout",
          "text": [
            "My name is Emily\n"
          ]
        }
      ],
      "source": [
        "MyName = \"Emily\"                 # Store \"Marios\" in MyName\n",
        "String = \"My name is \" + MyName   # Create a string by concatenating\n",
        "print(String)                     # Print the string"
      ]
    },
    {
      "cell_type": "markdown",
      "source": [
        "# Long Strings\n",
        "We can introduce very long strings using:\n",
        "1. Start the string with <tt>\"\"\"</tt> (no spaces in-between).\n",
        "2. End the string with <tt>\"\"\"</tt>\n",
        "3. Use <tt>\\<br\\></tt> to start a new line.\n",
        "\n",
        "An example of a long string is given below:\n",
        "```\n",
        "text = \"\"\"First line<br>\n",
        "Second line<br>\n",
        "Third line<br>\n",
        "Fourth line without starting a new one\"\"\"\n",
        "```\n",
        "You can print long string using <tt>print()</tt> function calls:\n",
        "```\n",
        "print(text)\n",
        "```\n",
        "\n",
        "## Assignment\n",
        "\n",
        "Replace the text with a long message.\n",
        "\n",
        "\n"
      ],
      "metadata": {
        "id": "itNHU5mLfquw"
      }
    },
    {
      "cell_type": "code",
      "source": [
        "# Long string\n",
        "# Replace it with a long message!\n",
        "text = \"\"\"First line<br>\n",
        "Second line<br>\n",
        "Third line<br>\n",
        "Fourth line without starting a new one\"\"\"\n",
        "\n",
        "print(text)"
      ],
      "metadata": {
        "colab": {
          "base_uri": "https://localhost:8080/"
        },
        "id": "S--EZHtor0La",
        "outputId": "77827137-e693-4d73-dc88-99aa8292a6ac"
      },
      "execution_count": 4,
      "outputs": [
        {
          "output_type": "stream",
          "name": "stdout",
          "text": [
            "First line<br>\n",
            "Second line<br>\n",
            "Third line<br>\n",
            "Fourth line without starting a new one\n"
          ]
        }
      ]
    },
    {
      "cell_type": "markdown",
      "source": [
        "# Counting using loops\n",
        "Suppose that we want to count 1, 2, 3.\n",
        "\n",
        "We can use variables to do the counting.\n",
        "\n",
        "We first assign 1 to <tt>i</tt> using\n",
        "```\n",
        "i = 1\n",
        "print(i)\n",
        "```\n",
        "We then repeat for 2 and 3:\n",
        "```\n",
        "i = 2\n",
        "print(i)\n",
        "\n",
        "i = 3\n",
        "print(i)\n",
        "```\n",
        "\n",
        "## Assignment \n",
        "\n",
        "Modify the code to print 3, 5, 7"
      ],
      "metadata": {
        "id": "q6cySbFofy6Q"
      }
    },
    {
      "cell_type": "code",
      "source": [
        "i = 1\n",
        "print(i)\n",
        "\n",
        "i = 2\n",
        "print(i)\n",
        "\n",
        "i = 3\n",
        "print(i)"
      ],
      "metadata": {
        "colab": {
          "base_uri": "https://localhost:8080/"
        },
        "id": "y3KMyuO4Bwn1",
        "outputId": "58872e99-276a-4925-f01b-3b070331130b"
      },
      "execution_count": 5,
      "outputs": [
        {
          "output_type": "stream",
          "name": "stdout",
          "text": [
            "1\n",
            "2\n",
            "3\n"
          ]
        }
      ]
    },
    {
      "cell_type": "markdown",
      "source": [
        "## Using for loops\n",
        "Suppose that we want to count to 100.\n",
        "\n",
        "We would have to repeat these statements 100 times!\n",
        "\n",
        "<tt>for</tt> loops allow us to use only one <tt>print()</tt> function statement.\n",
        "\n",
        "To use a <tt>for</tt>, we need to define the starting number and when to stop counting.\n",
        "\n",
        "Let us redo the code for counting to 1, 2, 3:\n",
        "```\n",
        "startNumber = 1\n",
        "stopNumber  = 3 + 1\n",
        "```\n",
        "Here, <tt>stopNumber = 3 + 1</tt> means that we should stop counting to avoid going past 3!\n",
        "\n",
        "To count 1, 2, 3, we use the <tt>for</tt> loop as given below:\n",
        "```\n",
        "for i in range(startNumber, stopNumber):\n",
        "  print(i)\n",
        "```\n",
        "Here, <tt>range(startNumber, stopNumber)</tt> generates the numbers 1, 2, 3. \n",
        "\n",
        "It starts with 1 (=<tt>startNumber</tt>), then 2, 3, but because <tt>stopNumber=4</tt>, it does not generate 4.\n",
        "\n",
        "Then the line <tt>i in range(startNumber, stopNumber)</tt> copies these numbers into <tt>i</tt>, one by one.\n",
        "\n",
        "After copying the numbers, it executes <tt>print(i)</tt> to print the numbers.\n",
        "\n",
        "## Assignment \n",
        "\n",
        "Modify the code to count to 100!\n",
        "\n",
        "\n",
        "\n",
        "\n",
        "\n"
      ],
      "metadata": {
        "id": "JlQ33z0_HCQ2"
      }
    },
    {
      "cell_type": "code",
      "source": [
        "startNumber = 1\n",
        "stopNumber  = 3+1\n",
        "for i in range(startNumber, stopNumber):\n",
        "  print(i)"
      ],
      "metadata": {
        "colab": {
          "base_uri": "https://localhost:8080/"
        },
        "id": "FUIUP4ZPGwke",
        "outputId": "9605402e-fc6b-4578-8c08-6be21d4a966f"
      },
      "execution_count": 6,
      "outputs": [
        {
          "output_type": "stream",
          "name": "stdout",
          "text": [
            "1\n",
            "2\n",
            "3\n"
          ]
        }
      ]
    },
    {
      "cell_type": "markdown",
      "source": [
        "## Using for loops to count by different steps\n",
        "We can use <tt>for</tt> loops to count by different steps.\n",
        "\n",
        "For example, we can use a <tt>for</tt> loop to count\n",
        "5, 10, 15.\n",
        "\n",
        "We only need to specify that we are counting by 5s instead of just adding 1 every time.\n",
        "\n",
        "This is done using a <tt>step</tt> as follows:\n",
        "\n",
        "\n",
        "```\n",
        "step = 5\n",
        "startNumber = 5\n",
        "stopNumber  = 15 + 5\n",
        "for i in range(startNumber, stopNumber, step):\n",
        "  print(i)\n",
        "```\n",
        "\n",
        "## Assignment\n",
        "\n",
        "Change the code so that you can count\n",
        "3, 9, 15.\n",
        "\n",
        "\n",
        "\n",
        "\n"
      ],
      "metadata": {
        "id": "sxoYR0HTSxfI"
      }
    },
    {
      "cell_type": "code",
      "source": [
        "step = 5\n",
        "startNumber = 5\n",
        "stopNumber  = 15 + 5\n",
        "for i in range(startNumber, stopNumber, step):\n",
        "  print(i)"
      ],
      "metadata": {
        "colab": {
          "base_uri": "https://localhost:8080/"
        },
        "id": "dZDbElQlBzzM",
        "outputId": "3d98f1ac-54e2-4a35-dfbe-0e51b989bb53"
      },
      "execution_count": 7,
      "outputs": [
        {
          "output_type": "stream",
          "name": "stdout",
          "text": [
            "5\n",
            "10\n",
            "15\n"
          ]
        }
      ]
    },
    {
      "cell_type": "code",
      "source": [],
      "metadata": {
        "id": "3-72TY3dXvOr"
      },
      "execution_count": 7,
      "outputs": []
    }
  ],
  "metadata": {
    "colab": {
      "provenance": [],
      "toc_visible": true,
      "include_colab_link": true
    },
    "kernelspec": {
      "display_name": "Python 3 (ipykernel)",
      "language": "python",
      "name": "python3"
    },
    "language_info": {
      "codemirror_mode": {
        "name": "ipython",
        "version": 3
      },
      "file_extension": ".py",
      "mimetype": "text/x-python",
      "name": "python",
      "nbconvert_exporter": "python",
      "pygments_lexer": "ipython3",
      "version": "3.9.15"
    }
  },
  "nbformat": 4,
  "nbformat_minor": 0
}