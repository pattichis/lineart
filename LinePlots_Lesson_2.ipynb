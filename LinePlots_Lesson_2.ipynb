{
  "cells": [
    {
      "cell_type": "markdown",
      "metadata": {
        "id": "view-in-github",
        "colab_type": "text"
      },
      "source": [
        "<a href=\"https://colab.research.google.com/github/pattichis/lineart/blob/main/LinePlots_Lesson_2.ipynb\" target=\"_parent\"><img src=\"https://colab.research.google.com/assets/colab-badge.svg\" alt=\"Open In Colab\"/></a>"
      ]
    },
    {
      "cell_type": "code",
      "execution_count": 1,
      "metadata": {
        "colab": {
          "base_uri": "https://localhost:8080/"
        },
        "id": "9HharDs_VT5V",
        "outputId": "6f7cf681-7ab7-4453-b09e-0ba434bf9d0e"
      },
      "outputs": [
        {
          "output_type": "stream",
          "name": "stdout",
          "text": [
            "Looking in indexes: https://pypi.org/simple, https://us-python.pkg.dev/colab-wheels/public/simple/\n",
            "Requirement already satisfied: ipywidgets in /usr/local/lib/python3.8/dist-packages (7.7.1)\n",
            "Requirement already satisfied: traitlets>=4.3.1 in /usr/local/lib/python3.8/dist-packages (from ipywidgets) (5.6.0)\n",
            "Requirement already satisfied: ipython>=4.0.0 in /usr/local/lib/python3.8/dist-packages (from ipywidgets) (7.9.0)\n",
            "Requirement already satisfied: widgetsnbextension~=3.6.0 in /usr/local/lib/python3.8/dist-packages (from ipywidgets) (3.6.1)\n",
            "Requirement already satisfied: ipython-genutils~=0.2.0 in /usr/local/lib/python3.8/dist-packages (from ipywidgets) (0.2.0)\n",
            "Requirement already satisfied: jupyterlab-widgets>=1.0.0 in /usr/local/lib/python3.8/dist-packages (from ipywidgets) (3.0.3)\n",
            "Requirement already satisfied: ipykernel>=4.5.1 in /usr/local/lib/python3.8/dist-packages (from ipywidgets) (5.3.4)\n",
            "Requirement already satisfied: tornado>=4.2 in /usr/local/lib/python3.8/dist-packages (from ipykernel>=4.5.1->ipywidgets) (6.0.4)\n",
            "Requirement already satisfied: jupyter-client in /usr/local/lib/python3.8/dist-packages (from ipykernel>=4.5.1->ipywidgets) (6.1.12)\n",
            "Requirement already satisfied: setuptools>=18.5 in /usr/local/lib/python3.8/dist-packages (from ipython>=4.0.0->ipywidgets) (57.4.0)\n",
            "Requirement already satisfied: pexpect in /usr/local/lib/python3.8/dist-packages (from ipython>=4.0.0->ipywidgets) (4.8.0)\n",
            "Requirement already satisfied: jedi>=0.10 in /usr/local/lib/python3.8/dist-packages (from ipython>=4.0.0->ipywidgets) (0.18.2)\n",
            "Requirement already satisfied: pygments in /usr/local/lib/python3.8/dist-packages (from ipython>=4.0.0->ipywidgets) (2.6.1)\n",
            "Requirement already satisfied: backcall in /usr/local/lib/python3.8/dist-packages (from ipython>=4.0.0->ipywidgets) (0.2.0)\n",
            "Requirement already satisfied: pickleshare in /usr/local/lib/python3.8/dist-packages (from ipython>=4.0.0->ipywidgets) (0.7.5)\n",
            "Requirement already satisfied: prompt-toolkit<2.1.0,>=2.0.0 in /usr/local/lib/python3.8/dist-packages (from ipython>=4.0.0->ipywidgets) (2.0.10)\n",
            "Requirement already satisfied: decorator in /usr/local/lib/python3.8/dist-packages (from ipython>=4.0.0->ipywidgets) (4.4.2)\n",
            "Requirement already satisfied: parso<0.9.0,>=0.8.0 in /usr/local/lib/python3.8/dist-packages (from jedi>=0.10->ipython>=4.0.0->ipywidgets) (0.8.3)\n",
            "Requirement already satisfied: six>=1.9.0 in /usr/local/lib/python3.8/dist-packages (from prompt-toolkit<2.1.0,>=2.0.0->ipython>=4.0.0->ipywidgets) (1.15.0)\n",
            "Requirement already satisfied: wcwidth in /usr/local/lib/python3.8/dist-packages (from prompt-toolkit<2.1.0,>=2.0.0->ipython>=4.0.0->ipywidgets) (0.2.5)\n",
            "Requirement already satisfied: notebook>=4.4.1 in /usr/local/lib/python3.8/dist-packages (from widgetsnbextension~=3.6.0->ipywidgets) (5.7.16)\n",
            "Requirement already satisfied: pyzmq>=17 in /usr/local/lib/python3.8/dist-packages (from notebook>=4.4.1->widgetsnbextension~=3.6.0->ipywidgets) (23.2.1)\n",
            "Requirement already satisfied: terminado>=0.8.1 in /usr/local/lib/python3.8/dist-packages (from notebook>=4.4.1->widgetsnbextension~=3.6.0->ipywidgets) (0.13.3)\n",
            "Requirement already satisfied: prometheus-client in /usr/local/lib/python3.8/dist-packages (from notebook>=4.4.1->widgetsnbextension~=3.6.0->ipywidgets) (0.15.0)\n",
            "Requirement already satisfied: Send2Trash in /usr/local/lib/python3.8/dist-packages (from notebook>=4.4.1->widgetsnbextension~=3.6.0->ipywidgets) (1.8.0)\n",
            "Requirement already satisfied: nbconvert<6.0 in /usr/local/lib/python3.8/dist-packages (from notebook>=4.4.1->widgetsnbextension~=3.6.0->ipywidgets) (5.6.1)\n",
            "Requirement already satisfied: nbformat in /usr/local/lib/python3.8/dist-packages (from notebook>=4.4.1->widgetsnbextension~=3.6.0->ipywidgets) (5.7.0)\n",
            "Requirement already satisfied: jupyter-core>=4.4.0 in /usr/local/lib/python3.8/dist-packages (from notebook>=4.4.1->widgetsnbextension~=3.6.0->ipywidgets) (5.1.0)\n",
            "Requirement already satisfied: jinja2<=3.0.0 in /usr/local/lib/python3.8/dist-packages (from notebook>=4.4.1->widgetsnbextension~=3.6.0->ipywidgets) (2.11.3)\n",
            "Requirement already satisfied: MarkupSafe>=0.23 in /usr/local/lib/python3.8/dist-packages (from jinja2<=3.0.0->notebook>=4.4.1->widgetsnbextension~=3.6.0->ipywidgets) (2.0.1)\n",
            "Requirement already satisfied: python-dateutil>=2.1 in /usr/local/lib/python3.8/dist-packages (from jupyter-client->ipykernel>=4.5.1->ipywidgets) (2.8.2)\n",
            "Requirement already satisfied: platformdirs>=2.5 in /usr/local/lib/python3.8/dist-packages (from jupyter-core>=4.4.0->notebook>=4.4.1->widgetsnbextension~=3.6.0->ipywidgets) (2.5.4)\n",
            "Requirement already satisfied: defusedxml in /usr/local/lib/python3.8/dist-packages (from nbconvert<6.0->notebook>=4.4.1->widgetsnbextension~=3.6.0->ipywidgets) (0.7.1)\n",
            "Requirement already satisfied: bleach in /usr/local/lib/python3.8/dist-packages (from nbconvert<6.0->notebook>=4.4.1->widgetsnbextension~=3.6.0->ipywidgets) (5.0.1)\n",
            "Requirement already satisfied: pandocfilters>=1.4.1 in /usr/local/lib/python3.8/dist-packages (from nbconvert<6.0->notebook>=4.4.1->widgetsnbextension~=3.6.0->ipywidgets) (1.5.0)\n",
            "Requirement already satisfied: mistune<2,>=0.8.1 in /usr/local/lib/python3.8/dist-packages (from nbconvert<6.0->notebook>=4.4.1->widgetsnbextension~=3.6.0->ipywidgets) (0.8.4)\n",
            "Requirement already satisfied: entrypoints>=0.2.2 in /usr/local/lib/python3.8/dist-packages (from nbconvert<6.0->notebook>=4.4.1->widgetsnbextension~=3.6.0->ipywidgets) (0.4)\n",
            "Requirement already satisfied: testpath in /usr/local/lib/python3.8/dist-packages (from nbconvert<6.0->notebook>=4.4.1->widgetsnbextension~=3.6.0->ipywidgets) (0.6.0)\n",
            "Requirement already satisfied: jsonschema>=2.6 in /usr/local/lib/python3.8/dist-packages (from nbformat->notebook>=4.4.1->widgetsnbextension~=3.6.0->ipywidgets) (4.3.3)\n",
            "Requirement already satisfied: fastjsonschema in /usr/local/lib/python3.8/dist-packages (from nbformat->notebook>=4.4.1->widgetsnbextension~=3.6.0->ipywidgets) (2.16.2)\n",
            "Requirement already satisfied: pyrsistent!=0.17.0,!=0.17.1,!=0.17.2,>=0.14.0 in /usr/local/lib/python3.8/dist-packages (from jsonschema>=2.6->nbformat->notebook>=4.4.1->widgetsnbextension~=3.6.0->ipywidgets) (0.19.2)\n",
            "Requirement already satisfied: importlib-resources>=1.4.0 in /usr/local/lib/python3.8/dist-packages (from jsonschema>=2.6->nbformat->notebook>=4.4.1->widgetsnbextension~=3.6.0->ipywidgets) (5.10.0)\n",
            "Requirement already satisfied: attrs>=17.4.0 in /usr/local/lib/python3.8/dist-packages (from jsonschema>=2.6->nbformat->notebook>=4.4.1->widgetsnbextension~=3.6.0->ipywidgets) (22.1.0)\n",
            "Requirement already satisfied: zipp>=3.1.0 in /usr/local/lib/python3.8/dist-packages (from importlib-resources>=1.4.0->jsonschema>=2.6->nbformat->notebook>=4.4.1->widgetsnbextension~=3.6.0->ipywidgets) (3.11.0)\n",
            "Requirement already satisfied: ptyprocess in /usr/local/lib/python3.8/dist-packages (from terminado>=0.8.1->notebook>=4.4.1->widgetsnbextension~=3.6.0->ipywidgets) (0.7.0)\n",
            "Requirement already satisfied: webencodings in /usr/local/lib/python3.8/dist-packages (from bleach->nbconvert<6.0->notebook>=4.4.1->widgetsnbextension~=3.6.0->ipywidgets) (0.5.1)\n",
            "Looking in indexes: https://pypi.org/simple, https://us-python.pkg.dev/colab-wheels/public/simple/\n",
            "Requirement already satisfied: kaleido in /usr/local/lib/python3.8/dist-packages (0.2.1)\n",
            "--2022-12-13 19:58:08--  https://raw.githubusercontent.com/pattichis/lineart/main/lineart.py\n",
            "Resolving raw.githubusercontent.com (raw.githubusercontent.com)... 185.199.111.133, 185.199.108.133, 185.199.110.133, ...\n",
            "Connecting to raw.githubusercontent.com (raw.githubusercontent.com)|185.199.111.133|:443... connected.\n",
            "HTTP request sent, awaiting response... 200 OK\n",
            "Length: 19260 (19K) [text/plain]\n",
            "Saving to: ‘lineart.py.1’\n",
            "\n",
            "lineart.py.1        100%[===================>]  18.81K  --.-KB/s    in 0.001s  \n",
            "\n",
            "2022-12-13 19:58:08 (13.6 MB/s) - ‘lineart.py.1’ saved [19260/19260]\n",
            "\n"
          ]
        }
      ],
      "source": [
        "# Install the libraries\n",
        "!pip install ipywidgets\n",
        "!pip install kaleido\n",
        "\n",
        "# Grab your libary \n",
        "!wget https://raw.githubusercontent.com/pattichis/lineart/main/lineart.py\n",
        "\n",
        "# You only need to import the functions that you are using.\n",
        "\n",
        "from IPython.display import HTML\n",
        "\n",
        "import lineart \n",
        "from lineart import cuteGraph, CreateVideo"
      ]
    },
    {
      "cell_type": "markdown",
      "source": [
        "# Object Oriented Programming\n",
        "The following code create a <tt>cuteGraph</tt>\n",
        "<b>object</b> and stores it in <tt>NiceGr</tt>.\n",
        "```\n",
        "NiceGr = cuteGraph() \n",
        "```\n",
        "<tt>NiceGr</tt> objects can be used to prepare plots.\n",
        "\n",
        "<tt>NiceGr.point()</tt> can be used to specify a point using:\n",
        "```\n",
        "NiceGr.point(x=4, y=5, color='blue')\n",
        "```\n",
        "In this example, we want to plot a point with coordinates <tt>(4, 5)</tt> and the point is blue. Note that the colors are specified using strings.\n",
        "\n",
        "We can then see the points on the graph using:\n",
        "```\n",
        "NiceGr.plotAll()\n",
        "```\n",
        "\n",
        "\n",
        "## Assignment\n",
        "Run the code below and plot three different points.\n",
        "\n",
        "You can try different colors. Here is a list of colors:\n",
        "* color=\"red\"\n",
        "* color=\"green\"\n",
        "* color=\"blue\"\n",
        "* color=\"yellow\"\n"
      ],
      "metadata": {
        "id": "TRS2iLxlVaFc"
      }
    },
    {
      "cell_type": "code",
      "source": [
        "# Create the object\n",
        "NiceGr = cuteGraph() \n",
        "\n",
        "# Add a point to the graph\n",
        "NiceGr.point(x=4, y=5, color='blue')\n",
        "\n",
        "# Show the graph\n",
        "NiceGr.plotAll() "
      ],
      "metadata": {
        "colab": {
          "base_uri": "https://localhost:8080/",
          "height": 0
        },
        "id": "gWhoko87VqxI",
        "outputId": "a5e577dc-8ab2-460d-be17-e68258718146"
      },
      "execution_count": 2,
      "outputs": [
        {
          "output_type": "display_data",
          "data": {
            "text/html": [
              "<html>\n",
              "<head><meta charset=\"utf-8\" /></head>\n",
              "<body>\n",
              "    <div>            <script src=\"https://cdnjs.cloudflare.com/ajax/libs/mathjax/2.7.5/MathJax.js?config=TeX-AMS-MML_SVG\"></script><script type=\"text/javascript\">if (window.MathJax) {MathJax.Hub.Config({SVG: {font: \"STIX-Web\"}});}</script>                <script type=\"text/javascript\">window.PlotlyConfig = {MathJaxConfig: 'local'};</script>\n",
              "        <script src=\"https://cdn.plot.ly/plotly-2.8.3.min.js\"></script>                <div id=\"c063df8d-105a-4583-9589-4117d00476b3\" class=\"plotly-graph-div\" style=\"height:525px; width:100%;\"></div>            <script type=\"text/javascript\">                                    window.PLOTLYENV=window.PLOTLYENV || {};                                    if (document.getElementById(\"c063df8d-105a-4583-9589-4117d00476b3\")) {                    Plotly.newPlot(                        \"c063df8d-105a-4583-9589-4117d00476b3\",                        [{\"marker\":{\"line\":{\"color\":\"blue\",\"width\":2},\"size\":18,\"symbol\":\"x\"},\"mode\":\"markers\",\"name\":\"Point (4 ,5)\",\"x\":[4],\"y\":[5],\"type\":\"scatter\"}],                        {\"template\":{\"data\":{\"bar\":[{\"error_x\":{\"color\":\"#2a3f5f\"},\"error_y\":{\"color\":\"#2a3f5f\"},\"marker\":{\"line\":{\"color\":\"#E5ECF6\",\"width\":0.5},\"pattern\":{\"fillmode\":\"overlay\",\"size\":10,\"solidity\":0.2}},\"type\":\"bar\"}],\"barpolar\":[{\"marker\":{\"line\":{\"color\":\"#E5ECF6\",\"width\":0.5},\"pattern\":{\"fillmode\":\"overlay\",\"size\":10,\"solidity\":0.2}},\"type\":\"barpolar\"}],\"carpet\":[{\"aaxis\":{\"endlinecolor\":\"#2a3f5f\",\"gridcolor\":\"white\",\"linecolor\":\"white\",\"minorgridcolor\":\"white\",\"startlinecolor\":\"#2a3f5f\"},\"baxis\":{\"endlinecolor\":\"#2a3f5f\",\"gridcolor\":\"white\",\"linecolor\":\"white\",\"minorgridcolor\":\"white\",\"startlinecolor\":\"#2a3f5f\"},\"type\":\"carpet\"}],\"choropleth\":[{\"colorbar\":{\"outlinewidth\":0,\"ticks\":\"\"},\"type\":\"choropleth\"}],\"contour\":[{\"colorbar\":{\"outlinewidth\":0,\"ticks\":\"\"},\"colorscale\":[[0.0,\"#0d0887\"],[0.1111111111111111,\"#46039f\"],[0.2222222222222222,\"#7201a8\"],[0.3333333333333333,\"#9c179e\"],[0.4444444444444444,\"#bd3786\"],[0.5555555555555556,\"#d8576b\"],[0.6666666666666666,\"#ed7953\"],[0.7777777777777778,\"#fb9f3a\"],[0.8888888888888888,\"#fdca26\"],[1.0,\"#f0f921\"]],\"type\":\"contour\"}],\"contourcarpet\":[{\"colorbar\":{\"outlinewidth\":0,\"ticks\":\"\"},\"type\":\"contourcarpet\"}],\"heatmap\":[{\"colorbar\":{\"outlinewidth\":0,\"ticks\":\"\"},\"colorscale\":[[0.0,\"#0d0887\"],[0.1111111111111111,\"#46039f\"],[0.2222222222222222,\"#7201a8\"],[0.3333333333333333,\"#9c179e\"],[0.4444444444444444,\"#bd3786\"],[0.5555555555555556,\"#d8576b\"],[0.6666666666666666,\"#ed7953\"],[0.7777777777777778,\"#fb9f3a\"],[0.8888888888888888,\"#fdca26\"],[1.0,\"#f0f921\"]],\"type\":\"heatmap\"}],\"heatmapgl\":[{\"colorbar\":{\"outlinewidth\":0,\"ticks\":\"\"},\"colorscale\":[[0.0,\"#0d0887\"],[0.1111111111111111,\"#46039f\"],[0.2222222222222222,\"#7201a8\"],[0.3333333333333333,\"#9c179e\"],[0.4444444444444444,\"#bd3786\"],[0.5555555555555556,\"#d8576b\"],[0.6666666666666666,\"#ed7953\"],[0.7777777777777778,\"#fb9f3a\"],[0.8888888888888888,\"#fdca26\"],[1.0,\"#f0f921\"]],\"type\":\"heatmapgl\"}],\"histogram\":[{\"marker\":{\"pattern\":{\"fillmode\":\"overlay\",\"size\":10,\"solidity\":0.2}},\"type\":\"histogram\"}],\"histogram2d\":[{\"colorbar\":{\"outlinewidth\":0,\"ticks\":\"\"},\"colorscale\":[[0.0,\"#0d0887\"],[0.1111111111111111,\"#46039f\"],[0.2222222222222222,\"#7201a8\"],[0.3333333333333333,\"#9c179e\"],[0.4444444444444444,\"#bd3786\"],[0.5555555555555556,\"#d8576b\"],[0.6666666666666666,\"#ed7953\"],[0.7777777777777778,\"#fb9f3a\"],[0.8888888888888888,\"#fdca26\"],[1.0,\"#f0f921\"]],\"type\":\"histogram2d\"}],\"histogram2dcontour\":[{\"colorbar\":{\"outlinewidth\":0,\"ticks\":\"\"},\"colorscale\":[[0.0,\"#0d0887\"],[0.1111111111111111,\"#46039f\"],[0.2222222222222222,\"#7201a8\"],[0.3333333333333333,\"#9c179e\"],[0.4444444444444444,\"#bd3786\"],[0.5555555555555556,\"#d8576b\"],[0.6666666666666666,\"#ed7953\"],[0.7777777777777778,\"#fb9f3a\"],[0.8888888888888888,\"#fdca26\"],[1.0,\"#f0f921\"]],\"type\":\"histogram2dcontour\"}],\"mesh3d\":[{\"colorbar\":{\"outlinewidth\":0,\"ticks\":\"\"},\"type\":\"mesh3d\"}],\"parcoords\":[{\"line\":{\"colorbar\":{\"outlinewidth\":0,\"ticks\":\"\"}},\"type\":\"parcoords\"}],\"pie\":[{\"automargin\":true,\"type\":\"pie\"}],\"scatter\":[{\"marker\":{\"colorbar\":{\"outlinewidth\":0,\"ticks\":\"\"}},\"type\":\"scatter\"}],\"scatter3d\":[{\"line\":{\"colorbar\":{\"outlinewidth\":0,\"ticks\":\"\"}},\"marker\":{\"colorbar\":{\"outlinewidth\":0,\"ticks\":\"\"}},\"type\":\"scatter3d\"}],\"scattercarpet\":[{\"marker\":{\"colorbar\":{\"outlinewidth\":0,\"ticks\":\"\"}},\"type\":\"scattercarpet\"}],\"scattergeo\":[{\"marker\":{\"colorbar\":{\"outlinewidth\":0,\"ticks\":\"\"}},\"type\":\"scattergeo\"}],\"scattergl\":[{\"marker\":{\"colorbar\":{\"outlinewidth\":0,\"ticks\":\"\"}},\"type\":\"scattergl\"}],\"scattermapbox\":[{\"marker\":{\"colorbar\":{\"outlinewidth\":0,\"ticks\":\"\"}},\"type\":\"scattermapbox\"}],\"scatterpolar\":[{\"marker\":{\"colorbar\":{\"outlinewidth\":0,\"ticks\":\"\"}},\"type\":\"scatterpolar\"}],\"scatterpolargl\":[{\"marker\":{\"colorbar\":{\"outlinewidth\":0,\"ticks\":\"\"}},\"type\":\"scatterpolargl\"}],\"scatterternary\":[{\"marker\":{\"colorbar\":{\"outlinewidth\":0,\"ticks\":\"\"}},\"type\":\"scatterternary\"}],\"surface\":[{\"colorbar\":{\"outlinewidth\":0,\"ticks\":\"\"},\"colorscale\":[[0.0,\"#0d0887\"],[0.1111111111111111,\"#46039f\"],[0.2222222222222222,\"#7201a8\"],[0.3333333333333333,\"#9c179e\"],[0.4444444444444444,\"#bd3786\"],[0.5555555555555556,\"#d8576b\"],[0.6666666666666666,\"#ed7953\"],[0.7777777777777778,\"#fb9f3a\"],[0.8888888888888888,\"#fdca26\"],[1.0,\"#f0f921\"]],\"type\":\"surface\"}],\"table\":[{\"cells\":{\"fill\":{\"color\":\"#EBF0F8\"},\"line\":{\"color\":\"white\"}},\"header\":{\"fill\":{\"color\":\"#C8D4E3\"},\"line\":{\"color\":\"white\"}},\"type\":\"table\"}]},\"layout\":{\"annotationdefaults\":{\"arrowcolor\":\"#2a3f5f\",\"arrowhead\":0,\"arrowwidth\":1},\"autotypenumbers\":\"strict\",\"coloraxis\":{\"colorbar\":{\"outlinewidth\":0,\"ticks\":\"\"}},\"colorscale\":{\"diverging\":[[0,\"#8e0152\"],[0.1,\"#c51b7d\"],[0.2,\"#de77ae\"],[0.3,\"#f1b6da\"],[0.4,\"#fde0ef\"],[0.5,\"#f7f7f7\"],[0.6,\"#e6f5d0\"],[0.7,\"#b8e186\"],[0.8,\"#7fbc41\"],[0.9,\"#4d9221\"],[1,\"#276419\"]],\"sequential\":[[0.0,\"#0d0887\"],[0.1111111111111111,\"#46039f\"],[0.2222222222222222,\"#7201a8\"],[0.3333333333333333,\"#9c179e\"],[0.4444444444444444,\"#bd3786\"],[0.5555555555555556,\"#d8576b\"],[0.6666666666666666,\"#ed7953\"],[0.7777777777777778,\"#fb9f3a\"],[0.8888888888888888,\"#fdca26\"],[1.0,\"#f0f921\"]],\"sequentialminus\":[[0.0,\"#0d0887\"],[0.1111111111111111,\"#46039f\"],[0.2222222222222222,\"#7201a8\"],[0.3333333333333333,\"#9c179e\"],[0.4444444444444444,\"#bd3786\"],[0.5555555555555556,\"#d8576b\"],[0.6666666666666666,\"#ed7953\"],[0.7777777777777778,\"#fb9f3a\"],[0.8888888888888888,\"#fdca26\"],[1.0,\"#f0f921\"]]},\"colorway\":[\"#636efa\",\"#EF553B\",\"#00cc96\",\"#ab63fa\",\"#FFA15A\",\"#19d3f3\",\"#FF6692\",\"#B6E880\",\"#FF97FF\",\"#FECB52\"],\"font\":{\"color\":\"#2a3f5f\"},\"geo\":{\"bgcolor\":\"white\",\"lakecolor\":\"white\",\"landcolor\":\"#E5ECF6\",\"showlakes\":true,\"showland\":true,\"subunitcolor\":\"white\"},\"hoverlabel\":{\"align\":\"left\"},\"hovermode\":\"closest\",\"mapbox\":{\"style\":\"light\"},\"paper_bgcolor\":\"white\",\"plot_bgcolor\":\"#E5ECF6\",\"polar\":{\"angularaxis\":{\"gridcolor\":\"white\",\"linecolor\":\"white\",\"ticks\":\"\"},\"bgcolor\":\"#E5ECF6\",\"radialaxis\":{\"gridcolor\":\"white\",\"linecolor\":\"white\",\"ticks\":\"\"}},\"scene\":{\"xaxis\":{\"backgroundcolor\":\"#E5ECF6\",\"gridcolor\":\"white\",\"gridwidth\":2,\"linecolor\":\"white\",\"showbackground\":true,\"ticks\":\"\",\"zerolinecolor\":\"white\"},\"yaxis\":{\"backgroundcolor\":\"#E5ECF6\",\"gridcolor\":\"white\",\"gridwidth\":2,\"linecolor\":\"white\",\"showbackground\":true,\"ticks\":\"\",\"zerolinecolor\":\"white\"},\"zaxis\":{\"backgroundcolor\":\"#E5ECF6\",\"gridcolor\":\"white\",\"gridwidth\":2,\"linecolor\":\"white\",\"showbackground\":true,\"ticks\":\"\",\"zerolinecolor\":\"white\"}},\"shapedefaults\":{\"line\":{\"color\":\"#2a3f5f\"}},\"ternary\":{\"aaxis\":{\"gridcolor\":\"white\",\"linecolor\":\"white\",\"ticks\":\"\"},\"baxis\":{\"gridcolor\":\"white\",\"linecolor\":\"white\",\"ticks\":\"\"},\"bgcolor\":\"#E5ECF6\",\"caxis\":{\"gridcolor\":\"white\",\"linecolor\":\"white\",\"ticks\":\"\"}},\"title\":{\"x\":0.05},\"xaxis\":{\"automargin\":true,\"gridcolor\":\"white\",\"linecolor\":\"white\",\"ticks\":\"\",\"title\":{\"standoff\":15},\"zerolinecolor\":\"white\",\"zerolinewidth\":2},\"yaxis\":{\"automargin\":true,\"gridcolor\":\"white\",\"linecolor\":\"white\",\"ticks\":\"\",\"title\":{\"standoff\":15},\"zerolinecolor\":\"white\",\"zerolinewidth\":2}}},\"font\":{\"family\":\"Courier New, monospace\",\"size\":12,\"color\":\"RebeccaPurple\"},\"title\":{\"text\":\"Plots\"},\"xaxis\":{\"title\":{\"text\":\"X\"},\"visible\":true},\"yaxis\":{\"title\":{\"text\":\"Y\"},\"visible\":true},\"legend\":{\"title\":{\"text\":\"List\"}},\"showlegend\":true},                        {\"responsive\": true}                    ).then(function(){\n",
              "                            \n",
              "var gd = document.getElementById('c063df8d-105a-4583-9589-4117d00476b3');\n",
              "var x = new MutationObserver(function (mutations, observer) {{\n",
              "        var display = window.getComputedStyle(gd).display;\n",
              "        if (!display || display === 'none') {{\n",
              "            console.log([gd, 'removed!']);\n",
              "            Plotly.purge(gd);\n",
              "            observer.disconnect();\n",
              "        }}\n",
              "}});\n",
              "\n",
              "// Listen for the removal of the full notebook cells\n",
              "var notebookContainer = gd.closest('#notebook-container');\n",
              "if (notebookContainer) {{\n",
              "    x.observe(notebookContainer, {childList: true});\n",
              "}}\n",
              "\n",
              "// Listen for the clearing of the current output cell\n",
              "var outputEl = gd.closest('.output');\n",
              "if (outputEl) {{\n",
              "    x.observe(outputEl, {childList: true});\n",
              "}}\n",
              "\n",
              "                        })                };                            </script>        </div>\n",
              "</body>\n",
              "</html>"
            ]
          },
          "metadata": {}
        }
      ]
    },
    {
      "cell_type": "markdown",
      "source": [
        "# Points, lines, rectangles, and text"
      ],
      "metadata": {
        "id": "4oEmchhi9fll"
      }
    },
    {
      "cell_type": "markdown",
      "source": [
        "## Plot points\n",
        "We can plot multiple point by simply repeating the function call with more points:\n",
        "```\n",
        "NiceGr.point(x=1, y=2, color='red')\n",
        "NiceGr.point(x=3, y=4, color='green')\n",
        "```\n",
        "\n",
        "## Assignment\n",
        "\n",
        "Plot three additional points.\n",
        "\n"
      ],
      "metadata": {
        "id": "rzZpUgfQ-hiO"
      }
    },
    {
      "cell_type": "code",
      "source": [
        "# Create the object\n",
        "NiceGr = cuteGraph() \n",
        "\n",
        "# Add a point to the graph\n",
        "NiceGr.point(x=1, y=2, color='red')\n",
        "NiceGr.point(x=3, y=4, color='green')\n",
        "\n",
        "# Show the graph\n",
        "NiceGr.plotAll() "
      ],
      "metadata": {
        "colab": {
          "base_uri": "https://localhost:8080/",
          "height": 0
        },
        "id": "eQvSTZDN_AaX",
        "outputId": "a1b1dd58-ca87-4c44-a4fb-412dbbe6a19f"
      },
      "execution_count": 3,
      "outputs": [
        {
          "output_type": "display_data",
          "data": {
            "text/html": [
              "<html>\n",
              "<head><meta charset=\"utf-8\" /></head>\n",
              "<body>\n",
              "    <div>            <script src=\"https://cdnjs.cloudflare.com/ajax/libs/mathjax/2.7.5/MathJax.js?config=TeX-AMS-MML_SVG\"></script><script type=\"text/javascript\">if (window.MathJax) {MathJax.Hub.Config({SVG: {font: \"STIX-Web\"}});}</script>                <script type=\"text/javascript\">window.PlotlyConfig = {MathJaxConfig: 'local'};</script>\n",
              "        <script src=\"https://cdn.plot.ly/plotly-2.8.3.min.js\"></script>                <div id=\"6c746313-4ee3-4961-9de3-ae785fe05c4e\" class=\"plotly-graph-div\" style=\"height:525px; width:100%;\"></div>            <script type=\"text/javascript\">                                    window.PLOTLYENV=window.PLOTLYENV || {};                                    if (document.getElementById(\"6c746313-4ee3-4961-9de3-ae785fe05c4e\")) {                    Plotly.newPlot(                        \"6c746313-4ee3-4961-9de3-ae785fe05c4e\",                        [{\"marker\":{\"line\":{\"color\":\"red\",\"width\":2},\"size\":18,\"symbol\":\"x\"},\"mode\":\"markers\",\"name\":\"Point (1 ,2)\",\"x\":[1],\"y\":[2],\"type\":\"scatter\"},{\"marker\":{\"line\":{\"color\":\"green\",\"width\":2},\"size\":18,\"symbol\":\"x\"},\"mode\":\"markers\",\"name\":\"Point (3 ,4)\",\"x\":[3],\"y\":[4],\"type\":\"scatter\"}],                        {\"template\":{\"data\":{\"bar\":[{\"error_x\":{\"color\":\"#2a3f5f\"},\"error_y\":{\"color\":\"#2a3f5f\"},\"marker\":{\"line\":{\"color\":\"#E5ECF6\",\"width\":0.5},\"pattern\":{\"fillmode\":\"overlay\",\"size\":10,\"solidity\":0.2}},\"type\":\"bar\"}],\"barpolar\":[{\"marker\":{\"line\":{\"color\":\"#E5ECF6\",\"width\":0.5},\"pattern\":{\"fillmode\":\"overlay\",\"size\":10,\"solidity\":0.2}},\"type\":\"barpolar\"}],\"carpet\":[{\"aaxis\":{\"endlinecolor\":\"#2a3f5f\",\"gridcolor\":\"white\",\"linecolor\":\"white\",\"minorgridcolor\":\"white\",\"startlinecolor\":\"#2a3f5f\"},\"baxis\":{\"endlinecolor\":\"#2a3f5f\",\"gridcolor\":\"white\",\"linecolor\":\"white\",\"minorgridcolor\":\"white\",\"startlinecolor\":\"#2a3f5f\"},\"type\":\"carpet\"}],\"choropleth\":[{\"colorbar\":{\"outlinewidth\":0,\"ticks\":\"\"},\"type\":\"choropleth\"}],\"contour\":[{\"colorbar\":{\"outlinewidth\":0,\"ticks\":\"\"},\"colorscale\":[[0.0,\"#0d0887\"],[0.1111111111111111,\"#46039f\"],[0.2222222222222222,\"#7201a8\"],[0.3333333333333333,\"#9c179e\"],[0.4444444444444444,\"#bd3786\"],[0.5555555555555556,\"#d8576b\"],[0.6666666666666666,\"#ed7953\"],[0.7777777777777778,\"#fb9f3a\"],[0.8888888888888888,\"#fdca26\"],[1.0,\"#f0f921\"]],\"type\":\"contour\"}],\"contourcarpet\":[{\"colorbar\":{\"outlinewidth\":0,\"ticks\":\"\"},\"type\":\"contourcarpet\"}],\"heatmap\":[{\"colorbar\":{\"outlinewidth\":0,\"ticks\":\"\"},\"colorscale\":[[0.0,\"#0d0887\"],[0.1111111111111111,\"#46039f\"],[0.2222222222222222,\"#7201a8\"],[0.3333333333333333,\"#9c179e\"],[0.4444444444444444,\"#bd3786\"],[0.5555555555555556,\"#d8576b\"],[0.6666666666666666,\"#ed7953\"],[0.7777777777777778,\"#fb9f3a\"],[0.8888888888888888,\"#fdca26\"],[1.0,\"#f0f921\"]],\"type\":\"heatmap\"}],\"heatmapgl\":[{\"colorbar\":{\"outlinewidth\":0,\"ticks\":\"\"},\"colorscale\":[[0.0,\"#0d0887\"],[0.1111111111111111,\"#46039f\"],[0.2222222222222222,\"#7201a8\"],[0.3333333333333333,\"#9c179e\"],[0.4444444444444444,\"#bd3786\"],[0.5555555555555556,\"#d8576b\"],[0.6666666666666666,\"#ed7953\"],[0.7777777777777778,\"#fb9f3a\"],[0.8888888888888888,\"#fdca26\"],[1.0,\"#f0f921\"]],\"type\":\"heatmapgl\"}],\"histogram\":[{\"marker\":{\"pattern\":{\"fillmode\":\"overlay\",\"size\":10,\"solidity\":0.2}},\"type\":\"histogram\"}],\"histogram2d\":[{\"colorbar\":{\"outlinewidth\":0,\"ticks\":\"\"},\"colorscale\":[[0.0,\"#0d0887\"],[0.1111111111111111,\"#46039f\"],[0.2222222222222222,\"#7201a8\"],[0.3333333333333333,\"#9c179e\"],[0.4444444444444444,\"#bd3786\"],[0.5555555555555556,\"#d8576b\"],[0.6666666666666666,\"#ed7953\"],[0.7777777777777778,\"#fb9f3a\"],[0.8888888888888888,\"#fdca26\"],[1.0,\"#f0f921\"]],\"type\":\"histogram2d\"}],\"histogram2dcontour\":[{\"colorbar\":{\"outlinewidth\":0,\"ticks\":\"\"},\"colorscale\":[[0.0,\"#0d0887\"],[0.1111111111111111,\"#46039f\"],[0.2222222222222222,\"#7201a8\"],[0.3333333333333333,\"#9c179e\"],[0.4444444444444444,\"#bd3786\"],[0.5555555555555556,\"#d8576b\"],[0.6666666666666666,\"#ed7953\"],[0.7777777777777778,\"#fb9f3a\"],[0.8888888888888888,\"#fdca26\"],[1.0,\"#f0f921\"]],\"type\":\"histogram2dcontour\"}],\"mesh3d\":[{\"colorbar\":{\"outlinewidth\":0,\"ticks\":\"\"},\"type\":\"mesh3d\"}],\"parcoords\":[{\"line\":{\"colorbar\":{\"outlinewidth\":0,\"ticks\":\"\"}},\"type\":\"parcoords\"}],\"pie\":[{\"automargin\":true,\"type\":\"pie\"}],\"scatter\":[{\"marker\":{\"colorbar\":{\"outlinewidth\":0,\"ticks\":\"\"}},\"type\":\"scatter\"}],\"scatter3d\":[{\"line\":{\"colorbar\":{\"outlinewidth\":0,\"ticks\":\"\"}},\"marker\":{\"colorbar\":{\"outlinewidth\":0,\"ticks\":\"\"}},\"type\":\"scatter3d\"}],\"scattercarpet\":[{\"marker\":{\"colorbar\":{\"outlinewidth\":0,\"ticks\":\"\"}},\"type\":\"scattercarpet\"}],\"scattergeo\":[{\"marker\":{\"colorbar\":{\"outlinewidth\":0,\"ticks\":\"\"}},\"type\":\"scattergeo\"}],\"scattergl\":[{\"marker\":{\"colorbar\":{\"outlinewidth\":0,\"ticks\":\"\"}},\"type\":\"scattergl\"}],\"scattermapbox\":[{\"marker\":{\"colorbar\":{\"outlinewidth\":0,\"ticks\":\"\"}},\"type\":\"scattermapbox\"}],\"scatterpolar\":[{\"marker\":{\"colorbar\":{\"outlinewidth\":0,\"ticks\":\"\"}},\"type\":\"scatterpolar\"}],\"scatterpolargl\":[{\"marker\":{\"colorbar\":{\"outlinewidth\":0,\"ticks\":\"\"}},\"type\":\"scatterpolargl\"}],\"scatterternary\":[{\"marker\":{\"colorbar\":{\"outlinewidth\":0,\"ticks\":\"\"}},\"type\":\"scatterternary\"}],\"surface\":[{\"colorbar\":{\"outlinewidth\":0,\"ticks\":\"\"},\"colorscale\":[[0.0,\"#0d0887\"],[0.1111111111111111,\"#46039f\"],[0.2222222222222222,\"#7201a8\"],[0.3333333333333333,\"#9c179e\"],[0.4444444444444444,\"#bd3786\"],[0.5555555555555556,\"#d8576b\"],[0.6666666666666666,\"#ed7953\"],[0.7777777777777778,\"#fb9f3a\"],[0.8888888888888888,\"#fdca26\"],[1.0,\"#f0f921\"]],\"type\":\"surface\"}],\"table\":[{\"cells\":{\"fill\":{\"color\":\"#EBF0F8\"},\"line\":{\"color\":\"white\"}},\"header\":{\"fill\":{\"color\":\"#C8D4E3\"},\"line\":{\"color\":\"white\"}},\"type\":\"table\"}]},\"layout\":{\"annotationdefaults\":{\"arrowcolor\":\"#2a3f5f\",\"arrowhead\":0,\"arrowwidth\":1},\"autotypenumbers\":\"strict\",\"coloraxis\":{\"colorbar\":{\"outlinewidth\":0,\"ticks\":\"\"}},\"colorscale\":{\"diverging\":[[0,\"#8e0152\"],[0.1,\"#c51b7d\"],[0.2,\"#de77ae\"],[0.3,\"#f1b6da\"],[0.4,\"#fde0ef\"],[0.5,\"#f7f7f7\"],[0.6,\"#e6f5d0\"],[0.7,\"#b8e186\"],[0.8,\"#7fbc41\"],[0.9,\"#4d9221\"],[1,\"#276419\"]],\"sequential\":[[0.0,\"#0d0887\"],[0.1111111111111111,\"#46039f\"],[0.2222222222222222,\"#7201a8\"],[0.3333333333333333,\"#9c179e\"],[0.4444444444444444,\"#bd3786\"],[0.5555555555555556,\"#d8576b\"],[0.6666666666666666,\"#ed7953\"],[0.7777777777777778,\"#fb9f3a\"],[0.8888888888888888,\"#fdca26\"],[1.0,\"#f0f921\"]],\"sequentialminus\":[[0.0,\"#0d0887\"],[0.1111111111111111,\"#46039f\"],[0.2222222222222222,\"#7201a8\"],[0.3333333333333333,\"#9c179e\"],[0.4444444444444444,\"#bd3786\"],[0.5555555555555556,\"#d8576b\"],[0.6666666666666666,\"#ed7953\"],[0.7777777777777778,\"#fb9f3a\"],[0.8888888888888888,\"#fdca26\"],[1.0,\"#f0f921\"]]},\"colorway\":[\"#636efa\",\"#EF553B\",\"#00cc96\",\"#ab63fa\",\"#FFA15A\",\"#19d3f3\",\"#FF6692\",\"#B6E880\",\"#FF97FF\",\"#FECB52\"],\"font\":{\"color\":\"#2a3f5f\"},\"geo\":{\"bgcolor\":\"white\",\"lakecolor\":\"white\",\"landcolor\":\"#E5ECF6\",\"showlakes\":true,\"showland\":true,\"subunitcolor\":\"white\"},\"hoverlabel\":{\"align\":\"left\"},\"hovermode\":\"closest\",\"mapbox\":{\"style\":\"light\"},\"paper_bgcolor\":\"white\",\"plot_bgcolor\":\"#E5ECF6\",\"polar\":{\"angularaxis\":{\"gridcolor\":\"white\",\"linecolor\":\"white\",\"ticks\":\"\"},\"bgcolor\":\"#E5ECF6\",\"radialaxis\":{\"gridcolor\":\"white\",\"linecolor\":\"white\",\"ticks\":\"\"}},\"scene\":{\"xaxis\":{\"backgroundcolor\":\"#E5ECF6\",\"gridcolor\":\"white\",\"gridwidth\":2,\"linecolor\":\"white\",\"showbackground\":true,\"ticks\":\"\",\"zerolinecolor\":\"white\"},\"yaxis\":{\"backgroundcolor\":\"#E5ECF6\",\"gridcolor\":\"white\",\"gridwidth\":2,\"linecolor\":\"white\",\"showbackground\":true,\"ticks\":\"\",\"zerolinecolor\":\"white\"},\"zaxis\":{\"backgroundcolor\":\"#E5ECF6\",\"gridcolor\":\"white\",\"gridwidth\":2,\"linecolor\":\"white\",\"showbackground\":true,\"ticks\":\"\",\"zerolinecolor\":\"white\"}},\"shapedefaults\":{\"line\":{\"color\":\"#2a3f5f\"}},\"ternary\":{\"aaxis\":{\"gridcolor\":\"white\",\"linecolor\":\"white\",\"ticks\":\"\"},\"baxis\":{\"gridcolor\":\"white\",\"linecolor\":\"white\",\"ticks\":\"\"},\"bgcolor\":\"#E5ECF6\",\"caxis\":{\"gridcolor\":\"white\",\"linecolor\":\"white\",\"ticks\":\"\"}},\"title\":{\"x\":0.05},\"xaxis\":{\"automargin\":true,\"gridcolor\":\"white\",\"linecolor\":\"white\",\"ticks\":\"\",\"title\":{\"standoff\":15},\"zerolinecolor\":\"white\",\"zerolinewidth\":2},\"yaxis\":{\"automargin\":true,\"gridcolor\":\"white\",\"linecolor\":\"white\",\"ticks\":\"\",\"title\":{\"standoff\":15},\"zerolinecolor\":\"white\",\"zerolinewidth\":2}}},\"font\":{\"family\":\"Courier New, monospace\",\"size\":12,\"color\":\"RebeccaPurple\"},\"title\":{\"text\":\"Plots\"},\"xaxis\":{\"title\":{\"text\":\"X\"},\"visible\":true},\"yaxis\":{\"title\":{\"text\":\"Y\"},\"visible\":true},\"legend\":{\"title\":{\"text\":\"List\"}},\"showlegend\":true},                        {\"responsive\": true}                    ).then(function(){\n",
              "                            \n",
              "var gd = document.getElementById('6c746313-4ee3-4961-9de3-ae785fe05c4e');\n",
              "var x = new MutationObserver(function (mutations, observer) {{\n",
              "        var display = window.getComputedStyle(gd).display;\n",
              "        if (!display || display === 'none') {{\n",
              "            console.log([gd, 'removed!']);\n",
              "            Plotly.purge(gd);\n",
              "            observer.disconnect();\n",
              "        }}\n",
              "}});\n",
              "\n",
              "// Listen for the removal of the full notebook cells\n",
              "var notebookContainer = gd.closest('#notebook-container');\n",
              "if (notebookContainer) {{\n",
              "    x.observe(notebookContainer, {childList: true});\n",
              "}}\n",
              "\n",
              "// Listen for the clearing of the current output cell\n",
              "var outputEl = gd.closest('.output');\n",
              "if (outputEl) {{\n",
              "    x.observe(outputEl, {childList: true});\n",
              "}}\n",
              "\n",
              "                        })                };                            </script>        </div>\n",
              "</body>\n",
              "</html>"
            ]
          },
          "metadata": {}
        }
      ]
    },
    {
      "cell_type": "markdown",
      "source": [
        "## Plot lines\n",
        "Our objects can also produce lines and rectangles.\n",
        "\n",
        "<b>After</b> creating the objects, you can plot a line segment using\n",
        "```\n",
        "NiceGr.lineseg(x1=0, y1=4, x2=2,  y2=6, color=\"yellow\")\n",
        "```\n",
        "This command defines a line from <tt>(x1, y1)=(0, 4)</tt> to <tt>(x2, y2)=(2, 6)</tt>. The line is yellow.\n",
        "\n",
        "## Assignment\n",
        "Run the code below.\n",
        "\n",
        "Try three different lines with different colors.\n",
        "\n"
      ],
      "metadata": {
        "id": "HQrLCNXFj4Eh"
      }
    },
    {
      "cell_type": "code",
      "source": [
        "# Create the object\n",
        "NiceGr = cuteGraph() \n",
        "\n",
        "# Add a line to the graph\n",
        "NiceGr.lineseg(x1=0, y1=4, x2=2,  y2=6, color=\"yellow\")\n",
        "\n",
        "# Add code for more lines\n",
        "\n",
        "\n",
        "# Show the graph\n",
        "NiceGr.plotAll() "
      ],
      "metadata": {
        "colab": {
          "base_uri": "https://localhost:8080/",
          "height": 0
        },
        "id": "F_5sx12BV3PG",
        "outputId": "5fb12512-f56d-4aac-cb12-a0c1e1a34677"
      },
      "execution_count": 4,
      "outputs": [
        {
          "output_type": "display_data",
          "data": {
            "text/html": [
              "<html>\n",
              "<head><meta charset=\"utf-8\" /></head>\n",
              "<body>\n",
              "    <div>            <script src=\"https://cdnjs.cloudflare.com/ajax/libs/mathjax/2.7.5/MathJax.js?config=TeX-AMS-MML_SVG\"></script><script type=\"text/javascript\">if (window.MathJax) {MathJax.Hub.Config({SVG: {font: \"STIX-Web\"}});}</script>                <script type=\"text/javascript\">window.PlotlyConfig = {MathJaxConfig: 'local'};</script>\n",
              "        <script src=\"https://cdn.plot.ly/plotly-2.8.3.min.js\"></script>                <div id=\"b1e01ff8-6dea-49b7-9062-0f6fe75b2f7f\" class=\"plotly-graph-div\" style=\"height:525px; width:100%;\"></div>            <script type=\"text/javascript\">                                    window.PLOTLYENV=window.PLOTLYENV || {};                                    if (document.getElementById(\"b1e01ff8-6dea-49b7-9062-0f6fe75b2f7f\")) {                    Plotly.newPlot(                        \"b1e01ff8-6dea-49b7-9062-0f6fe75b2f7f\",                        [{\"line\":{\"color\":\"yellow\",\"width\":2},\"mode\":\"lines+markers\",\"name\":\"Line segment (0, 4) to (2, 6)\",\"x\":[0,2],\"y\":[4,6],\"type\":\"scatter\"}],                        {\"template\":{\"data\":{\"bar\":[{\"error_x\":{\"color\":\"#2a3f5f\"},\"error_y\":{\"color\":\"#2a3f5f\"},\"marker\":{\"line\":{\"color\":\"#E5ECF6\",\"width\":0.5},\"pattern\":{\"fillmode\":\"overlay\",\"size\":10,\"solidity\":0.2}},\"type\":\"bar\"}],\"barpolar\":[{\"marker\":{\"line\":{\"color\":\"#E5ECF6\",\"width\":0.5},\"pattern\":{\"fillmode\":\"overlay\",\"size\":10,\"solidity\":0.2}},\"type\":\"barpolar\"}],\"carpet\":[{\"aaxis\":{\"endlinecolor\":\"#2a3f5f\",\"gridcolor\":\"white\",\"linecolor\":\"white\",\"minorgridcolor\":\"white\",\"startlinecolor\":\"#2a3f5f\"},\"baxis\":{\"endlinecolor\":\"#2a3f5f\",\"gridcolor\":\"white\",\"linecolor\":\"white\",\"minorgridcolor\":\"white\",\"startlinecolor\":\"#2a3f5f\"},\"type\":\"carpet\"}],\"choropleth\":[{\"colorbar\":{\"outlinewidth\":0,\"ticks\":\"\"},\"type\":\"choropleth\"}],\"contour\":[{\"colorbar\":{\"outlinewidth\":0,\"ticks\":\"\"},\"colorscale\":[[0.0,\"#0d0887\"],[0.1111111111111111,\"#46039f\"],[0.2222222222222222,\"#7201a8\"],[0.3333333333333333,\"#9c179e\"],[0.4444444444444444,\"#bd3786\"],[0.5555555555555556,\"#d8576b\"],[0.6666666666666666,\"#ed7953\"],[0.7777777777777778,\"#fb9f3a\"],[0.8888888888888888,\"#fdca26\"],[1.0,\"#f0f921\"]],\"type\":\"contour\"}],\"contourcarpet\":[{\"colorbar\":{\"outlinewidth\":0,\"ticks\":\"\"},\"type\":\"contourcarpet\"}],\"heatmap\":[{\"colorbar\":{\"outlinewidth\":0,\"ticks\":\"\"},\"colorscale\":[[0.0,\"#0d0887\"],[0.1111111111111111,\"#46039f\"],[0.2222222222222222,\"#7201a8\"],[0.3333333333333333,\"#9c179e\"],[0.4444444444444444,\"#bd3786\"],[0.5555555555555556,\"#d8576b\"],[0.6666666666666666,\"#ed7953\"],[0.7777777777777778,\"#fb9f3a\"],[0.8888888888888888,\"#fdca26\"],[1.0,\"#f0f921\"]],\"type\":\"heatmap\"}],\"heatmapgl\":[{\"colorbar\":{\"outlinewidth\":0,\"ticks\":\"\"},\"colorscale\":[[0.0,\"#0d0887\"],[0.1111111111111111,\"#46039f\"],[0.2222222222222222,\"#7201a8\"],[0.3333333333333333,\"#9c179e\"],[0.4444444444444444,\"#bd3786\"],[0.5555555555555556,\"#d8576b\"],[0.6666666666666666,\"#ed7953\"],[0.7777777777777778,\"#fb9f3a\"],[0.8888888888888888,\"#fdca26\"],[1.0,\"#f0f921\"]],\"type\":\"heatmapgl\"}],\"histogram\":[{\"marker\":{\"pattern\":{\"fillmode\":\"overlay\",\"size\":10,\"solidity\":0.2}},\"type\":\"histogram\"}],\"histogram2d\":[{\"colorbar\":{\"outlinewidth\":0,\"ticks\":\"\"},\"colorscale\":[[0.0,\"#0d0887\"],[0.1111111111111111,\"#46039f\"],[0.2222222222222222,\"#7201a8\"],[0.3333333333333333,\"#9c179e\"],[0.4444444444444444,\"#bd3786\"],[0.5555555555555556,\"#d8576b\"],[0.6666666666666666,\"#ed7953\"],[0.7777777777777778,\"#fb9f3a\"],[0.8888888888888888,\"#fdca26\"],[1.0,\"#f0f921\"]],\"type\":\"histogram2d\"}],\"histogram2dcontour\":[{\"colorbar\":{\"outlinewidth\":0,\"ticks\":\"\"},\"colorscale\":[[0.0,\"#0d0887\"],[0.1111111111111111,\"#46039f\"],[0.2222222222222222,\"#7201a8\"],[0.3333333333333333,\"#9c179e\"],[0.4444444444444444,\"#bd3786\"],[0.5555555555555556,\"#d8576b\"],[0.6666666666666666,\"#ed7953\"],[0.7777777777777778,\"#fb9f3a\"],[0.8888888888888888,\"#fdca26\"],[1.0,\"#f0f921\"]],\"type\":\"histogram2dcontour\"}],\"mesh3d\":[{\"colorbar\":{\"outlinewidth\":0,\"ticks\":\"\"},\"type\":\"mesh3d\"}],\"parcoords\":[{\"line\":{\"colorbar\":{\"outlinewidth\":0,\"ticks\":\"\"}},\"type\":\"parcoords\"}],\"pie\":[{\"automargin\":true,\"type\":\"pie\"}],\"scatter\":[{\"marker\":{\"colorbar\":{\"outlinewidth\":0,\"ticks\":\"\"}},\"type\":\"scatter\"}],\"scatter3d\":[{\"line\":{\"colorbar\":{\"outlinewidth\":0,\"ticks\":\"\"}},\"marker\":{\"colorbar\":{\"outlinewidth\":0,\"ticks\":\"\"}},\"type\":\"scatter3d\"}],\"scattercarpet\":[{\"marker\":{\"colorbar\":{\"outlinewidth\":0,\"ticks\":\"\"}},\"type\":\"scattercarpet\"}],\"scattergeo\":[{\"marker\":{\"colorbar\":{\"outlinewidth\":0,\"ticks\":\"\"}},\"type\":\"scattergeo\"}],\"scattergl\":[{\"marker\":{\"colorbar\":{\"outlinewidth\":0,\"ticks\":\"\"}},\"type\":\"scattergl\"}],\"scattermapbox\":[{\"marker\":{\"colorbar\":{\"outlinewidth\":0,\"ticks\":\"\"}},\"type\":\"scattermapbox\"}],\"scatterpolar\":[{\"marker\":{\"colorbar\":{\"outlinewidth\":0,\"ticks\":\"\"}},\"type\":\"scatterpolar\"}],\"scatterpolargl\":[{\"marker\":{\"colorbar\":{\"outlinewidth\":0,\"ticks\":\"\"}},\"type\":\"scatterpolargl\"}],\"scatterternary\":[{\"marker\":{\"colorbar\":{\"outlinewidth\":0,\"ticks\":\"\"}},\"type\":\"scatterternary\"}],\"surface\":[{\"colorbar\":{\"outlinewidth\":0,\"ticks\":\"\"},\"colorscale\":[[0.0,\"#0d0887\"],[0.1111111111111111,\"#46039f\"],[0.2222222222222222,\"#7201a8\"],[0.3333333333333333,\"#9c179e\"],[0.4444444444444444,\"#bd3786\"],[0.5555555555555556,\"#d8576b\"],[0.6666666666666666,\"#ed7953\"],[0.7777777777777778,\"#fb9f3a\"],[0.8888888888888888,\"#fdca26\"],[1.0,\"#f0f921\"]],\"type\":\"surface\"}],\"table\":[{\"cells\":{\"fill\":{\"color\":\"#EBF0F8\"},\"line\":{\"color\":\"white\"}},\"header\":{\"fill\":{\"color\":\"#C8D4E3\"},\"line\":{\"color\":\"white\"}},\"type\":\"table\"}]},\"layout\":{\"annotationdefaults\":{\"arrowcolor\":\"#2a3f5f\",\"arrowhead\":0,\"arrowwidth\":1},\"autotypenumbers\":\"strict\",\"coloraxis\":{\"colorbar\":{\"outlinewidth\":0,\"ticks\":\"\"}},\"colorscale\":{\"diverging\":[[0,\"#8e0152\"],[0.1,\"#c51b7d\"],[0.2,\"#de77ae\"],[0.3,\"#f1b6da\"],[0.4,\"#fde0ef\"],[0.5,\"#f7f7f7\"],[0.6,\"#e6f5d0\"],[0.7,\"#b8e186\"],[0.8,\"#7fbc41\"],[0.9,\"#4d9221\"],[1,\"#276419\"]],\"sequential\":[[0.0,\"#0d0887\"],[0.1111111111111111,\"#46039f\"],[0.2222222222222222,\"#7201a8\"],[0.3333333333333333,\"#9c179e\"],[0.4444444444444444,\"#bd3786\"],[0.5555555555555556,\"#d8576b\"],[0.6666666666666666,\"#ed7953\"],[0.7777777777777778,\"#fb9f3a\"],[0.8888888888888888,\"#fdca26\"],[1.0,\"#f0f921\"]],\"sequentialminus\":[[0.0,\"#0d0887\"],[0.1111111111111111,\"#46039f\"],[0.2222222222222222,\"#7201a8\"],[0.3333333333333333,\"#9c179e\"],[0.4444444444444444,\"#bd3786\"],[0.5555555555555556,\"#d8576b\"],[0.6666666666666666,\"#ed7953\"],[0.7777777777777778,\"#fb9f3a\"],[0.8888888888888888,\"#fdca26\"],[1.0,\"#f0f921\"]]},\"colorway\":[\"#636efa\",\"#EF553B\",\"#00cc96\",\"#ab63fa\",\"#FFA15A\",\"#19d3f3\",\"#FF6692\",\"#B6E880\",\"#FF97FF\",\"#FECB52\"],\"font\":{\"color\":\"#2a3f5f\"},\"geo\":{\"bgcolor\":\"white\",\"lakecolor\":\"white\",\"landcolor\":\"#E5ECF6\",\"showlakes\":true,\"showland\":true,\"subunitcolor\":\"white\"},\"hoverlabel\":{\"align\":\"left\"},\"hovermode\":\"closest\",\"mapbox\":{\"style\":\"light\"},\"paper_bgcolor\":\"white\",\"plot_bgcolor\":\"#E5ECF6\",\"polar\":{\"angularaxis\":{\"gridcolor\":\"white\",\"linecolor\":\"white\",\"ticks\":\"\"},\"bgcolor\":\"#E5ECF6\",\"radialaxis\":{\"gridcolor\":\"white\",\"linecolor\":\"white\",\"ticks\":\"\"}},\"scene\":{\"xaxis\":{\"backgroundcolor\":\"#E5ECF6\",\"gridcolor\":\"white\",\"gridwidth\":2,\"linecolor\":\"white\",\"showbackground\":true,\"ticks\":\"\",\"zerolinecolor\":\"white\"},\"yaxis\":{\"backgroundcolor\":\"#E5ECF6\",\"gridcolor\":\"white\",\"gridwidth\":2,\"linecolor\":\"white\",\"showbackground\":true,\"ticks\":\"\",\"zerolinecolor\":\"white\"},\"zaxis\":{\"backgroundcolor\":\"#E5ECF6\",\"gridcolor\":\"white\",\"gridwidth\":2,\"linecolor\":\"white\",\"showbackground\":true,\"ticks\":\"\",\"zerolinecolor\":\"white\"}},\"shapedefaults\":{\"line\":{\"color\":\"#2a3f5f\"}},\"ternary\":{\"aaxis\":{\"gridcolor\":\"white\",\"linecolor\":\"white\",\"ticks\":\"\"},\"baxis\":{\"gridcolor\":\"white\",\"linecolor\":\"white\",\"ticks\":\"\"},\"bgcolor\":\"#E5ECF6\",\"caxis\":{\"gridcolor\":\"white\",\"linecolor\":\"white\",\"ticks\":\"\"}},\"title\":{\"x\":0.05},\"xaxis\":{\"automargin\":true,\"gridcolor\":\"white\",\"linecolor\":\"white\",\"ticks\":\"\",\"title\":{\"standoff\":15},\"zerolinecolor\":\"white\",\"zerolinewidth\":2},\"yaxis\":{\"automargin\":true,\"gridcolor\":\"white\",\"linecolor\":\"white\",\"ticks\":\"\",\"title\":{\"standoff\":15},\"zerolinecolor\":\"white\",\"zerolinewidth\":2}}},\"font\":{\"family\":\"Courier New, monospace\",\"size\":12,\"color\":\"RebeccaPurple\"},\"title\":{\"text\":\"Plots\"},\"xaxis\":{\"title\":{\"text\":\"X\"},\"visible\":true},\"yaxis\":{\"title\":{\"text\":\"Y\"},\"visible\":true},\"legend\":{\"title\":{\"text\":\"List\"}},\"showlegend\":true},                        {\"responsive\": true}                    ).then(function(){\n",
              "                            \n",
              "var gd = document.getElementById('b1e01ff8-6dea-49b7-9062-0f6fe75b2f7f');\n",
              "var x = new MutationObserver(function (mutations, observer) {{\n",
              "        var display = window.getComputedStyle(gd).display;\n",
              "        if (!display || display === 'none') {{\n",
              "            console.log([gd, 'removed!']);\n",
              "            Plotly.purge(gd);\n",
              "            observer.disconnect();\n",
              "        }}\n",
              "}});\n",
              "\n",
              "// Listen for the removal of the full notebook cells\n",
              "var notebookContainer = gd.closest('#notebook-container');\n",
              "if (notebookContainer) {{\n",
              "    x.observe(notebookContainer, {childList: true});\n",
              "}}\n",
              "\n",
              "// Listen for the clearing of the current output cell\n",
              "var outputEl = gd.closest('.output');\n",
              "if (outputEl) {{\n",
              "    x.observe(outputEl, {childList: true});\n",
              "}}\n",
              "\n",
              "                        })                };                            </script>        </div>\n",
              "</body>\n",
              "</html>"
            ]
          },
          "metadata": {}
        }
      ]
    },
    {
      "cell_type": "markdown",
      "source": [
        "## Plot rectangles\n",
        "Similarly, we can plot rectangles using:\n",
        "```\n",
        "NiceGr.rect(x1=0, y1=0, x2=2, y2=4, color=\"blue\")\n",
        "```\n",
        "In this example, we have:\n",
        "* (x1, y1) = (0, 0) is the lower-left corner of the recrtangle\n",
        "* (x2, y2) = (2, 4) is the upper-right corner of the rectangle\n",
        "* the rectangle color is blue.\n",
        "\n",
        "## Assignment\n",
        "\n",
        "Run the code and plot two more rectangles.\n",
        "\n"
      ],
      "metadata": {
        "id": "Gj7ism7XopEM"
      }
    },
    {
      "cell_type": "code",
      "source": [
        "# Create the object\n",
        "NiceGr = cuteGraph() \n",
        "\n",
        "# Add a rectangle to the graph\n",
        "NiceGr.rect(x1=0, y1=0, x2=2, y2=4, color=\"blue\")\n",
        "\n",
        "# Add code for more rectangles\n",
        "\n",
        "\n",
        "# Show the graph\n",
        "NiceGr.plotAll() "
      ],
      "metadata": {
        "colab": {
          "base_uri": "https://localhost:8080/",
          "height": 542
        },
        "id": "04H3ienMtQp8",
        "outputId": "123832bb-a572-4921-91e5-24babd521d4f"
      },
      "execution_count": 5,
      "outputs": [
        {
          "output_type": "display_data",
          "data": {
            "text/html": [
              "<html>\n",
              "<head><meta charset=\"utf-8\" /></head>\n",
              "<body>\n",
              "    <div>            <script src=\"https://cdnjs.cloudflare.com/ajax/libs/mathjax/2.7.5/MathJax.js?config=TeX-AMS-MML_SVG\"></script><script type=\"text/javascript\">if (window.MathJax) {MathJax.Hub.Config({SVG: {font: \"STIX-Web\"}});}</script>                <script type=\"text/javascript\">window.PlotlyConfig = {MathJaxConfig: 'local'};</script>\n",
              "        <script src=\"https://cdn.plot.ly/plotly-2.8.3.min.js\"></script>                <div id=\"b55ceb95-a589-4d4c-b3fd-55b14da010a1\" class=\"plotly-graph-div\" style=\"height:525px; width:100%;\"></div>            <script type=\"text/javascript\">                                    window.PLOTLYENV=window.PLOTLYENV || {};                                    if (document.getElementById(\"b55ceb95-a589-4d4c-b3fd-55b14da010a1\")) {                    Plotly.newPlot(                        \"b55ceb95-a589-4d4c-b3fd-55b14da010a1\",                        [{\"line\":{\"color\":\"blue\",\"width\":2},\"mode\":\"lines+markers\",\"name\":\"Rect: line (0, 0) to (0, 4)\",\"x\":[0,0],\"y\":[0,4],\"type\":\"scatter\"},{\"line\":{\"color\":\"blue\",\"width\":2},\"mode\":\"lines+markers\",\"name\":\"Rect: line (2, 0) to (2, 4)\",\"x\":[2,2],\"y\":[0,4],\"type\":\"scatter\"},{\"line\":{\"color\":\"blue\",\"width\":2},\"mode\":\"lines+markers\",\"name\":\"Rect: line (0, 0) to (2, 0)\",\"x\":[0,2],\"y\":[0,0],\"type\":\"scatter\"},{\"line\":{\"color\":\"blue\",\"width\":2},\"mode\":\"lines+markers\",\"name\":\"Rect: line (0, 4) to (2, 4)\",\"x\":[0,2],\"y\":[4,4],\"type\":\"scatter\"}],                        {\"template\":{\"data\":{\"bar\":[{\"error_x\":{\"color\":\"#2a3f5f\"},\"error_y\":{\"color\":\"#2a3f5f\"},\"marker\":{\"line\":{\"color\":\"#E5ECF6\",\"width\":0.5},\"pattern\":{\"fillmode\":\"overlay\",\"size\":10,\"solidity\":0.2}},\"type\":\"bar\"}],\"barpolar\":[{\"marker\":{\"line\":{\"color\":\"#E5ECF6\",\"width\":0.5},\"pattern\":{\"fillmode\":\"overlay\",\"size\":10,\"solidity\":0.2}},\"type\":\"barpolar\"}],\"carpet\":[{\"aaxis\":{\"endlinecolor\":\"#2a3f5f\",\"gridcolor\":\"white\",\"linecolor\":\"white\",\"minorgridcolor\":\"white\",\"startlinecolor\":\"#2a3f5f\"},\"baxis\":{\"endlinecolor\":\"#2a3f5f\",\"gridcolor\":\"white\",\"linecolor\":\"white\",\"minorgridcolor\":\"white\",\"startlinecolor\":\"#2a3f5f\"},\"type\":\"carpet\"}],\"choropleth\":[{\"colorbar\":{\"outlinewidth\":0,\"ticks\":\"\"},\"type\":\"choropleth\"}],\"contour\":[{\"colorbar\":{\"outlinewidth\":0,\"ticks\":\"\"},\"colorscale\":[[0.0,\"#0d0887\"],[0.1111111111111111,\"#46039f\"],[0.2222222222222222,\"#7201a8\"],[0.3333333333333333,\"#9c179e\"],[0.4444444444444444,\"#bd3786\"],[0.5555555555555556,\"#d8576b\"],[0.6666666666666666,\"#ed7953\"],[0.7777777777777778,\"#fb9f3a\"],[0.8888888888888888,\"#fdca26\"],[1.0,\"#f0f921\"]],\"type\":\"contour\"}],\"contourcarpet\":[{\"colorbar\":{\"outlinewidth\":0,\"ticks\":\"\"},\"type\":\"contourcarpet\"}],\"heatmap\":[{\"colorbar\":{\"outlinewidth\":0,\"ticks\":\"\"},\"colorscale\":[[0.0,\"#0d0887\"],[0.1111111111111111,\"#46039f\"],[0.2222222222222222,\"#7201a8\"],[0.3333333333333333,\"#9c179e\"],[0.4444444444444444,\"#bd3786\"],[0.5555555555555556,\"#d8576b\"],[0.6666666666666666,\"#ed7953\"],[0.7777777777777778,\"#fb9f3a\"],[0.8888888888888888,\"#fdca26\"],[1.0,\"#f0f921\"]],\"type\":\"heatmap\"}],\"heatmapgl\":[{\"colorbar\":{\"outlinewidth\":0,\"ticks\":\"\"},\"colorscale\":[[0.0,\"#0d0887\"],[0.1111111111111111,\"#46039f\"],[0.2222222222222222,\"#7201a8\"],[0.3333333333333333,\"#9c179e\"],[0.4444444444444444,\"#bd3786\"],[0.5555555555555556,\"#d8576b\"],[0.6666666666666666,\"#ed7953\"],[0.7777777777777778,\"#fb9f3a\"],[0.8888888888888888,\"#fdca26\"],[1.0,\"#f0f921\"]],\"type\":\"heatmapgl\"}],\"histogram\":[{\"marker\":{\"pattern\":{\"fillmode\":\"overlay\",\"size\":10,\"solidity\":0.2}},\"type\":\"histogram\"}],\"histogram2d\":[{\"colorbar\":{\"outlinewidth\":0,\"ticks\":\"\"},\"colorscale\":[[0.0,\"#0d0887\"],[0.1111111111111111,\"#46039f\"],[0.2222222222222222,\"#7201a8\"],[0.3333333333333333,\"#9c179e\"],[0.4444444444444444,\"#bd3786\"],[0.5555555555555556,\"#d8576b\"],[0.6666666666666666,\"#ed7953\"],[0.7777777777777778,\"#fb9f3a\"],[0.8888888888888888,\"#fdca26\"],[1.0,\"#f0f921\"]],\"type\":\"histogram2d\"}],\"histogram2dcontour\":[{\"colorbar\":{\"outlinewidth\":0,\"ticks\":\"\"},\"colorscale\":[[0.0,\"#0d0887\"],[0.1111111111111111,\"#46039f\"],[0.2222222222222222,\"#7201a8\"],[0.3333333333333333,\"#9c179e\"],[0.4444444444444444,\"#bd3786\"],[0.5555555555555556,\"#d8576b\"],[0.6666666666666666,\"#ed7953\"],[0.7777777777777778,\"#fb9f3a\"],[0.8888888888888888,\"#fdca26\"],[1.0,\"#f0f921\"]],\"type\":\"histogram2dcontour\"}],\"mesh3d\":[{\"colorbar\":{\"outlinewidth\":0,\"ticks\":\"\"},\"type\":\"mesh3d\"}],\"parcoords\":[{\"line\":{\"colorbar\":{\"outlinewidth\":0,\"ticks\":\"\"}},\"type\":\"parcoords\"}],\"pie\":[{\"automargin\":true,\"type\":\"pie\"}],\"scatter\":[{\"marker\":{\"colorbar\":{\"outlinewidth\":0,\"ticks\":\"\"}},\"type\":\"scatter\"}],\"scatter3d\":[{\"line\":{\"colorbar\":{\"outlinewidth\":0,\"ticks\":\"\"}},\"marker\":{\"colorbar\":{\"outlinewidth\":0,\"ticks\":\"\"}},\"type\":\"scatter3d\"}],\"scattercarpet\":[{\"marker\":{\"colorbar\":{\"outlinewidth\":0,\"ticks\":\"\"}},\"type\":\"scattercarpet\"}],\"scattergeo\":[{\"marker\":{\"colorbar\":{\"outlinewidth\":0,\"ticks\":\"\"}},\"type\":\"scattergeo\"}],\"scattergl\":[{\"marker\":{\"colorbar\":{\"outlinewidth\":0,\"ticks\":\"\"}},\"type\":\"scattergl\"}],\"scattermapbox\":[{\"marker\":{\"colorbar\":{\"outlinewidth\":0,\"ticks\":\"\"}},\"type\":\"scattermapbox\"}],\"scatterpolar\":[{\"marker\":{\"colorbar\":{\"outlinewidth\":0,\"ticks\":\"\"}},\"type\":\"scatterpolar\"}],\"scatterpolargl\":[{\"marker\":{\"colorbar\":{\"outlinewidth\":0,\"ticks\":\"\"}},\"type\":\"scatterpolargl\"}],\"scatterternary\":[{\"marker\":{\"colorbar\":{\"outlinewidth\":0,\"ticks\":\"\"}},\"type\":\"scatterternary\"}],\"surface\":[{\"colorbar\":{\"outlinewidth\":0,\"ticks\":\"\"},\"colorscale\":[[0.0,\"#0d0887\"],[0.1111111111111111,\"#46039f\"],[0.2222222222222222,\"#7201a8\"],[0.3333333333333333,\"#9c179e\"],[0.4444444444444444,\"#bd3786\"],[0.5555555555555556,\"#d8576b\"],[0.6666666666666666,\"#ed7953\"],[0.7777777777777778,\"#fb9f3a\"],[0.8888888888888888,\"#fdca26\"],[1.0,\"#f0f921\"]],\"type\":\"surface\"}],\"table\":[{\"cells\":{\"fill\":{\"color\":\"#EBF0F8\"},\"line\":{\"color\":\"white\"}},\"header\":{\"fill\":{\"color\":\"#C8D4E3\"},\"line\":{\"color\":\"white\"}},\"type\":\"table\"}]},\"layout\":{\"annotationdefaults\":{\"arrowcolor\":\"#2a3f5f\",\"arrowhead\":0,\"arrowwidth\":1},\"autotypenumbers\":\"strict\",\"coloraxis\":{\"colorbar\":{\"outlinewidth\":0,\"ticks\":\"\"}},\"colorscale\":{\"diverging\":[[0,\"#8e0152\"],[0.1,\"#c51b7d\"],[0.2,\"#de77ae\"],[0.3,\"#f1b6da\"],[0.4,\"#fde0ef\"],[0.5,\"#f7f7f7\"],[0.6,\"#e6f5d0\"],[0.7,\"#b8e186\"],[0.8,\"#7fbc41\"],[0.9,\"#4d9221\"],[1,\"#276419\"]],\"sequential\":[[0.0,\"#0d0887\"],[0.1111111111111111,\"#46039f\"],[0.2222222222222222,\"#7201a8\"],[0.3333333333333333,\"#9c179e\"],[0.4444444444444444,\"#bd3786\"],[0.5555555555555556,\"#d8576b\"],[0.6666666666666666,\"#ed7953\"],[0.7777777777777778,\"#fb9f3a\"],[0.8888888888888888,\"#fdca26\"],[1.0,\"#f0f921\"]],\"sequentialminus\":[[0.0,\"#0d0887\"],[0.1111111111111111,\"#46039f\"],[0.2222222222222222,\"#7201a8\"],[0.3333333333333333,\"#9c179e\"],[0.4444444444444444,\"#bd3786\"],[0.5555555555555556,\"#d8576b\"],[0.6666666666666666,\"#ed7953\"],[0.7777777777777778,\"#fb9f3a\"],[0.8888888888888888,\"#fdca26\"],[1.0,\"#f0f921\"]]},\"colorway\":[\"#636efa\",\"#EF553B\",\"#00cc96\",\"#ab63fa\",\"#FFA15A\",\"#19d3f3\",\"#FF6692\",\"#B6E880\",\"#FF97FF\",\"#FECB52\"],\"font\":{\"color\":\"#2a3f5f\"},\"geo\":{\"bgcolor\":\"white\",\"lakecolor\":\"white\",\"landcolor\":\"#E5ECF6\",\"showlakes\":true,\"showland\":true,\"subunitcolor\":\"white\"},\"hoverlabel\":{\"align\":\"left\"},\"hovermode\":\"closest\",\"mapbox\":{\"style\":\"light\"},\"paper_bgcolor\":\"white\",\"plot_bgcolor\":\"#E5ECF6\",\"polar\":{\"angularaxis\":{\"gridcolor\":\"white\",\"linecolor\":\"white\",\"ticks\":\"\"},\"bgcolor\":\"#E5ECF6\",\"radialaxis\":{\"gridcolor\":\"white\",\"linecolor\":\"white\",\"ticks\":\"\"}},\"scene\":{\"xaxis\":{\"backgroundcolor\":\"#E5ECF6\",\"gridcolor\":\"white\",\"gridwidth\":2,\"linecolor\":\"white\",\"showbackground\":true,\"ticks\":\"\",\"zerolinecolor\":\"white\"},\"yaxis\":{\"backgroundcolor\":\"#E5ECF6\",\"gridcolor\":\"white\",\"gridwidth\":2,\"linecolor\":\"white\",\"showbackground\":true,\"ticks\":\"\",\"zerolinecolor\":\"white\"},\"zaxis\":{\"backgroundcolor\":\"#E5ECF6\",\"gridcolor\":\"white\",\"gridwidth\":2,\"linecolor\":\"white\",\"showbackground\":true,\"ticks\":\"\",\"zerolinecolor\":\"white\"}},\"shapedefaults\":{\"line\":{\"color\":\"#2a3f5f\"}},\"ternary\":{\"aaxis\":{\"gridcolor\":\"white\",\"linecolor\":\"white\",\"ticks\":\"\"},\"baxis\":{\"gridcolor\":\"white\",\"linecolor\":\"white\",\"ticks\":\"\"},\"bgcolor\":\"#E5ECF6\",\"caxis\":{\"gridcolor\":\"white\",\"linecolor\":\"white\",\"ticks\":\"\"}},\"title\":{\"x\":0.05},\"xaxis\":{\"automargin\":true,\"gridcolor\":\"white\",\"linecolor\":\"white\",\"ticks\":\"\",\"title\":{\"standoff\":15},\"zerolinecolor\":\"white\",\"zerolinewidth\":2},\"yaxis\":{\"automargin\":true,\"gridcolor\":\"white\",\"linecolor\":\"white\",\"ticks\":\"\",\"title\":{\"standoff\":15},\"zerolinecolor\":\"white\",\"zerolinewidth\":2}}},\"font\":{\"family\":\"Courier New, monospace\",\"size\":12,\"color\":\"RebeccaPurple\"},\"title\":{\"text\":\"Plots\"},\"xaxis\":{\"title\":{\"text\":\"X\"},\"visible\":true},\"yaxis\":{\"title\":{\"text\":\"Y\"},\"visible\":true},\"legend\":{\"title\":{\"text\":\"List\"}},\"showlegend\":true},                        {\"responsive\": true}                    ).then(function(){\n",
              "                            \n",
              "var gd = document.getElementById('b55ceb95-a589-4d4c-b3fd-55b14da010a1');\n",
              "var x = new MutationObserver(function (mutations, observer) {{\n",
              "        var display = window.getComputedStyle(gd).display;\n",
              "        if (!display || display === 'none') {{\n",
              "            console.log([gd, 'removed!']);\n",
              "            Plotly.purge(gd);\n",
              "            observer.disconnect();\n",
              "        }}\n",
              "}});\n",
              "\n",
              "// Listen for the removal of the full notebook cells\n",
              "var notebookContainer = gd.closest('#notebook-container');\n",
              "if (notebookContainer) {{\n",
              "    x.observe(notebookContainer, {childList: true});\n",
              "}}\n",
              "\n",
              "// Listen for the clearing of the current output cell\n",
              "var outputEl = gd.closest('.output');\n",
              "if (outputEl) {{\n",
              "    x.observe(outputEl, {childList: true});\n",
              "}}\n",
              "\n",
              "                        })                };                            </script>        </div>\n",
              "</body>\n",
              "</html>"
            ]
          },
          "metadata": {}
        }
      ]
    },
    {
      "cell_type": "markdown",
      "source": [
        "## Adding text\n",
        "We can add text to the graph using strings.\n",
        "\n",
        "Our strings can span multiple lines as given below:\n",
        "```\n",
        "text = \"\"\"Student Names<br>\n",
        "Class Name<br>\n",
        "School Name<br>\n",
        "Semester Year\"\"\"\n",
        "```\n",
        "Here, note that <tt>\\<br\\></tt> defines a new line.\n",
        "To place the text centered at the origin, we use:\n",
        "```\n",
        "NiceGr.addText(x=0, y=0, text=text, color=\"black\")\n",
        "```\n",
        "\n",
        "## Assignment\n",
        "\n",
        "Modify the code to enter your name.\n",
        "\n",
        "If you cannot see the text, then click on the zoom controls on the upper-right hand corner of the image.\n",
        "\n",
        "\n",
        "\n"
      ],
      "metadata": {
        "id": "B5OF18_lM9Dr"
      }
    },
    {
      "cell_type": "code",
      "source": [
        "# Create the object\n",
        "NiceGr = cuteGraph() \n",
        "\n",
        "# Add text:\n",
        "text = \"\"\"Student Name<br>\n",
        "Course Name<br>\n",
        "School Name<br>\n",
        "Semester Year\"\"\"\n",
        "\n",
        "NiceGr.addText(x=0, y=0, text=text, color=\"black\")\n",
        "\n",
        "# Show the graph\n",
        "NiceGr.plotAll() "
      ],
      "metadata": {
        "colab": {
          "base_uri": "https://localhost:8080/",
          "height": 542
        },
        "id": "bE56OWoTNM42",
        "outputId": "d77c4da0-28b9-4668-f327-78d65d37e9c1"
      },
      "execution_count": 6,
      "outputs": [
        {
          "output_type": "display_data",
          "data": {
            "text/html": [
              "<html>\n",
              "<head><meta charset=\"utf-8\" /></head>\n",
              "<body>\n",
              "    <div>            <script src=\"https://cdnjs.cloudflare.com/ajax/libs/mathjax/2.7.5/MathJax.js?config=TeX-AMS-MML_SVG\"></script><script type=\"text/javascript\">if (window.MathJax) {MathJax.Hub.Config({SVG: {font: \"STIX-Web\"}});}</script>                <script type=\"text/javascript\">window.PlotlyConfig = {MathJaxConfig: 'local'};</script>\n",
              "        <script src=\"https://cdn.plot.ly/plotly-2.8.3.min.js\"></script>                <div id=\"707bc687-9053-4a63-8a8e-01213cb4d446\" class=\"plotly-graph-div\" style=\"height:525px; width:100%;\"></div>            <script type=\"text/javascript\">                                    window.PLOTLYENV=window.PLOTLYENV || {};                                    if (document.getElementById(\"707bc687-9053-4a63-8a8e-01213cb4d446\")) {                    Plotly.newPlot(                        \"707bc687-9053-4a63-8a8e-01213cb4d446\",                        [],                        {\"template\":{\"data\":{\"bar\":[{\"error_x\":{\"color\":\"#2a3f5f\"},\"error_y\":{\"color\":\"#2a3f5f\"},\"marker\":{\"line\":{\"color\":\"#E5ECF6\",\"width\":0.5},\"pattern\":{\"fillmode\":\"overlay\",\"size\":10,\"solidity\":0.2}},\"type\":\"bar\"}],\"barpolar\":[{\"marker\":{\"line\":{\"color\":\"#E5ECF6\",\"width\":0.5},\"pattern\":{\"fillmode\":\"overlay\",\"size\":10,\"solidity\":0.2}},\"type\":\"barpolar\"}],\"carpet\":[{\"aaxis\":{\"endlinecolor\":\"#2a3f5f\",\"gridcolor\":\"white\",\"linecolor\":\"white\",\"minorgridcolor\":\"white\",\"startlinecolor\":\"#2a3f5f\"},\"baxis\":{\"endlinecolor\":\"#2a3f5f\",\"gridcolor\":\"white\",\"linecolor\":\"white\",\"minorgridcolor\":\"white\",\"startlinecolor\":\"#2a3f5f\"},\"type\":\"carpet\"}],\"choropleth\":[{\"colorbar\":{\"outlinewidth\":0,\"ticks\":\"\"},\"type\":\"choropleth\"}],\"contour\":[{\"colorbar\":{\"outlinewidth\":0,\"ticks\":\"\"},\"colorscale\":[[0.0,\"#0d0887\"],[0.1111111111111111,\"#46039f\"],[0.2222222222222222,\"#7201a8\"],[0.3333333333333333,\"#9c179e\"],[0.4444444444444444,\"#bd3786\"],[0.5555555555555556,\"#d8576b\"],[0.6666666666666666,\"#ed7953\"],[0.7777777777777778,\"#fb9f3a\"],[0.8888888888888888,\"#fdca26\"],[1.0,\"#f0f921\"]],\"type\":\"contour\"}],\"contourcarpet\":[{\"colorbar\":{\"outlinewidth\":0,\"ticks\":\"\"},\"type\":\"contourcarpet\"}],\"heatmap\":[{\"colorbar\":{\"outlinewidth\":0,\"ticks\":\"\"},\"colorscale\":[[0.0,\"#0d0887\"],[0.1111111111111111,\"#46039f\"],[0.2222222222222222,\"#7201a8\"],[0.3333333333333333,\"#9c179e\"],[0.4444444444444444,\"#bd3786\"],[0.5555555555555556,\"#d8576b\"],[0.6666666666666666,\"#ed7953\"],[0.7777777777777778,\"#fb9f3a\"],[0.8888888888888888,\"#fdca26\"],[1.0,\"#f0f921\"]],\"type\":\"heatmap\"}],\"heatmapgl\":[{\"colorbar\":{\"outlinewidth\":0,\"ticks\":\"\"},\"colorscale\":[[0.0,\"#0d0887\"],[0.1111111111111111,\"#46039f\"],[0.2222222222222222,\"#7201a8\"],[0.3333333333333333,\"#9c179e\"],[0.4444444444444444,\"#bd3786\"],[0.5555555555555556,\"#d8576b\"],[0.6666666666666666,\"#ed7953\"],[0.7777777777777778,\"#fb9f3a\"],[0.8888888888888888,\"#fdca26\"],[1.0,\"#f0f921\"]],\"type\":\"heatmapgl\"}],\"histogram\":[{\"marker\":{\"pattern\":{\"fillmode\":\"overlay\",\"size\":10,\"solidity\":0.2}},\"type\":\"histogram\"}],\"histogram2d\":[{\"colorbar\":{\"outlinewidth\":0,\"ticks\":\"\"},\"colorscale\":[[0.0,\"#0d0887\"],[0.1111111111111111,\"#46039f\"],[0.2222222222222222,\"#7201a8\"],[0.3333333333333333,\"#9c179e\"],[0.4444444444444444,\"#bd3786\"],[0.5555555555555556,\"#d8576b\"],[0.6666666666666666,\"#ed7953\"],[0.7777777777777778,\"#fb9f3a\"],[0.8888888888888888,\"#fdca26\"],[1.0,\"#f0f921\"]],\"type\":\"histogram2d\"}],\"histogram2dcontour\":[{\"colorbar\":{\"outlinewidth\":0,\"ticks\":\"\"},\"colorscale\":[[0.0,\"#0d0887\"],[0.1111111111111111,\"#46039f\"],[0.2222222222222222,\"#7201a8\"],[0.3333333333333333,\"#9c179e\"],[0.4444444444444444,\"#bd3786\"],[0.5555555555555556,\"#d8576b\"],[0.6666666666666666,\"#ed7953\"],[0.7777777777777778,\"#fb9f3a\"],[0.8888888888888888,\"#fdca26\"],[1.0,\"#f0f921\"]],\"type\":\"histogram2dcontour\"}],\"mesh3d\":[{\"colorbar\":{\"outlinewidth\":0,\"ticks\":\"\"},\"type\":\"mesh3d\"}],\"parcoords\":[{\"line\":{\"colorbar\":{\"outlinewidth\":0,\"ticks\":\"\"}},\"type\":\"parcoords\"}],\"pie\":[{\"automargin\":true,\"type\":\"pie\"}],\"scatter\":[{\"marker\":{\"colorbar\":{\"outlinewidth\":0,\"ticks\":\"\"}},\"type\":\"scatter\"}],\"scatter3d\":[{\"line\":{\"colorbar\":{\"outlinewidth\":0,\"ticks\":\"\"}},\"marker\":{\"colorbar\":{\"outlinewidth\":0,\"ticks\":\"\"}},\"type\":\"scatter3d\"}],\"scattercarpet\":[{\"marker\":{\"colorbar\":{\"outlinewidth\":0,\"ticks\":\"\"}},\"type\":\"scattercarpet\"}],\"scattergeo\":[{\"marker\":{\"colorbar\":{\"outlinewidth\":0,\"ticks\":\"\"}},\"type\":\"scattergeo\"}],\"scattergl\":[{\"marker\":{\"colorbar\":{\"outlinewidth\":0,\"ticks\":\"\"}},\"type\":\"scattergl\"}],\"scattermapbox\":[{\"marker\":{\"colorbar\":{\"outlinewidth\":0,\"ticks\":\"\"}},\"type\":\"scattermapbox\"}],\"scatterpolar\":[{\"marker\":{\"colorbar\":{\"outlinewidth\":0,\"ticks\":\"\"}},\"type\":\"scatterpolar\"}],\"scatterpolargl\":[{\"marker\":{\"colorbar\":{\"outlinewidth\":0,\"ticks\":\"\"}},\"type\":\"scatterpolargl\"}],\"scatterternary\":[{\"marker\":{\"colorbar\":{\"outlinewidth\":0,\"ticks\":\"\"}},\"type\":\"scatterternary\"}],\"surface\":[{\"colorbar\":{\"outlinewidth\":0,\"ticks\":\"\"},\"colorscale\":[[0.0,\"#0d0887\"],[0.1111111111111111,\"#46039f\"],[0.2222222222222222,\"#7201a8\"],[0.3333333333333333,\"#9c179e\"],[0.4444444444444444,\"#bd3786\"],[0.5555555555555556,\"#d8576b\"],[0.6666666666666666,\"#ed7953\"],[0.7777777777777778,\"#fb9f3a\"],[0.8888888888888888,\"#fdca26\"],[1.0,\"#f0f921\"]],\"type\":\"surface\"}],\"table\":[{\"cells\":{\"fill\":{\"color\":\"#EBF0F8\"},\"line\":{\"color\":\"white\"}},\"header\":{\"fill\":{\"color\":\"#C8D4E3\"},\"line\":{\"color\":\"white\"}},\"type\":\"table\"}]},\"layout\":{\"annotationdefaults\":{\"arrowcolor\":\"#2a3f5f\",\"arrowhead\":0,\"arrowwidth\":1},\"autotypenumbers\":\"strict\",\"coloraxis\":{\"colorbar\":{\"outlinewidth\":0,\"ticks\":\"\"}},\"colorscale\":{\"diverging\":[[0,\"#8e0152\"],[0.1,\"#c51b7d\"],[0.2,\"#de77ae\"],[0.3,\"#f1b6da\"],[0.4,\"#fde0ef\"],[0.5,\"#f7f7f7\"],[0.6,\"#e6f5d0\"],[0.7,\"#b8e186\"],[0.8,\"#7fbc41\"],[0.9,\"#4d9221\"],[1,\"#276419\"]],\"sequential\":[[0.0,\"#0d0887\"],[0.1111111111111111,\"#46039f\"],[0.2222222222222222,\"#7201a8\"],[0.3333333333333333,\"#9c179e\"],[0.4444444444444444,\"#bd3786\"],[0.5555555555555556,\"#d8576b\"],[0.6666666666666666,\"#ed7953\"],[0.7777777777777778,\"#fb9f3a\"],[0.8888888888888888,\"#fdca26\"],[1.0,\"#f0f921\"]],\"sequentialminus\":[[0.0,\"#0d0887\"],[0.1111111111111111,\"#46039f\"],[0.2222222222222222,\"#7201a8\"],[0.3333333333333333,\"#9c179e\"],[0.4444444444444444,\"#bd3786\"],[0.5555555555555556,\"#d8576b\"],[0.6666666666666666,\"#ed7953\"],[0.7777777777777778,\"#fb9f3a\"],[0.8888888888888888,\"#fdca26\"],[1.0,\"#f0f921\"]]},\"colorway\":[\"#636efa\",\"#EF553B\",\"#00cc96\",\"#ab63fa\",\"#FFA15A\",\"#19d3f3\",\"#FF6692\",\"#B6E880\",\"#FF97FF\",\"#FECB52\"],\"font\":{\"color\":\"#2a3f5f\"},\"geo\":{\"bgcolor\":\"white\",\"lakecolor\":\"white\",\"landcolor\":\"#E5ECF6\",\"showlakes\":true,\"showland\":true,\"subunitcolor\":\"white\"},\"hoverlabel\":{\"align\":\"left\"},\"hovermode\":\"closest\",\"mapbox\":{\"style\":\"light\"},\"paper_bgcolor\":\"white\",\"plot_bgcolor\":\"#E5ECF6\",\"polar\":{\"angularaxis\":{\"gridcolor\":\"white\",\"linecolor\":\"white\",\"ticks\":\"\"},\"bgcolor\":\"#E5ECF6\",\"radialaxis\":{\"gridcolor\":\"white\",\"linecolor\":\"white\",\"ticks\":\"\"}},\"scene\":{\"xaxis\":{\"backgroundcolor\":\"#E5ECF6\",\"gridcolor\":\"white\",\"gridwidth\":2,\"linecolor\":\"white\",\"showbackground\":true,\"ticks\":\"\",\"zerolinecolor\":\"white\"},\"yaxis\":{\"backgroundcolor\":\"#E5ECF6\",\"gridcolor\":\"white\",\"gridwidth\":2,\"linecolor\":\"white\",\"showbackground\":true,\"ticks\":\"\",\"zerolinecolor\":\"white\"},\"zaxis\":{\"backgroundcolor\":\"#E5ECF6\",\"gridcolor\":\"white\",\"gridwidth\":2,\"linecolor\":\"white\",\"showbackground\":true,\"ticks\":\"\",\"zerolinecolor\":\"white\"}},\"shapedefaults\":{\"line\":{\"color\":\"#2a3f5f\"}},\"ternary\":{\"aaxis\":{\"gridcolor\":\"white\",\"linecolor\":\"white\",\"ticks\":\"\"},\"baxis\":{\"gridcolor\":\"white\",\"linecolor\":\"white\",\"ticks\":\"\"},\"bgcolor\":\"#E5ECF6\",\"caxis\":{\"gridcolor\":\"white\",\"linecolor\":\"white\",\"ticks\":\"\"}},\"title\":{\"x\":0.05},\"xaxis\":{\"automargin\":true,\"gridcolor\":\"white\",\"linecolor\":\"white\",\"ticks\":\"\",\"title\":{\"standoff\":15},\"zerolinecolor\":\"white\",\"zerolinewidth\":2},\"yaxis\":{\"automargin\":true,\"gridcolor\":\"white\",\"linecolor\":\"white\",\"ticks\":\"\",\"title\":{\"standoff\":15},\"zerolinecolor\":\"white\",\"zerolinewidth\":2}}},\"annotations\":[{\"align\":\"center\",\"font\":{\"color\":\"black\",\"family\":\"Courier New, monospace\",\"size\":16},\"showarrow\":false,\"text\":\"Student Name<br>\\nCourse Name<br>\\nSchool Name<br>\\nSemester Year\",\"x\":0,\"y\":0}],\"font\":{\"family\":\"Courier New, monospace\",\"size\":12,\"color\":\"RebeccaPurple\"},\"title\":{\"text\":\"Plots\"},\"xaxis\":{\"title\":{\"text\":\"X\"},\"visible\":true},\"yaxis\":{\"title\":{\"text\":\"Y\"},\"visible\":true},\"legend\":{\"title\":{\"text\":\"List\"}},\"showlegend\":true},                        {\"responsive\": true}                    ).then(function(){\n",
              "                            \n",
              "var gd = document.getElementById('707bc687-9053-4a63-8a8e-01213cb4d446');\n",
              "var x = new MutationObserver(function (mutations, observer) {{\n",
              "        var display = window.getComputedStyle(gd).display;\n",
              "        if (!display || display === 'none') {{\n",
              "            console.log([gd, 'removed!']);\n",
              "            Plotly.purge(gd);\n",
              "            observer.disconnect();\n",
              "        }}\n",
              "}});\n",
              "\n",
              "// Listen for the removal of the full notebook cells\n",
              "var notebookContainer = gd.closest('#notebook-container');\n",
              "if (notebookContainer) {{\n",
              "    x.observe(notebookContainer, {childList: true});\n",
              "}}\n",
              "\n",
              "// Listen for the clearing of the current output cell\n",
              "var outputEl = gd.closest('.output');\n",
              "if (outputEl) {{\n",
              "    x.observe(outputEl, {childList: true});\n",
              "}}\n",
              "\n",
              "                        })                };                            </script>        </div>\n",
              "</body>\n",
              "</html>"
            ]
          },
          "metadata": {}
        }
      ]
    },
    {
      "cell_type": "markdown",
      "source": [
        "# Controlling the output"
      ],
      "metadata": {
        "id": "PpwHouaX9uyM"
      }
    },
    {
      "cell_type": "markdown",
      "source": [
        "## Setup a square grid\n",
        "<tt>NiceGr</tt> knows how to setup a square grid.\n",
        "\n",
        "We first need to setup the step and step pixels:\n",
        "```\n",
        "NiceGr.setStep(step=0.5, stepPixels=20)\n",
        "```\n",
        "Here, we have:\n",
        "* step=0.5 means that we will get a grid lines that are 0.5 units apart.\n",
        "* stepPixels=20 means that each step (0.5) will be represented on the screen using 20 pixels.\n",
        "\n",
        "We have full control over the y-axis using:\n",
        "```\n",
        "NiceGr.setY(minY=-15,  maxY=+5)\n",
        "```\n",
        "Here is what each one of the variables mean:\n",
        "* minY=-15 is the minimum value for Y\n",
        "* maxY=+5  is the maximum value for Y\n",
        "\n",
        "<b>Note that the final Y-axis may be slightly larger</b>\n",
        "\n",
        "We can also try to setup the X-axis using:\n",
        "```\n",
        "NiceGr.setX(minX=-10, maxX=10)\n",
        "```\n",
        "\n",
        "After we setup all of the parameters, we can set it up using:\n",
        "```\n",
        "NiceGr.setupGrid()\n",
        "```\n",
        "\n",
        "As before, we can then visualize the grid using:\n",
        "```\n",
        "NiceGr.plotAll()\n",
        "```\n",
        "\n",
        "<b>Note that the X-axis is larger than what we asked it to do! Python added some extra space :-).</b>\n",
        "\n",
        "## Assignment\n",
        "\n",
        "Experiment with the grid:\n",
        "1. Change y to range from -3 to 2.\n",
        "2. Allocate 100 pixels per step. Does it work? Why not?\n",
        "3. Allocate fewer pixels to see if you can get it to work again.\n",
        "\n",
        "\n",
        "\n"
      ],
      "metadata": {
        "id": "4ltZc5Lm85q4"
      }
    },
    {
      "cell_type": "code",
      "source": [
        "# Create the object\n",
        "NiceGr = cuteGraph() \n",
        "\n",
        "# Set up the axes\n",
        "# Leave enough space on the right hand side for the text!\n",
        "NiceGr.setStep(step=0.5, stepPixels=20)\n",
        "NiceGr.setY(minY=-5,  maxY=+5)\n",
        "NiceGr.setX(minX=-10, maxX=10)\n",
        "\n",
        "# Prepare the grid\n",
        "NiceGr.setupGrid()\n",
        "\n",
        "# Show what we have:\n",
        "NiceGr.plotAll() "
      ],
      "metadata": {
        "colab": {
          "base_uri": "https://localhost:8080/",
          "height": 437
        },
        "id": "RmNxGYLvsmKH",
        "outputId": "444e0290-079e-4c45-edc7-98dab043662d"
      },
      "execution_count": 7,
      "outputs": [
        {
          "output_type": "display_data",
          "data": {
            "text/html": [
              "<html>\n",
              "<head><meta charset=\"utf-8\" /></head>\n",
              "<body>\n",
              "    <div>            <script src=\"https://cdnjs.cloudflare.com/ajax/libs/mathjax/2.7.5/MathJax.js?config=TeX-AMS-MML_SVG\"></script><script type=\"text/javascript\">if (window.MathJax) {MathJax.Hub.Config({SVG: {font: \"STIX-Web\"}});}</script>                <script type=\"text/javascript\">window.PlotlyConfig = {MathJaxConfig: 'local'};</script>\n",
              "        <script src=\"https://cdn.plot.ly/plotly-2.8.3.min.js\"></script>                <div id=\"eaa92988-58f6-4125-9c14-a4aa4d321ed7\" class=\"plotly-graph-div\" style=\"height:420.0px; width:820.0px;\"></div>            <script type=\"text/javascript\">                                    window.PLOTLYENV=window.PLOTLYENV || {};                                    if (document.getElementById(\"eaa92988-58f6-4125-9c14-a4aa4d321ed7\")) {                    Plotly.newPlot(                        \"eaa92988-58f6-4125-9c14-a4aa4d321ed7\",                        [],                        {\"template\":{\"data\":{\"bar\":[{\"error_x\":{\"color\":\"#2a3f5f\"},\"error_y\":{\"color\":\"#2a3f5f\"},\"marker\":{\"line\":{\"color\":\"#E5ECF6\",\"width\":0.5},\"pattern\":{\"fillmode\":\"overlay\",\"size\":10,\"solidity\":0.2}},\"type\":\"bar\"}],\"barpolar\":[{\"marker\":{\"line\":{\"color\":\"#E5ECF6\",\"width\":0.5},\"pattern\":{\"fillmode\":\"overlay\",\"size\":10,\"solidity\":0.2}},\"type\":\"barpolar\"}],\"carpet\":[{\"aaxis\":{\"endlinecolor\":\"#2a3f5f\",\"gridcolor\":\"white\",\"linecolor\":\"white\",\"minorgridcolor\":\"white\",\"startlinecolor\":\"#2a3f5f\"},\"baxis\":{\"endlinecolor\":\"#2a3f5f\",\"gridcolor\":\"white\",\"linecolor\":\"white\",\"minorgridcolor\":\"white\",\"startlinecolor\":\"#2a3f5f\"},\"type\":\"carpet\"}],\"choropleth\":[{\"colorbar\":{\"outlinewidth\":0,\"ticks\":\"\"},\"type\":\"choropleth\"}],\"contour\":[{\"colorbar\":{\"outlinewidth\":0,\"ticks\":\"\"},\"colorscale\":[[0.0,\"#0d0887\"],[0.1111111111111111,\"#46039f\"],[0.2222222222222222,\"#7201a8\"],[0.3333333333333333,\"#9c179e\"],[0.4444444444444444,\"#bd3786\"],[0.5555555555555556,\"#d8576b\"],[0.6666666666666666,\"#ed7953\"],[0.7777777777777778,\"#fb9f3a\"],[0.8888888888888888,\"#fdca26\"],[1.0,\"#f0f921\"]],\"type\":\"contour\"}],\"contourcarpet\":[{\"colorbar\":{\"outlinewidth\":0,\"ticks\":\"\"},\"type\":\"contourcarpet\"}],\"heatmap\":[{\"colorbar\":{\"outlinewidth\":0,\"ticks\":\"\"},\"colorscale\":[[0.0,\"#0d0887\"],[0.1111111111111111,\"#46039f\"],[0.2222222222222222,\"#7201a8\"],[0.3333333333333333,\"#9c179e\"],[0.4444444444444444,\"#bd3786\"],[0.5555555555555556,\"#d8576b\"],[0.6666666666666666,\"#ed7953\"],[0.7777777777777778,\"#fb9f3a\"],[0.8888888888888888,\"#fdca26\"],[1.0,\"#f0f921\"]],\"type\":\"heatmap\"}],\"heatmapgl\":[{\"colorbar\":{\"outlinewidth\":0,\"ticks\":\"\"},\"colorscale\":[[0.0,\"#0d0887\"],[0.1111111111111111,\"#46039f\"],[0.2222222222222222,\"#7201a8\"],[0.3333333333333333,\"#9c179e\"],[0.4444444444444444,\"#bd3786\"],[0.5555555555555556,\"#d8576b\"],[0.6666666666666666,\"#ed7953\"],[0.7777777777777778,\"#fb9f3a\"],[0.8888888888888888,\"#fdca26\"],[1.0,\"#f0f921\"]],\"type\":\"heatmapgl\"}],\"histogram\":[{\"marker\":{\"pattern\":{\"fillmode\":\"overlay\",\"size\":10,\"solidity\":0.2}},\"type\":\"histogram\"}],\"histogram2d\":[{\"colorbar\":{\"outlinewidth\":0,\"ticks\":\"\"},\"colorscale\":[[0.0,\"#0d0887\"],[0.1111111111111111,\"#46039f\"],[0.2222222222222222,\"#7201a8\"],[0.3333333333333333,\"#9c179e\"],[0.4444444444444444,\"#bd3786\"],[0.5555555555555556,\"#d8576b\"],[0.6666666666666666,\"#ed7953\"],[0.7777777777777778,\"#fb9f3a\"],[0.8888888888888888,\"#fdca26\"],[1.0,\"#f0f921\"]],\"type\":\"histogram2d\"}],\"histogram2dcontour\":[{\"colorbar\":{\"outlinewidth\":0,\"ticks\":\"\"},\"colorscale\":[[0.0,\"#0d0887\"],[0.1111111111111111,\"#46039f\"],[0.2222222222222222,\"#7201a8\"],[0.3333333333333333,\"#9c179e\"],[0.4444444444444444,\"#bd3786\"],[0.5555555555555556,\"#d8576b\"],[0.6666666666666666,\"#ed7953\"],[0.7777777777777778,\"#fb9f3a\"],[0.8888888888888888,\"#fdca26\"],[1.0,\"#f0f921\"]],\"type\":\"histogram2dcontour\"}],\"mesh3d\":[{\"colorbar\":{\"outlinewidth\":0,\"ticks\":\"\"},\"type\":\"mesh3d\"}],\"parcoords\":[{\"line\":{\"colorbar\":{\"outlinewidth\":0,\"ticks\":\"\"}},\"type\":\"parcoords\"}],\"pie\":[{\"automargin\":true,\"type\":\"pie\"}],\"scatter\":[{\"marker\":{\"colorbar\":{\"outlinewidth\":0,\"ticks\":\"\"}},\"type\":\"scatter\"}],\"scatter3d\":[{\"line\":{\"colorbar\":{\"outlinewidth\":0,\"ticks\":\"\"}},\"marker\":{\"colorbar\":{\"outlinewidth\":0,\"ticks\":\"\"}},\"type\":\"scatter3d\"}],\"scattercarpet\":[{\"marker\":{\"colorbar\":{\"outlinewidth\":0,\"ticks\":\"\"}},\"type\":\"scattercarpet\"}],\"scattergeo\":[{\"marker\":{\"colorbar\":{\"outlinewidth\":0,\"ticks\":\"\"}},\"type\":\"scattergeo\"}],\"scattergl\":[{\"marker\":{\"colorbar\":{\"outlinewidth\":0,\"ticks\":\"\"}},\"type\":\"scattergl\"}],\"scattermapbox\":[{\"marker\":{\"colorbar\":{\"outlinewidth\":0,\"ticks\":\"\"}},\"type\":\"scattermapbox\"}],\"scatterpolar\":[{\"marker\":{\"colorbar\":{\"outlinewidth\":0,\"ticks\":\"\"}},\"type\":\"scatterpolar\"}],\"scatterpolargl\":[{\"marker\":{\"colorbar\":{\"outlinewidth\":0,\"ticks\":\"\"}},\"type\":\"scatterpolargl\"}],\"scatterternary\":[{\"marker\":{\"colorbar\":{\"outlinewidth\":0,\"ticks\":\"\"}},\"type\":\"scatterternary\"}],\"surface\":[{\"colorbar\":{\"outlinewidth\":0,\"ticks\":\"\"},\"colorscale\":[[0.0,\"#0d0887\"],[0.1111111111111111,\"#46039f\"],[0.2222222222222222,\"#7201a8\"],[0.3333333333333333,\"#9c179e\"],[0.4444444444444444,\"#bd3786\"],[0.5555555555555556,\"#d8576b\"],[0.6666666666666666,\"#ed7953\"],[0.7777777777777778,\"#fb9f3a\"],[0.8888888888888888,\"#fdca26\"],[1.0,\"#f0f921\"]],\"type\":\"surface\"}],\"table\":[{\"cells\":{\"fill\":{\"color\":\"#EBF0F8\"},\"line\":{\"color\":\"white\"}},\"header\":{\"fill\":{\"color\":\"#C8D4E3\"},\"line\":{\"color\":\"white\"}},\"type\":\"table\"}]},\"layout\":{\"annotationdefaults\":{\"arrowcolor\":\"#2a3f5f\",\"arrowhead\":0,\"arrowwidth\":1},\"autotypenumbers\":\"strict\",\"coloraxis\":{\"colorbar\":{\"outlinewidth\":0,\"ticks\":\"\"}},\"colorscale\":{\"diverging\":[[0,\"#8e0152\"],[0.1,\"#c51b7d\"],[0.2,\"#de77ae\"],[0.3,\"#f1b6da\"],[0.4,\"#fde0ef\"],[0.5,\"#f7f7f7\"],[0.6,\"#e6f5d0\"],[0.7,\"#b8e186\"],[0.8,\"#7fbc41\"],[0.9,\"#4d9221\"],[1,\"#276419\"]],\"sequential\":[[0.0,\"#0d0887\"],[0.1111111111111111,\"#46039f\"],[0.2222222222222222,\"#7201a8\"],[0.3333333333333333,\"#9c179e\"],[0.4444444444444444,\"#bd3786\"],[0.5555555555555556,\"#d8576b\"],[0.6666666666666666,\"#ed7953\"],[0.7777777777777778,\"#fb9f3a\"],[0.8888888888888888,\"#fdca26\"],[1.0,\"#f0f921\"]],\"sequentialminus\":[[0.0,\"#0d0887\"],[0.1111111111111111,\"#46039f\"],[0.2222222222222222,\"#7201a8\"],[0.3333333333333333,\"#9c179e\"],[0.4444444444444444,\"#bd3786\"],[0.5555555555555556,\"#d8576b\"],[0.6666666666666666,\"#ed7953\"],[0.7777777777777778,\"#fb9f3a\"],[0.8888888888888888,\"#fdca26\"],[1.0,\"#f0f921\"]]},\"colorway\":[\"#636efa\",\"#EF553B\",\"#00cc96\",\"#ab63fa\",\"#FFA15A\",\"#19d3f3\",\"#FF6692\",\"#B6E880\",\"#FF97FF\",\"#FECB52\"],\"font\":{\"color\":\"#2a3f5f\"},\"geo\":{\"bgcolor\":\"white\",\"lakecolor\":\"white\",\"landcolor\":\"#E5ECF6\",\"showlakes\":true,\"showland\":true,\"subunitcolor\":\"white\"},\"hoverlabel\":{\"align\":\"left\"},\"hovermode\":\"closest\",\"mapbox\":{\"style\":\"light\"},\"paper_bgcolor\":\"white\",\"plot_bgcolor\":\"#E5ECF6\",\"polar\":{\"angularaxis\":{\"gridcolor\":\"white\",\"linecolor\":\"white\",\"ticks\":\"\"},\"bgcolor\":\"#E5ECF6\",\"radialaxis\":{\"gridcolor\":\"white\",\"linecolor\":\"white\",\"ticks\":\"\"}},\"scene\":{\"xaxis\":{\"backgroundcolor\":\"#E5ECF6\",\"gridcolor\":\"white\",\"gridwidth\":2,\"linecolor\":\"white\",\"showbackground\":true,\"ticks\":\"\",\"zerolinecolor\":\"white\"},\"yaxis\":{\"backgroundcolor\":\"#E5ECF6\",\"gridcolor\":\"white\",\"gridwidth\":2,\"linecolor\":\"white\",\"showbackground\":true,\"ticks\":\"\",\"zerolinecolor\":\"white\"},\"zaxis\":{\"backgroundcolor\":\"#E5ECF6\",\"gridcolor\":\"white\",\"gridwidth\":2,\"linecolor\":\"white\",\"showbackground\":true,\"ticks\":\"\",\"zerolinecolor\":\"white\"}},\"shapedefaults\":{\"line\":{\"color\":\"#2a3f5f\"}},\"ternary\":{\"aaxis\":{\"gridcolor\":\"white\",\"linecolor\":\"white\",\"ticks\":\"\"},\"baxis\":{\"gridcolor\":\"white\",\"linecolor\":\"white\",\"ticks\":\"\"},\"bgcolor\":\"#E5ECF6\",\"caxis\":{\"gridcolor\":\"white\",\"linecolor\":\"white\",\"ticks\":\"\"}},\"title\":{\"x\":0.05},\"xaxis\":{\"automargin\":true,\"gridcolor\":\"white\",\"linecolor\":\"white\",\"ticks\":\"\",\"title\":{\"standoff\":15},\"zerolinecolor\":\"white\",\"zerolinewidth\":2},\"yaxis\":{\"automargin\":true,\"gridcolor\":\"white\",\"linecolor\":\"white\",\"ticks\":\"\",\"title\":{\"standoff\":15},\"zerolinecolor\":\"white\",\"zerolinewidth\":2}}},\"yaxis\":{\"range\":[-5,5],\"showgrid\":true,\"gridwidth\":1,\"gridcolor\":\"red\",\"scaleanchor\":\"x\",\"scaleratio\":1,\"automargin\":false,\"tickmode\":\"linear\",\"tick0\":-5,\"dtick\":0.5,\"title\":{\"text\":\"Y\"},\"visible\":true},\"xaxis\":{\"range\":[-10,10],\"showgrid\":true,\"gridwidth\":1,\"gridcolor\":\"red\",\"automargin\":false,\"tickmode\":\"linear\",\"tick0\":-10,\"dtick\":0.5,\"title\":{\"text\":\"X\"},\"visible\":true},\"height\":420.0,\"width\":820.0,\"autosize\":false,\"shapes\":[{\"type\":\"line\",\"x0\":0,\"x1\":1,\"xref\":\"x domain\",\"y0\":0.0,\"y1\":0.0,\"yref\":\"y\"},{\"type\":\"line\",\"x0\":0.0,\"x1\":0.0,\"xref\":\"x\",\"y0\":0,\"y1\":1,\"yref\":\"y domain\"}],\"font\":{\"family\":\"Courier New, monospace\",\"size\":12,\"color\":\"RebeccaPurple\"},\"title\":{\"text\":\"Plots\"},\"legend\":{\"title\":{\"text\":\"List\"}},\"showlegend\":true},                        {\"responsive\": true}                    ).then(function(){\n",
              "                            \n",
              "var gd = document.getElementById('eaa92988-58f6-4125-9c14-a4aa4d321ed7');\n",
              "var x = new MutationObserver(function (mutations, observer) {{\n",
              "        var display = window.getComputedStyle(gd).display;\n",
              "        if (!display || display === 'none') {{\n",
              "            console.log([gd, 'removed!']);\n",
              "            Plotly.purge(gd);\n",
              "            observer.disconnect();\n",
              "        }}\n",
              "}});\n",
              "\n",
              "// Listen for the removal of the full notebook cells\n",
              "var notebookContainer = gd.closest('#notebook-container');\n",
              "if (notebookContainer) {{\n",
              "    x.observe(notebookContainer, {childList: true});\n",
              "}}\n",
              "\n",
              "// Listen for the clearing of the current output cell\n",
              "var outputEl = gd.closest('.output');\n",
              "if (outputEl) {{\n",
              "    x.observe(outputEl, {childList: true});\n",
              "}}\n",
              "\n",
              "                        })                };                            </script>        </div>\n",
              "</body>\n",
              "</html>"
            ]
          },
          "metadata": {}
        }
      ]
    },
    {
      "cell_type": "markdown",
      "source": [
        "## Controlling line and point widths\n",
        "We can control the width of the lines and points using a simple method call:\n",
        "```\n",
        "NiceGr.setwidths(linewidth=5, pointwidth=3)\n",
        "```\n",
        "\n",
        "## Assignment \n",
        "\n",
        "Modify the code below to make the lines and points much bigger!\n",
        "\n",
        "Have fun with the colors.\n"
      ],
      "metadata": {
        "id": "G4m0zoxXmnel"
      }
    },
    {
      "cell_type": "code",
      "source": [
        "# Create the object\n",
        "NiceGr = cuteGraph() \n",
        "\n",
        "# Setup the line and point widths\n",
        "NiceGr.setwidths(linewidth=5, pointwidth=3)\n",
        "\n",
        "# Add a line to the graph\n",
        "NiceGr.lineseg(x1=0, y1=4, x2=2,  y2=6, color=\"yellow\")\n",
        "NiceGr.point(x=4, y=5, color='blue')\n",
        "\n",
        "# Show the graph\n",
        "NiceGr.plotAll() "
      ],
      "metadata": {
        "colab": {
          "base_uri": "https://localhost:8080/",
          "height": 542
        },
        "id": "zvzH3FkNnb8K",
        "outputId": "49b1eb4a-06d2-491d-dcf5-baf260268617"
      },
      "execution_count": 8,
      "outputs": [
        {
          "output_type": "display_data",
          "data": {
            "text/html": [
              "<html>\n",
              "<head><meta charset=\"utf-8\" /></head>\n",
              "<body>\n",
              "    <div>            <script src=\"https://cdnjs.cloudflare.com/ajax/libs/mathjax/2.7.5/MathJax.js?config=TeX-AMS-MML_SVG\"></script><script type=\"text/javascript\">if (window.MathJax) {MathJax.Hub.Config({SVG: {font: \"STIX-Web\"}});}</script>                <script type=\"text/javascript\">window.PlotlyConfig = {MathJaxConfig: 'local'};</script>\n",
              "        <script src=\"https://cdn.plot.ly/plotly-2.8.3.min.js\"></script>                <div id=\"e1a80f30-a39b-4bc8-af23-7382ce114d73\" class=\"plotly-graph-div\" style=\"height:525px; width:100%;\"></div>            <script type=\"text/javascript\">                                    window.PLOTLYENV=window.PLOTLYENV || {};                                    if (document.getElementById(\"e1a80f30-a39b-4bc8-af23-7382ce114d73\")) {                    Plotly.newPlot(                        \"e1a80f30-a39b-4bc8-af23-7382ce114d73\",                        [{\"marker\":{\"line\":{\"color\":\"blue\",\"width\":3},\"size\":18,\"symbol\":\"x\"},\"mode\":\"markers\",\"name\":\"Point (4 ,5)\",\"x\":[4],\"y\":[5],\"type\":\"scatter\"},{\"line\":{\"color\":\"yellow\",\"width\":5},\"mode\":\"lines+markers\",\"name\":\"Line segment (0, 4) to (2, 6)\",\"x\":[0,2],\"y\":[4,6],\"type\":\"scatter\"}],                        {\"template\":{\"data\":{\"bar\":[{\"error_x\":{\"color\":\"#2a3f5f\"},\"error_y\":{\"color\":\"#2a3f5f\"},\"marker\":{\"line\":{\"color\":\"#E5ECF6\",\"width\":0.5},\"pattern\":{\"fillmode\":\"overlay\",\"size\":10,\"solidity\":0.2}},\"type\":\"bar\"}],\"barpolar\":[{\"marker\":{\"line\":{\"color\":\"#E5ECF6\",\"width\":0.5},\"pattern\":{\"fillmode\":\"overlay\",\"size\":10,\"solidity\":0.2}},\"type\":\"barpolar\"}],\"carpet\":[{\"aaxis\":{\"endlinecolor\":\"#2a3f5f\",\"gridcolor\":\"white\",\"linecolor\":\"white\",\"minorgridcolor\":\"white\",\"startlinecolor\":\"#2a3f5f\"},\"baxis\":{\"endlinecolor\":\"#2a3f5f\",\"gridcolor\":\"white\",\"linecolor\":\"white\",\"minorgridcolor\":\"white\",\"startlinecolor\":\"#2a3f5f\"},\"type\":\"carpet\"}],\"choropleth\":[{\"colorbar\":{\"outlinewidth\":0,\"ticks\":\"\"},\"type\":\"choropleth\"}],\"contour\":[{\"colorbar\":{\"outlinewidth\":0,\"ticks\":\"\"},\"colorscale\":[[0.0,\"#0d0887\"],[0.1111111111111111,\"#46039f\"],[0.2222222222222222,\"#7201a8\"],[0.3333333333333333,\"#9c179e\"],[0.4444444444444444,\"#bd3786\"],[0.5555555555555556,\"#d8576b\"],[0.6666666666666666,\"#ed7953\"],[0.7777777777777778,\"#fb9f3a\"],[0.8888888888888888,\"#fdca26\"],[1.0,\"#f0f921\"]],\"type\":\"contour\"}],\"contourcarpet\":[{\"colorbar\":{\"outlinewidth\":0,\"ticks\":\"\"},\"type\":\"contourcarpet\"}],\"heatmap\":[{\"colorbar\":{\"outlinewidth\":0,\"ticks\":\"\"},\"colorscale\":[[0.0,\"#0d0887\"],[0.1111111111111111,\"#46039f\"],[0.2222222222222222,\"#7201a8\"],[0.3333333333333333,\"#9c179e\"],[0.4444444444444444,\"#bd3786\"],[0.5555555555555556,\"#d8576b\"],[0.6666666666666666,\"#ed7953\"],[0.7777777777777778,\"#fb9f3a\"],[0.8888888888888888,\"#fdca26\"],[1.0,\"#f0f921\"]],\"type\":\"heatmap\"}],\"heatmapgl\":[{\"colorbar\":{\"outlinewidth\":0,\"ticks\":\"\"},\"colorscale\":[[0.0,\"#0d0887\"],[0.1111111111111111,\"#46039f\"],[0.2222222222222222,\"#7201a8\"],[0.3333333333333333,\"#9c179e\"],[0.4444444444444444,\"#bd3786\"],[0.5555555555555556,\"#d8576b\"],[0.6666666666666666,\"#ed7953\"],[0.7777777777777778,\"#fb9f3a\"],[0.8888888888888888,\"#fdca26\"],[1.0,\"#f0f921\"]],\"type\":\"heatmapgl\"}],\"histogram\":[{\"marker\":{\"pattern\":{\"fillmode\":\"overlay\",\"size\":10,\"solidity\":0.2}},\"type\":\"histogram\"}],\"histogram2d\":[{\"colorbar\":{\"outlinewidth\":0,\"ticks\":\"\"},\"colorscale\":[[0.0,\"#0d0887\"],[0.1111111111111111,\"#46039f\"],[0.2222222222222222,\"#7201a8\"],[0.3333333333333333,\"#9c179e\"],[0.4444444444444444,\"#bd3786\"],[0.5555555555555556,\"#d8576b\"],[0.6666666666666666,\"#ed7953\"],[0.7777777777777778,\"#fb9f3a\"],[0.8888888888888888,\"#fdca26\"],[1.0,\"#f0f921\"]],\"type\":\"histogram2d\"}],\"histogram2dcontour\":[{\"colorbar\":{\"outlinewidth\":0,\"ticks\":\"\"},\"colorscale\":[[0.0,\"#0d0887\"],[0.1111111111111111,\"#46039f\"],[0.2222222222222222,\"#7201a8\"],[0.3333333333333333,\"#9c179e\"],[0.4444444444444444,\"#bd3786\"],[0.5555555555555556,\"#d8576b\"],[0.6666666666666666,\"#ed7953\"],[0.7777777777777778,\"#fb9f3a\"],[0.8888888888888888,\"#fdca26\"],[1.0,\"#f0f921\"]],\"type\":\"histogram2dcontour\"}],\"mesh3d\":[{\"colorbar\":{\"outlinewidth\":0,\"ticks\":\"\"},\"type\":\"mesh3d\"}],\"parcoords\":[{\"line\":{\"colorbar\":{\"outlinewidth\":0,\"ticks\":\"\"}},\"type\":\"parcoords\"}],\"pie\":[{\"automargin\":true,\"type\":\"pie\"}],\"scatter\":[{\"marker\":{\"colorbar\":{\"outlinewidth\":0,\"ticks\":\"\"}},\"type\":\"scatter\"}],\"scatter3d\":[{\"line\":{\"colorbar\":{\"outlinewidth\":0,\"ticks\":\"\"}},\"marker\":{\"colorbar\":{\"outlinewidth\":0,\"ticks\":\"\"}},\"type\":\"scatter3d\"}],\"scattercarpet\":[{\"marker\":{\"colorbar\":{\"outlinewidth\":0,\"ticks\":\"\"}},\"type\":\"scattercarpet\"}],\"scattergeo\":[{\"marker\":{\"colorbar\":{\"outlinewidth\":0,\"ticks\":\"\"}},\"type\":\"scattergeo\"}],\"scattergl\":[{\"marker\":{\"colorbar\":{\"outlinewidth\":0,\"ticks\":\"\"}},\"type\":\"scattergl\"}],\"scattermapbox\":[{\"marker\":{\"colorbar\":{\"outlinewidth\":0,\"ticks\":\"\"}},\"type\":\"scattermapbox\"}],\"scatterpolar\":[{\"marker\":{\"colorbar\":{\"outlinewidth\":0,\"ticks\":\"\"}},\"type\":\"scatterpolar\"}],\"scatterpolargl\":[{\"marker\":{\"colorbar\":{\"outlinewidth\":0,\"ticks\":\"\"}},\"type\":\"scatterpolargl\"}],\"scatterternary\":[{\"marker\":{\"colorbar\":{\"outlinewidth\":0,\"ticks\":\"\"}},\"type\":\"scatterternary\"}],\"surface\":[{\"colorbar\":{\"outlinewidth\":0,\"ticks\":\"\"},\"colorscale\":[[0.0,\"#0d0887\"],[0.1111111111111111,\"#46039f\"],[0.2222222222222222,\"#7201a8\"],[0.3333333333333333,\"#9c179e\"],[0.4444444444444444,\"#bd3786\"],[0.5555555555555556,\"#d8576b\"],[0.6666666666666666,\"#ed7953\"],[0.7777777777777778,\"#fb9f3a\"],[0.8888888888888888,\"#fdca26\"],[1.0,\"#f0f921\"]],\"type\":\"surface\"}],\"table\":[{\"cells\":{\"fill\":{\"color\":\"#EBF0F8\"},\"line\":{\"color\":\"white\"}},\"header\":{\"fill\":{\"color\":\"#C8D4E3\"},\"line\":{\"color\":\"white\"}},\"type\":\"table\"}]},\"layout\":{\"annotationdefaults\":{\"arrowcolor\":\"#2a3f5f\",\"arrowhead\":0,\"arrowwidth\":1},\"autotypenumbers\":\"strict\",\"coloraxis\":{\"colorbar\":{\"outlinewidth\":0,\"ticks\":\"\"}},\"colorscale\":{\"diverging\":[[0,\"#8e0152\"],[0.1,\"#c51b7d\"],[0.2,\"#de77ae\"],[0.3,\"#f1b6da\"],[0.4,\"#fde0ef\"],[0.5,\"#f7f7f7\"],[0.6,\"#e6f5d0\"],[0.7,\"#b8e186\"],[0.8,\"#7fbc41\"],[0.9,\"#4d9221\"],[1,\"#276419\"]],\"sequential\":[[0.0,\"#0d0887\"],[0.1111111111111111,\"#46039f\"],[0.2222222222222222,\"#7201a8\"],[0.3333333333333333,\"#9c179e\"],[0.4444444444444444,\"#bd3786\"],[0.5555555555555556,\"#d8576b\"],[0.6666666666666666,\"#ed7953\"],[0.7777777777777778,\"#fb9f3a\"],[0.8888888888888888,\"#fdca26\"],[1.0,\"#f0f921\"]],\"sequentialminus\":[[0.0,\"#0d0887\"],[0.1111111111111111,\"#46039f\"],[0.2222222222222222,\"#7201a8\"],[0.3333333333333333,\"#9c179e\"],[0.4444444444444444,\"#bd3786\"],[0.5555555555555556,\"#d8576b\"],[0.6666666666666666,\"#ed7953\"],[0.7777777777777778,\"#fb9f3a\"],[0.8888888888888888,\"#fdca26\"],[1.0,\"#f0f921\"]]},\"colorway\":[\"#636efa\",\"#EF553B\",\"#00cc96\",\"#ab63fa\",\"#FFA15A\",\"#19d3f3\",\"#FF6692\",\"#B6E880\",\"#FF97FF\",\"#FECB52\"],\"font\":{\"color\":\"#2a3f5f\"},\"geo\":{\"bgcolor\":\"white\",\"lakecolor\":\"white\",\"landcolor\":\"#E5ECF6\",\"showlakes\":true,\"showland\":true,\"subunitcolor\":\"white\"},\"hoverlabel\":{\"align\":\"left\"},\"hovermode\":\"closest\",\"mapbox\":{\"style\":\"light\"},\"paper_bgcolor\":\"white\",\"plot_bgcolor\":\"#E5ECF6\",\"polar\":{\"angularaxis\":{\"gridcolor\":\"white\",\"linecolor\":\"white\",\"ticks\":\"\"},\"bgcolor\":\"#E5ECF6\",\"radialaxis\":{\"gridcolor\":\"white\",\"linecolor\":\"white\",\"ticks\":\"\"}},\"scene\":{\"xaxis\":{\"backgroundcolor\":\"#E5ECF6\",\"gridcolor\":\"white\",\"gridwidth\":2,\"linecolor\":\"white\",\"showbackground\":true,\"ticks\":\"\",\"zerolinecolor\":\"white\"},\"yaxis\":{\"backgroundcolor\":\"#E5ECF6\",\"gridcolor\":\"white\",\"gridwidth\":2,\"linecolor\":\"white\",\"showbackground\":true,\"ticks\":\"\",\"zerolinecolor\":\"white\"},\"zaxis\":{\"backgroundcolor\":\"#E5ECF6\",\"gridcolor\":\"white\",\"gridwidth\":2,\"linecolor\":\"white\",\"showbackground\":true,\"ticks\":\"\",\"zerolinecolor\":\"white\"}},\"shapedefaults\":{\"line\":{\"color\":\"#2a3f5f\"}},\"ternary\":{\"aaxis\":{\"gridcolor\":\"white\",\"linecolor\":\"white\",\"ticks\":\"\"},\"baxis\":{\"gridcolor\":\"white\",\"linecolor\":\"white\",\"ticks\":\"\"},\"bgcolor\":\"#E5ECF6\",\"caxis\":{\"gridcolor\":\"white\",\"linecolor\":\"white\",\"ticks\":\"\"}},\"title\":{\"x\":0.05},\"xaxis\":{\"automargin\":true,\"gridcolor\":\"white\",\"linecolor\":\"white\",\"ticks\":\"\",\"title\":{\"standoff\":15},\"zerolinecolor\":\"white\",\"zerolinewidth\":2},\"yaxis\":{\"automargin\":true,\"gridcolor\":\"white\",\"linecolor\":\"white\",\"ticks\":\"\",\"title\":{\"standoff\":15},\"zerolinecolor\":\"white\",\"zerolinewidth\":2}}},\"font\":{\"family\":\"Courier New, monospace\",\"size\":12,\"color\":\"RebeccaPurple\"},\"title\":{\"text\":\"Plots\"},\"xaxis\":{\"title\":{\"text\":\"X\"},\"visible\":true},\"yaxis\":{\"title\":{\"text\":\"Y\"},\"visible\":true},\"legend\":{\"title\":{\"text\":\"List\"}},\"showlegend\":true},                        {\"responsive\": true}                    ).then(function(){\n",
              "                            \n",
              "var gd = document.getElementById('e1a80f30-a39b-4bc8-af23-7382ce114d73');\n",
              "var x = new MutationObserver(function (mutations, observer) {{\n",
              "        var display = window.getComputedStyle(gd).display;\n",
              "        if (!display || display === 'none') {{\n",
              "            console.log([gd, 'removed!']);\n",
              "            Plotly.purge(gd);\n",
              "            observer.disconnect();\n",
              "        }}\n",
              "}});\n",
              "\n",
              "// Listen for the removal of the full notebook cells\n",
              "var notebookContainer = gd.closest('#notebook-container');\n",
              "if (notebookContainer) {{\n",
              "    x.observe(notebookContainer, {childList: true});\n",
              "}}\n",
              "\n",
              "// Listen for the clearing of the current output cell\n",
              "var outputEl = gd.closest('.output');\n",
              "if (outputEl) {{\n",
              "    x.observe(outputEl, {childList: true});\n",
              "}}\n",
              "\n",
              "                        })                };                            </script>        </div>\n",
              "</body>\n",
              "</html>"
            ]
          },
          "metadata": {}
        }
      ]
    },
    {
      "cell_type": "markdown",
      "source": [
        "# Advanced drawing examples"
      ],
      "metadata": {
        "id": "KmJFV-oIJIQW"
      }
    },
    {
      "cell_type": "markdown",
      "source": [
        "## Lines from a given point\n",
        "Suppose that the ending point is at the origin.\n",
        "\n",
        "We can just move the x1 using a for loop to get all the lines to connect to the origin."
      ],
      "metadata": {
        "id": "d0XCXsYRF33N"
      }
    },
    {
      "cell_type": "code",
      "source": [
        "# Create the object\n",
        "NiceGr = cuteGraph() \n",
        "\n",
        "# change x1\n",
        "for x1 in range(-5, +5+1):\n",
        "  NiceGr.lineseg(x1=x1, y1=-5, x2=0, y2=0, color=\"green\")\n",
        "\n",
        "# Show the graph\n",
        "NiceGr.plotAll() \n"
      ],
      "metadata": {
        "colab": {
          "base_uri": "https://localhost:8080/",
          "height": 542
        },
        "id": "bOGCoAxA_vEf",
        "outputId": "dea9874c-0bc5-4f04-dcf2-9fbe6e81fed2"
      },
      "execution_count": 9,
      "outputs": [
        {
          "output_type": "display_data",
          "data": {
            "text/html": [
              "<html>\n",
              "<head><meta charset=\"utf-8\" /></head>\n",
              "<body>\n",
              "    <div>            <script src=\"https://cdnjs.cloudflare.com/ajax/libs/mathjax/2.7.5/MathJax.js?config=TeX-AMS-MML_SVG\"></script><script type=\"text/javascript\">if (window.MathJax) {MathJax.Hub.Config({SVG: {font: \"STIX-Web\"}});}</script>                <script type=\"text/javascript\">window.PlotlyConfig = {MathJaxConfig: 'local'};</script>\n",
              "        <script src=\"https://cdn.plot.ly/plotly-2.8.3.min.js\"></script>                <div id=\"a15f8d27-d150-4873-b590-1670757c12b4\" class=\"plotly-graph-div\" style=\"height:525px; width:100%;\"></div>            <script type=\"text/javascript\">                                    window.PLOTLYENV=window.PLOTLYENV || {};                                    if (document.getElementById(\"a15f8d27-d150-4873-b590-1670757c12b4\")) {                    Plotly.newPlot(                        \"a15f8d27-d150-4873-b590-1670757c12b4\",                        [{\"line\":{\"color\":\"green\",\"width\":2},\"mode\":\"lines+markers\",\"name\":\"Line segment (-5, -5) to (0, 0)\",\"x\":[-5,0],\"y\":[-5,0],\"type\":\"scatter\"},{\"line\":{\"color\":\"green\",\"width\":2},\"mode\":\"lines+markers\",\"name\":\"Line segment (-4, -5) to (0, 0)\",\"x\":[-4,0],\"y\":[-5,0],\"type\":\"scatter\"},{\"line\":{\"color\":\"green\",\"width\":2},\"mode\":\"lines+markers\",\"name\":\"Line segment (-3, -5) to (0, 0)\",\"x\":[-3,0],\"y\":[-5,0],\"type\":\"scatter\"},{\"line\":{\"color\":\"green\",\"width\":2},\"mode\":\"lines+markers\",\"name\":\"Line segment (-2, -5) to (0, 0)\",\"x\":[-2,0],\"y\":[-5,0],\"type\":\"scatter\"},{\"line\":{\"color\":\"green\",\"width\":2},\"mode\":\"lines+markers\",\"name\":\"Line segment (-1, -5) to (0, 0)\",\"x\":[-1,0],\"y\":[-5,0],\"type\":\"scatter\"},{\"line\":{\"color\":\"green\",\"width\":2},\"mode\":\"lines+markers\",\"name\":\"Line segment (0, -5) to (0, 0)\",\"x\":[0,0],\"y\":[-5,0],\"type\":\"scatter\"},{\"line\":{\"color\":\"green\",\"width\":2},\"mode\":\"lines+markers\",\"name\":\"Line segment (1, -5) to (0, 0)\",\"x\":[1,0],\"y\":[-5,0],\"type\":\"scatter\"},{\"line\":{\"color\":\"green\",\"width\":2},\"mode\":\"lines+markers\",\"name\":\"Line segment (2, -5) to (0, 0)\",\"x\":[2,0],\"y\":[-5,0],\"type\":\"scatter\"},{\"line\":{\"color\":\"green\",\"width\":2},\"mode\":\"lines+markers\",\"name\":\"Line segment (3, -5) to (0, 0)\",\"x\":[3,0],\"y\":[-5,0],\"type\":\"scatter\"},{\"line\":{\"color\":\"green\",\"width\":2},\"mode\":\"lines+markers\",\"name\":\"Line segment (4, -5) to (0, 0)\",\"x\":[4,0],\"y\":[-5,0],\"type\":\"scatter\"},{\"line\":{\"color\":\"green\",\"width\":2},\"mode\":\"lines+markers\",\"name\":\"Line segment (5, -5) to (0, 0)\",\"x\":[5,0],\"y\":[-5,0],\"type\":\"scatter\"}],                        {\"template\":{\"data\":{\"bar\":[{\"error_x\":{\"color\":\"#2a3f5f\"},\"error_y\":{\"color\":\"#2a3f5f\"},\"marker\":{\"line\":{\"color\":\"#E5ECF6\",\"width\":0.5},\"pattern\":{\"fillmode\":\"overlay\",\"size\":10,\"solidity\":0.2}},\"type\":\"bar\"}],\"barpolar\":[{\"marker\":{\"line\":{\"color\":\"#E5ECF6\",\"width\":0.5},\"pattern\":{\"fillmode\":\"overlay\",\"size\":10,\"solidity\":0.2}},\"type\":\"barpolar\"}],\"carpet\":[{\"aaxis\":{\"endlinecolor\":\"#2a3f5f\",\"gridcolor\":\"white\",\"linecolor\":\"white\",\"minorgridcolor\":\"white\",\"startlinecolor\":\"#2a3f5f\"},\"baxis\":{\"endlinecolor\":\"#2a3f5f\",\"gridcolor\":\"white\",\"linecolor\":\"white\",\"minorgridcolor\":\"white\",\"startlinecolor\":\"#2a3f5f\"},\"type\":\"carpet\"}],\"choropleth\":[{\"colorbar\":{\"outlinewidth\":0,\"ticks\":\"\"},\"type\":\"choropleth\"}],\"contour\":[{\"colorbar\":{\"outlinewidth\":0,\"ticks\":\"\"},\"colorscale\":[[0.0,\"#0d0887\"],[0.1111111111111111,\"#46039f\"],[0.2222222222222222,\"#7201a8\"],[0.3333333333333333,\"#9c179e\"],[0.4444444444444444,\"#bd3786\"],[0.5555555555555556,\"#d8576b\"],[0.6666666666666666,\"#ed7953\"],[0.7777777777777778,\"#fb9f3a\"],[0.8888888888888888,\"#fdca26\"],[1.0,\"#f0f921\"]],\"type\":\"contour\"}],\"contourcarpet\":[{\"colorbar\":{\"outlinewidth\":0,\"ticks\":\"\"},\"type\":\"contourcarpet\"}],\"heatmap\":[{\"colorbar\":{\"outlinewidth\":0,\"ticks\":\"\"},\"colorscale\":[[0.0,\"#0d0887\"],[0.1111111111111111,\"#46039f\"],[0.2222222222222222,\"#7201a8\"],[0.3333333333333333,\"#9c179e\"],[0.4444444444444444,\"#bd3786\"],[0.5555555555555556,\"#d8576b\"],[0.6666666666666666,\"#ed7953\"],[0.7777777777777778,\"#fb9f3a\"],[0.8888888888888888,\"#fdca26\"],[1.0,\"#f0f921\"]],\"type\":\"heatmap\"}],\"heatmapgl\":[{\"colorbar\":{\"outlinewidth\":0,\"ticks\":\"\"},\"colorscale\":[[0.0,\"#0d0887\"],[0.1111111111111111,\"#46039f\"],[0.2222222222222222,\"#7201a8\"],[0.3333333333333333,\"#9c179e\"],[0.4444444444444444,\"#bd3786\"],[0.5555555555555556,\"#d8576b\"],[0.6666666666666666,\"#ed7953\"],[0.7777777777777778,\"#fb9f3a\"],[0.8888888888888888,\"#fdca26\"],[1.0,\"#f0f921\"]],\"type\":\"heatmapgl\"}],\"histogram\":[{\"marker\":{\"pattern\":{\"fillmode\":\"overlay\",\"size\":10,\"solidity\":0.2}},\"type\":\"histogram\"}],\"histogram2d\":[{\"colorbar\":{\"outlinewidth\":0,\"ticks\":\"\"},\"colorscale\":[[0.0,\"#0d0887\"],[0.1111111111111111,\"#46039f\"],[0.2222222222222222,\"#7201a8\"],[0.3333333333333333,\"#9c179e\"],[0.4444444444444444,\"#bd3786\"],[0.5555555555555556,\"#d8576b\"],[0.6666666666666666,\"#ed7953\"],[0.7777777777777778,\"#fb9f3a\"],[0.8888888888888888,\"#fdca26\"],[1.0,\"#f0f921\"]],\"type\":\"histogram2d\"}],\"histogram2dcontour\":[{\"colorbar\":{\"outlinewidth\":0,\"ticks\":\"\"},\"colorscale\":[[0.0,\"#0d0887\"],[0.1111111111111111,\"#46039f\"],[0.2222222222222222,\"#7201a8\"],[0.3333333333333333,\"#9c179e\"],[0.4444444444444444,\"#bd3786\"],[0.5555555555555556,\"#d8576b\"],[0.6666666666666666,\"#ed7953\"],[0.7777777777777778,\"#fb9f3a\"],[0.8888888888888888,\"#fdca26\"],[1.0,\"#f0f921\"]],\"type\":\"histogram2dcontour\"}],\"mesh3d\":[{\"colorbar\":{\"outlinewidth\":0,\"ticks\":\"\"},\"type\":\"mesh3d\"}],\"parcoords\":[{\"line\":{\"colorbar\":{\"outlinewidth\":0,\"ticks\":\"\"}},\"type\":\"parcoords\"}],\"pie\":[{\"automargin\":true,\"type\":\"pie\"}],\"scatter\":[{\"marker\":{\"colorbar\":{\"outlinewidth\":0,\"ticks\":\"\"}},\"type\":\"scatter\"}],\"scatter3d\":[{\"line\":{\"colorbar\":{\"outlinewidth\":0,\"ticks\":\"\"}},\"marker\":{\"colorbar\":{\"outlinewidth\":0,\"ticks\":\"\"}},\"type\":\"scatter3d\"}],\"scattercarpet\":[{\"marker\":{\"colorbar\":{\"outlinewidth\":0,\"ticks\":\"\"}},\"type\":\"scattercarpet\"}],\"scattergeo\":[{\"marker\":{\"colorbar\":{\"outlinewidth\":0,\"ticks\":\"\"}},\"type\":\"scattergeo\"}],\"scattergl\":[{\"marker\":{\"colorbar\":{\"outlinewidth\":0,\"ticks\":\"\"}},\"type\":\"scattergl\"}],\"scattermapbox\":[{\"marker\":{\"colorbar\":{\"outlinewidth\":0,\"ticks\":\"\"}},\"type\":\"scattermapbox\"}],\"scatterpolar\":[{\"marker\":{\"colorbar\":{\"outlinewidth\":0,\"ticks\":\"\"}},\"type\":\"scatterpolar\"}],\"scatterpolargl\":[{\"marker\":{\"colorbar\":{\"outlinewidth\":0,\"ticks\":\"\"}},\"type\":\"scatterpolargl\"}],\"scatterternary\":[{\"marker\":{\"colorbar\":{\"outlinewidth\":0,\"ticks\":\"\"}},\"type\":\"scatterternary\"}],\"surface\":[{\"colorbar\":{\"outlinewidth\":0,\"ticks\":\"\"},\"colorscale\":[[0.0,\"#0d0887\"],[0.1111111111111111,\"#46039f\"],[0.2222222222222222,\"#7201a8\"],[0.3333333333333333,\"#9c179e\"],[0.4444444444444444,\"#bd3786\"],[0.5555555555555556,\"#d8576b\"],[0.6666666666666666,\"#ed7953\"],[0.7777777777777778,\"#fb9f3a\"],[0.8888888888888888,\"#fdca26\"],[1.0,\"#f0f921\"]],\"type\":\"surface\"}],\"table\":[{\"cells\":{\"fill\":{\"color\":\"#EBF0F8\"},\"line\":{\"color\":\"white\"}},\"header\":{\"fill\":{\"color\":\"#C8D4E3\"},\"line\":{\"color\":\"white\"}},\"type\":\"table\"}]},\"layout\":{\"annotationdefaults\":{\"arrowcolor\":\"#2a3f5f\",\"arrowhead\":0,\"arrowwidth\":1},\"autotypenumbers\":\"strict\",\"coloraxis\":{\"colorbar\":{\"outlinewidth\":0,\"ticks\":\"\"}},\"colorscale\":{\"diverging\":[[0,\"#8e0152\"],[0.1,\"#c51b7d\"],[0.2,\"#de77ae\"],[0.3,\"#f1b6da\"],[0.4,\"#fde0ef\"],[0.5,\"#f7f7f7\"],[0.6,\"#e6f5d0\"],[0.7,\"#b8e186\"],[0.8,\"#7fbc41\"],[0.9,\"#4d9221\"],[1,\"#276419\"]],\"sequential\":[[0.0,\"#0d0887\"],[0.1111111111111111,\"#46039f\"],[0.2222222222222222,\"#7201a8\"],[0.3333333333333333,\"#9c179e\"],[0.4444444444444444,\"#bd3786\"],[0.5555555555555556,\"#d8576b\"],[0.6666666666666666,\"#ed7953\"],[0.7777777777777778,\"#fb9f3a\"],[0.8888888888888888,\"#fdca26\"],[1.0,\"#f0f921\"]],\"sequentialminus\":[[0.0,\"#0d0887\"],[0.1111111111111111,\"#46039f\"],[0.2222222222222222,\"#7201a8\"],[0.3333333333333333,\"#9c179e\"],[0.4444444444444444,\"#bd3786\"],[0.5555555555555556,\"#d8576b\"],[0.6666666666666666,\"#ed7953\"],[0.7777777777777778,\"#fb9f3a\"],[0.8888888888888888,\"#fdca26\"],[1.0,\"#f0f921\"]]},\"colorway\":[\"#636efa\",\"#EF553B\",\"#00cc96\",\"#ab63fa\",\"#FFA15A\",\"#19d3f3\",\"#FF6692\",\"#B6E880\",\"#FF97FF\",\"#FECB52\"],\"font\":{\"color\":\"#2a3f5f\"},\"geo\":{\"bgcolor\":\"white\",\"lakecolor\":\"white\",\"landcolor\":\"#E5ECF6\",\"showlakes\":true,\"showland\":true,\"subunitcolor\":\"white\"},\"hoverlabel\":{\"align\":\"left\"},\"hovermode\":\"closest\",\"mapbox\":{\"style\":\"light\"},\"paper_bgcolor\":\"white\",\"plot_bgcolor\":\"#E5ECF6\",\"polar\":{\"angularaxis\":{\"gridcolor\":\"white\",\"linecolor\":\"white\",\"ticks\":\"\"},\"bgcolor\":\"#E5ECF6\",\"radialaxis\":{\"gridcolor\":\"white\",\"linecolor\":\"white\",\"ticks\":\"\"}},\"scene\":{\"xaxis\":{\"backgroundcolor\":\"#E5ECF6\",\"gridcolor\":\"white\",\"gridwidth\":2,\"linecolor\":\"white\",\"showbackground\":true,\"ticks\":\"\",\"zerolinecolor\":\"white\"},\"yaxis\":{\"backgroundcolor\":\"#E5ECF6\",\"gridcolor\":\"white\",\"gridwidth\":2,\"linecolor\":\"white\",\"showbackground\":true,\"ticks\":\"\",\"zerolinecolor\":\"white\"},\"zaxis\":{\"backgroundcolor\":\"#E5ECF6\",\"gridcolor\":\"white\",\"gridwidth\":2,\"linecolor\":\"white\",\"showbackground\":true,\"ticks\":\"\",\"zerolinecolor\":\"white\"}},\"shapedefaults\":{\"line\":{\"color\":\"#2a3f5f\"}},\"ternary\":{\"aaxis\":{\"gridcolor\":\"white\",\"linecolor\":\"white\",\"ticks\":\"\"},\"baxis\":{\"gridcolor\":\"white\",\"linecolor\":\"white\",\"ticks\":\"\"},\"bgcolor\":\"#E5ECF6\",\"caxis\":{\"gridcolor\":\"white\",\"linecolor\":\"white\",\"ticks\":\"\"}},\"title\":{\"x\":0.05},\"xaxis\":{\"automargin\":true,\"gridcolor\":\"white\",\"linecolor\":\"white\",\"ticks\":\"\",\"title\":{\"standoff\":15},\"zerolinecolor\":\"white\",\"zerolinewidth\":2},\"yaxis\":{\"automargin\":true,\"gridcolor\":\"white\",\"linecolor\":\"white\",\"ticks\":\"\",\"title\":{\"standoff\":15},\"zerolinecolor\":\"white\",\"zerolinewidth\":2}}},\"font\":{\"family\":\"Courier New, monospace\",\"size\":12,\"color\":\"RebeccaPurple\"},\"title\":{\"text\":\"Plots\"},\"xaxis\":{\"title\":{\"text\":\"X\"},\"visible\":true},\"yaxis\":{\"title\":{\"text\":\"Y\"},\"visible\":true},\"legend\":{\"title\":{\"text\":\"List\"}},\"showlegend\":true},                        {\"responsive\": true}                    ).then(function(){\n",
              "                            \n",
              "var gd = document.getElementById('a15f8d27-d150-4873-b590-1670757c12b4');\n",
              "var x = new MutationObserver(function (mutations, observer) {{\n",
              "        var display = window.getComputedStyle(gd).display;\n",
              "        if (!display || display === 'none') {{\n",
              "            console.log([gd, 'removed!']);\n",
              "            Plotly.purge(gd);\n",
              "            observer.disconnect();\n",
              "        }}\n",
              "}});\n",
              "\n",
              "// Listen for the removal of the full notebook cells\n",
              "var notebookContainer = gd.closest('#notebook-container');\n",
              "if (notebookContainer) {{\n",
              "    x.observe(notebookContainer, {childList: true});\n",
              "}}\n",
              "\n",
              "// Listen for the clearing of the current output cell\n",
              "var outputEl = gd.closest('.output');\n",
              "if (outputEl) {{\n",
              "    x.observe(outputEl, {childList: true});\n",
              "}}\n",
              "\n",
              "                        })                };                            </script>        </div>\n",
              "</body>\n",
              "</html>"
            ]
          },
          "metadata": {}
        }
      ]
    },
    {
      "cell_type": "markdown",
      "source": [
        "## Parallel lines\n",
        "\n",
        "To generate parallel lines, we need to plot lines that have the same slope.\n",
        "\n",
        "A simple way to do is to add the same <tt>dx</tt> and <tt>dy</tt> to every point.\n",
        "\n",
        "The following example generates parallel line by moving x1:\n",
        "```\n",
        "# Parallel lines by varying x1\n",
        "y1 = 0\n",
        "dx = 1\n",
        "dy = 1\n",
        "for x1 in range(-5, +5+1):\n",
        "  x2 = x1 + dx\n",
        "  y2 = y1 + dy\n",
        "  NiceGr.lineseg(x1=x1, y1=y1, x2=x2, y2=y2, color=\"green\")\n",
        "```\n",
        "## Assignment\n",
        "\n",
        "Modify the code to draw parallel lines by varying x1.\n"
      ],
      "metadata": {
        "id": "9A36O_qDjVOt"
      }
    },
    {
      "cell_type": "code",
      "source": [
        "# Create the object\n",
        "NiceGr = cuteGraph() \n",
        "\n",
        "\n",
        "# Parallel lines by varying x1\n",
        "y1 = 0\n",
        "dx = 1\n",
        "dy = 1\n",
        "for x1 in range(-5, +5+1):\n",
        "  x2 = x1 + dx\n",
        "  y2 = y1 + dy\n",
        "  NiceGr.lineseg(x1=x1, y1=y1, x2=x2, y2=y2, color=\"green\")\n",
        "\n",
        "\n",
        "# Show the graph\n",
        "NiceGr.plotAll() \n"
      ],
      "metadata": {
        "colab": {
          "base_uri": "https://localhost:8080/",
          "height": 542
        },
        "id": "-fgPYsQdklDO",
        "outputId": "f2474937-ce46-49ca-ddcb-e9ac3055e1bf"
      },
      "execution_count": 10,
      "outputs": [
        {
          "output_type": "display_data",
          "data": {
            "text/html": [
              "<html>\n",
              "<head><meta charset=\"utf-8\" /></head>\n",
              "<body>\n",
              "    <div>            <script src=\"https://cdnjs.cloudflare.com/ajax/libs/mathjax/2.7.5/MathJax.js?config=TeX-AMS-MML_SVG\"></script><script type=\"text/javascript\">if (window.MathJax) {MathJax.Hub.Config({SVG: {font: \"STIX-Web\"}});}</script>                <script type=\"text/javascript\">window.PlotlyConfig = {MathJaxConfig: 'local'};</script>\n",
              "        <script src=\"https://cdn.plot.ly/plotly-2.8.3.min.js\"></script>                <div id=\"7d3f8317-cbe3-4e4a-9786-aa243d8812aa\" class=\"plotly-graph-div\" style=\"height:525px; width:100%;\"></div>            <script type=\"text/javascript\">                                    window.PLOTLYENV=window.PLOTLYENV || {};                                    if (document.getElementById(\"7d3f8317-cbe3-4e4a-9786-aa243d8812aa\")) {                    Plotly.newPlot(                        \"7d3f8317-cbe3-4e4a-9786-aa243d8812aa\",                        [{\"line\":{\"color\":\"green\",\"width\":2},\"mode\":\"lines+markers\",\"name\":\"Line segment (-5, 0) to (-4, 1)\",\"x\":[-5,-4],\"y\":[0,1],\"type\":\"scatter\"},{\"line\":{\"color\":\"green\",\"width\":2},\"mode\":\"lines+markers\",\"name\":\"Line segment (-4, 0) to (-3, 1)\",\"x\":[-4,-3],\"y\":[0,1],\"type\":\"scatter\"},{\"line\":{\"color\":\"green\",\"width\":2},\"mode\":\"lines+markers\",\"name\":\"Line segment (-3, 0) to (-2, 1)\",\"x\":[-3,-2],\"y\":[0,1],\"type\":\"scatter\"},{\"line\":{\"color\":\"green\",\"width\":2},\"mode\":\"lines+markers\",\"name\":\"Line segment (-2, 0) to (-1, 1)\",\"x\":[-2,-1],\"y\":[0,1],\"type\":\"scatter\"},{\"line\":{\"color\":\"green\",\"width\":2},\"mode\":\"lines+markers\",\"name\":\"Line segment (-1, 0) to (0, 1)\",\"x\":[-1,0],\"y\":[0,1],\"type\":\"scatter\"},{\"line\":{\"color\":\"green\",\"width\":2},\"mode\":\"lines+markers\",\"name\":\"Line segment (0, 0) to (1, 1)\",\"x\":[0,1],\"y\":[0,1],\"type\":\"scatter\"},{\"line\":{\"color\":\"green\",\"width\":2},\"mode\":\"lines+markers\",\"name\":\"Line segment (1, 0) to (2, 1)\",\"x\":[1,2],\"y\":[0,1],\"type\":\"scatter\"},{\"line\":{\"color\":\"green\",\"width\":2},\"mode\":\"lines+markers\",\"name\":\"Line segment (2, 0) to (3, 1)\",\"x\":[2,3],\"y\":[0,1],\"type\":\"scatter\"},{\"line\":{\"color\":\"green\",\"width\":2},\"mode\":\"lines+markers\",\"name\":\"Line segment (3, 0) to (4, 1)\",\"x\":[3,4],\"y\":[0,1],\"type\":\"scatter\"},{\"line\":{\"color\":\"green\",\"width\":2},\"mode\":\"lines+markers\",\"name\":\"Line segment (4, 0) to (5, 1)\",\"x\":[4,5],\"y\":[0,1],\"type\":\"scatter\"},{\"line\":{\"color\":\"green\",\"width\":2},\"mode\":\"lines+markers\",\"name\":\"Line segment (5, 0) to (6, 1)\",\"x\":[5,6],\"y\":[0,1],\"type\":\"scatter\"}],                        {\"template\":{\"data\":{\"bar\":[{\"error_x\":{\"color\":\"#2a3f5f\"},\"error_y\":{\"color\":\"#2a3f5f\"},\"marker\":{\"line\":{\"color\":\"#E5ECF6\",\"width\":0.5},\"pattern\":{\"fillmode\":\"overlay\",\"size\":10,\"solidity\":0.2}},\"type\":\"bar\"}],\"barpolar\":[{\"marker\":{\"line\":{\"color\":\"#E5ECF6\",\"width\":0.5},\"pattern\":{\"fillmode\":\"overlay\",\"size\":10,\"solidity\":0.2}},\"type\":\"barpolar\"}],\"carpet\":[{\"aaxis\":{\"endlinecolor\":\"#2a3f5f\",\"gridcolor\":\"white\",\"linecolor\":\"white\",\"minorgridcolor\":\"white\",\"startlinecolor\":\"#2a3f5f\"},\"baxis\":{\"endlinecolor\":\"#2a3f5f\",\"gridcolor\":\"white\",\"linecolor\":\"white\",\"minorgridcolor\":\"white\",\"startlinecolor\":\"#2a3f5f\"},\"type\":\"carpet\"}],\"choropleth\":[{\"colorbar\":{\"outlinewidth\":0,\"ticks\":\"\"},\"type\":\"choropleth\"}],\"contour\":[{\"colorbar\":{\"outlinewidth\":0,\"ticks\":\"\"},\"colorscale\":[[0.0,\"#0d0887\"],[0.1111111111111111,\"#46039f\"],[0.2222222222222222,\"#7201a8\"],[0.3333333333333333,\"#9c179e\"],[0.4444444444444444,\"#bd3786\"],[0.5555555555555556,\"#d8576b\"],[0.6666666666666666,\"#ed7953\"],[0.7777777777777778,\"#fb9f3a\"],[0.8888888888888888,\"#fdca26\"],[1.0,\"#f0f921\"]],\"type\":\"contour\"}],\"contourcarpet\":[{\"colorbar\":{\"outlinewidth\":0,\"ticks\":\"\"},\"type\":\"contourcarpet\"}],\"heatmap\":[{\"colorbar\":{\"outlinewidth\":0,\"ticks\":\"\"},\"colorscale\":[[0.0,\"#0d0887\"],[0.1111111111111111,\"#46039f\"],[0.2222222222222222,\"#7201a8\"],[0.3333333333333333,\"#9c179e\"],[0.4444444444444444,\"#bd3786\"],[0.5555555555555556,\"#d8576b\"],[0.6666666666666666,\"#ed7953\"],[0.7777777777777778,\"#fb9f3a\"],[0.8888888888888888,\"#fdca26\"],[1.0,\"#f0f921\"]],\"type\":\"heatmap\"}],\"heatmapgl\":[{\"colorbar\":{\"outlinewidth\":0,\"ticks\":\"\"},\"colorscale\":[[0.0,\"#0d0887\"],[0.1111111111111111,\"#46039f\"],[0.2222222222222222,\"#7201a8\"],[0.3333333333333333,\"#9c179e\"],[0.4444444444444444,\"#bd3786\"],[0.5555555555555556,\"#d8576b\"],[0.6666666666666666,\"#ed7953\"],[0.7777777777777778,\"#fb9f3a\"],[0.8888888888888888,\"#fdca26\"],[1.0,\"#f0f921\"]],\"type\":\"heatmapgl\"}],\"histogram\":[{\"marker\":{\"pattern\":{\"fillmode\":\"overlay\",\"size\":10,\"solidity\":0.2}},\"type\":\"histogram\"}],\"histogram2d\":[{\"colorbar\":{\"outlinewidth\":0,\"ticks\":\"\"},\"colorscale\":[[0.0,\"#0d0887\"],[0.1111111111111111,\"#46039f\"],[0.2222222222222222,\"#7201a8\"],[0.3333333333333333,\"#9c179e\"],[0.4444444444444444,\"#bd3786\"],[0.5555555555555556,\"#d8576b\"],[0.6666666666666666,\"#ed7953\"],[0.7777777777777778,\"#fb9f3a\"],[0.8888888888888888,\"#fdca26\"],[1.0,\"#f0f921\"]],\"type\":\"histogram2d\"}],\"histogram2dcontour\":[{\"colorbar\":{\"outlinewidth\":0,\"ticks\":\"\"},\"colorscale\":[[0.0,\"#0d0887\"],[0.1111111111111111,\"#46039f\"],[0.2222222222222222,\"#7201a8\"],[0.3333333333333333,\"#9c179e\"],[0.4444444444444444,\"#bd3786\"],[0.5555555555555556,\"#d8576b\"],[0.6666666666666666,\"#ed7953\"],[0.7777777777777778,\"#fb9f3a\"],[0.8888888888888888,\"#fdca26\"],[1.0,\"#f0f921\"]],\"type\":\"histogram2dcontour\"}],\"mesh3d\":[{\"colorbar\":{\"outlinewidth\":0,\"ticks\":\"\"},\"type\":\"mesh3d\"}],\"parcoords\":[{\"line\":{\"colorbar\":{\"outlinewidth\":0,\"ticks\":\"\"}},\"type\":\"parcoords\"}],\"pie\":[{\"automargin\":true,\"type\":\"pie\"}],\"scatter\":[{\"marker\":{\"colorbar\":{\"outlinewidth\":0,\"ticks\":\"\"}},\"type\":\"scatter\"}],\"scatter3d\":[{\"line\":{\"colorbar\":{\"outlinewidth\":0,\"ticks\":\"\"}},\"marker\":{\"colorbar\":{\"outlinewidth\":0,\"ticks\":\"\"}},\"type\":\"scatter3d\"}],\"scattercarpet\":[{\"marker\":{\"colorbar\":{\"outlinewidth\":0,\"ticks\":\"\"}},\"type\":\"scattercarpet\"}],\"scattergeo\":[{\"marker\":{\"colorbar\":{\"outlinewidth\":0,\"ticks\":\"\"}},\"type\":\"scattergeo\"}],\"scattergl\":[{\"marker\":{\"colorbar\":{\"outlinewidth\":0,\"ticks\":\"\"}},\"type\":\"scattergl\"}],\"scattermapbox\":[{\"marker\":{\"colorbar\":{\"outlinewidth\":0,\"ticks\":\"\"}},\"type\":\"scattermapbox\"}],\"scatterpolar\":[{\"marker\":{\"colorbar\":{\"outlinewidth\":0,\"ticks\":\"\"}},\"type\":\"scatterpolar\"}],\"scatterpolargl\":[{\"marker\":{\"colorbar\":{\"outlinewidth\":0,\"ticks\":\"\"}},\"type\":\"scatterpolargl\"}],\"scatterternary\":[{\"marker\":{\"colorbar\":{\"outlinewidth\":0,\"ticks\":\"\"}},\"type\":\"scatterternary\"}],\"surface\":[{\"colorbar\":{\"outlinewidth\":0,\"ticks\":\"\"},\"colorscale\":[[0.0,\"#0d0887\"],[0.1111111111111111,\"#46039f\"],[0.2222222222222222,\"#7201a8\"],[0.3333333333333333,\"#9c179e\"],[0.4444444444444444,\"#bd3786\"],[0.5555555555555556,\"#d8576b\"],[0.6666666666666666,\"#ed7953\"],[0.7777777777777778,\"#fb9f3a\"],[0.8888888888888888,\"#fdca26\"],[1.0,\"#f0f921\"]],\"type\":\"surface\"}],\"table\":[{\"cells\":{\"fill\":{\"color\":\"#EBF0F8\"},\"line\":{\"color\":\"white\"}},\"header\":{\"fill\":{\"color\":\"#C8D4E3\"},\"line\":{\"color\":\"white\"}},\"type\":\"table\"}]},\"layout\":{\"annotationdefaults\":{\"arrowcolor\":\"#2a3f5f\",\"arrowhead\":0,\"arrowwidth\":1},\"autotypenumbers\":\"strict\",\"coloraxis\":{\"colorbar\":{\"outlinewidth\":0,\"ticks\":\"\"}},\"colorscale\":{\"diverging\":[[0,\"#8e0152\"],[0.1,\"#c51b7d\"],[0.2,\"#de77ae\"],[0.3,\"#f1b6da\"],[0.4,\"#fde0ef\"],[0.5,\"#f7f7f7\"],[0.6,\"#e6f5d0\"],[0.7,\"#b8e186\"],[0.8,\"#7fbc41\"],[0.9,\"#4d9221\"],[1,\"#276419\"]],\"sequential\":[[0.0,\"#0d0887\"],[0.1111111111111111,\"#46039f\"],[0.2222222222222222,\"#7201a8\"],[0.3333333333333333,\"#9c179e\"],[0.4444444444444444,\"#bd3786\"],[0.5555555555555556,\"#d8576b\"],[0.6666666666666666,\"#ed7953\"],[0.7777777777777778,\"#fb9f3a\"],[0.8888888888888888,\"#fdca26\"],[1.0,\"#f0f921\"]],\"sequentialminus\":[[0.0,\"#0d0887\"],[0.1111111111111111,\"#46039f\"],[0.2222222222222222,\"#7201a8\"],[0.3333333333333333,\"#9c179e\"],[0.4444444444444444,\"#bd3786\"],[0.5555555555555556,\"#d8576b\"],[0.6666666666666666,\"#ed7953\"],[0.7777777777777778,\"#fb9f3a\"],[0.8888888888888888,\"#fdca26\"],[1.0,\"#f0f921\"]]},\"colorway\":[\"#636efa\",\"#EF553B\",\"#00cc96\",\"#ab63fa\",\"#FFA15A\",\"#19d3f3\",\"#FF6692\",\"#B6E880\",\"#FF97FF\",\"#FECB52\"],\"font\":{\"color\":\"#2a3f5f\"},\"geo\":{\"bgcolor\":\"white\",\"lakecolor\":\"white\",\"landcolor\":\"#E5ECF6\",\"showlakes\":true,\"showland\":true,\"subunitcolor\":\"white\"},\"hoverlabel\":{\"align\":\"left\"},\"hovermode\":\"closest\",\"mapbox\":{\"style\":\"light\"},\"paper_bgcolor\":\"white\",\"plot_bgcolor\":\"#E5ECF6\",\"polar\":{\"angularaxis\":{\"gridcolor\":\"white\",\"linecolor\":\"white\",\"ticks\":\"\"},\"bgcolor\":\"#E5ECF6\",\"radialaxis\":{\"gridcolor\":\"white\",\"linecolor\":\"white\",\"ticks\":\"\"}},\"scene\":{\"xaxis\":{\"backgroundcolor\":\"#E5ECF6\",\"gridcolor\":\"white\",\"gridwidth\":2,\"linecolor\":\"white\",\"showbackground\":true,\"ticks\":\"\",\"zerolinecolor\":\"white\"},\"yaxis\":{\"backgroundcolor\":\"#E5ECF6\",\"gridcolor\":\"white\",\"gridwidth\":2,\"linecolor\":\"white\",\"showbackground\":true,\"ticks\":\"\",\"zerolinecolor\":\"white\"},\"zaxis\":{\"backgroundcolor\":\"#E5ECF6\",\"gridcolor\":\"white\",\"gridwidth\":2,\"linecolor\":\"white\",\"showbackground\":true,\"ticks\":\"\",\"zerolinecolor\":\"white\"}},\"shapedefaults\":{\"line\":{\"color\":\"#2a3f5f\"}},\"ternary\":{\"aaxis\":{\"gridcolor\":\"white\",\"linecolor\":\"white\",\"ticks\":\"\"},\"baxis\":{\"gridcolor\":\"white\",\"linecolor\":\"white\",\"ticks\":\"\"},\"bgcolor\":\"#E5ECF6\",\"caxis\":{\"gridcolor\":\"white\",\"linecolor\":\"white\",\"ticks\":\"\"}},\"title\":{\"x\":0.05},\"xaxis\":{\"automargin\":true,\"gridcolor\":\"white\",\"linecolor\":\"white\",\"ticks\":\"\",\"title\":{\"standoff\":15},\"zerolinecolor\":\"white\",\"zerolinewidth\":2},\"yaxis\":{\"automargin\":true,\"gridcolor\":\"white\",\"linecolor\":\"white\",\"ticks\":\"\",\"title\":{\"standoff\":15},\"zerolinecolor\":\"white\",\"zerolinewidth\":2}}},\"font\":{\"family\":\"Courier New, monospace\",\"size\":12,\"color\":\"RebeccaPurple\"},\"title\":{\"text\":\"Plots\"},\"xaxis\":{\"title\":{\"text\":\"X\"},\"visible\":true},\"yaxis\":{\"title\":{\"text\":\"Y\"},\"visible\":true},\"legend\":{\"title\":{\"text\":\"List\"}},\"showlegend\":true},                        {\"responsive\": true}                    ).then(function(){\n",
              "                            \n",
              "var gd = document.getElementById('7d3f8317-cbe3-4e4a-9786-aa243d8812aa');\n",
              "var x = new MutationObserver(function (mutations, observer) {{\n",
              "        var display = window.getComputedStyle(gd).display;\n",
              "        if (!display || display === 'none') {{\n",
              "            console.log([gd, 'removed!']);\n",
              "            Plotly.purge(gd);\n",
              "            observer.disconnect();\n",
              "        }}\n",
              "}});\n",
              "\n",
              "// Listen for the removal of the full notebook cells\n",
              "var notebookContainer = gd.closest('#notebook-container');\n",
              "if (notebookContainer) {{\n",
              "    x.observe(notebookContainer, {childList: true});\n",
              "}}\n",
              "\n",
              "// Listen for the clearing of the current output cell\n",
              "var outputEl = gd.closest('.output');\n",
              "if (outputEl) {{\n",
              "    x.observe(outputEl, {childList: true});\n",
              "}}\n",
              "\n",
              "                        })                };                            </script>        </div>\n",
              "</body>\n",
              "</html>"
            ]
          },
          "metadata": {}
        }
      ]
    },
    {
      "cell_type": "markdown",
      "source": [
        "# Generating Videos\n",
        "\n"
      ],
      "metadata": {
        "id": "qrmo0ITMlBNL"
      }
    },
    {
      "cell_type": "markdown",
      "source": [
        "## Draw a house using line art\n",
        "\n",
        "To generate a house, we put together the previous examples:\n",
        "1. Generate a square grid.\n",
        "2. Build the roof using lines intersecting at a point.\n",
        "3. Use rectangles to build the rest\n",
        "\n",
        "## Assignment\n",
        "\n"
      ],
      "metadata": {
        "id": "8zpL7amPLLoT"
      }
    },
    {
      "cell_type": "code",
      "source": [
        "# Create the object\n",
        "NiceGr = cuteGraph() \n",
        "\n",
        "# Set up the axes\n",
        "NiceGr.setStep(step=1.0, stepPixels=50)\n",
        "NiceGr.setX(minX=-10, maxX=10)\n",
        "NiceGr.setY(minY=-12,  maxY=+5)\n",
        "\n",
        "# Prepare the grid\n",
        "NiceGr.setupGrid()\n",
        "\n",
        "# Build the roof:\n",
        "NiceGr.setwidths(linewidth=5, pointwidth=5)\n",
        "for x1 in range(-5, +5+1):\n",
        "  NiceGr.lineseg(x1=x1, y1=-5, x2=0, y2=0, color=\"green\")\n",
        "\n",
        "# Build the house\n",
        "NiceGr.rect(x1=-5, y1=-10, x2=+5, y2=-5, color=\"red\")\n",
        "\n",
        "# Show the graph\n",
        "NiceGr.plotAll() \n"
      ],
      "metadata": {
        "colab": {
          "base_uri": "https://localhost:8080/",
          "height": 937
        },
        "id": "mK8JXWzltpXE",
        "outputId": "a5624549-e94d-4d40-dbe4-5e4dd3c2ca9c"
      },
      "execution_count": 11,
      "outputs": [
        {
          "output_type": "display_data",
          "data": {
            "text/html": [
              "<html>\n",
              "<head><meta charset=\"utf-8\" /></head>\n",
              "<body>\n",
              "    <div>            <script src=\"https://cdnjs.cloudflare.com/ajax/libs/mathjax/2.7.5/MathJax.js?config=TeX-AMS-MML_SVG\"></script><script type=\"text/javascript\">if (window.MathJax) {MathJax.Hub.Config({SVG: {font: \"STIX-Web\"}});}</script>                <script type=\"text/javascript\">window.PlotlyConfig = {MathJaxConfig: 'local'};</script>\n",
              "        <script src=\"https://cdn.plot.ly/plotly-2.8.3.min.js\"></script>                <div id=\"71c97f3d-040c-49c3-a966-26bc21b8fa7b\" class=\"plotly-graph-div\" style=\"height:900.0px; width:1050.0px;\"></div>            <script type=\"text/javascript\">                                    window.PLOTLYENV=window.PLOTLYENV || {};                                    if (document.getElementById(\"71c97f3d-040c-49c3-a966-26bc21b8fa7b\")) {                    Plotly.newPlot(                        \"71c97f3d-040c-49c3-a966-26bc21b8fa7b\",                        [{\"line\":{\"color\":\"red\",\"width\":5},\"mode\":\"lines+markers\",\"name\":\"Rect: line (-5, -10) to (-5, -5)\",\"x\":[-5,-5],\"y\":[-10,-5],\"type\":\"scatter\"},{\"line\":{\"color\":\"red\",\"width\":5},\"mode\":\"lines+markers\",\"name\":\"Rect: line (5, -10) to (5, -5)\",\"x\":[5,5],\"y\":[-10,-5],\"type\":\"scatter\"},{\"line\":{\"color\":\"red\",\"width\":5},\"mode\":\"lines+markers\",\"name\":\"Rect: line (-5, -10) to (5, -10)\",\"x\":[-5,5],\"y\":[-10,-10],\"type\":\"scatter\"},{\"line\":{\"color\":\"red\",\"width\":5},\"mode\":\"lines+markers\",\"name\":\"Rect: line (-5, -5) to (5, -5)\",\"x\":[-5,5],\"y\":[-5,-5],\"type\":\"scatter\"},{\"line\":{\"color\":\"green\",\"width\":5},\"mode\":\"lines+markers\",\"name\":\"Line segment (-5, -5) to (0, 0)\",\"x\":[-5,0],\"y\":[-5,0],\"type\":\"scatter\"},{\"line\":{\"color\":\"green\",\"width\":5},\"mode\":\"lines+markers\",\"name\":\"Line segment (-4, -5) to (0, 0)\",\"x\":[-4,0],\"y\":[-5,0],\"type\":\"scatter\"},{\"line\":{\"color\":\"green\",\"width\":5},\"mode\":\"lines+markers\",\"name\":\"Line segment (-3, -5) to (0, 0)\",\"x\":[-3,0],\"y\":[-5,0],\"type\":\"scatter\"},{\"line\":{\"color\":\"green\",\"width\":5},\"mode\":\"lines+markers\",\"name\":\"Line segment (-2, -5) to (0, 0)\",\"x\":[-2,0],\"y\":[-5,0],\"type\":\"scatter\"},{\"line\":{\"color\":\"green\",\"width\":5},\"mode\":\"lines+markers\",\"name\":\"Line segment (-1, -5) to (0, 0)\",\"x\":[-1,0],\"y\":[-5,0],\"type\":\"scatter\"},{\"line\":{\"color\":\"green\",\"width\":5},\"mode\":\"lines+markers\",\"name\":\"Line segment (0, -5) to (0, 0)\",\"x\":[0,0],\"y\":[-5,0],\"type\":\"scatter\"},{\"line\":{\"color\":\"green\",\"width\":5},\"mode\":\"lines+markers\",\"name\":\"Line segment (1, -5) to (0, 0)\",\"x\":[1,0],\"y\":[-5,0],\"type\":\"scatter\"},{\"line\":{\"color\":\"green\",\"width\":5},\"mode\":\"lines+markers\",\"name\":\"Line segment (2, -5) to (0, 0)\",\"x\":[2,0],\"y\":[-5,0],\"type\":\"scatter\"},{\"line\":{\"color\":\"green\",\"width\":5},\"mode\":\"lines+markers\",\"name\":\"Line segment (3, -5) to (0, 0)\",\"x\":[3,0],\"y\":[-5,0],\"type\":\"scatter\"},{\"line\":{\"color\":\"green\",\"width\":5},\"mode\":\"lines+markers\",\"name\":\"Line segment (4, -5) to (0, 0)\",\"x\":[4,0],\"y\":[-5,0],\"type\":\"scatter\"},{\"line\":{\"color\":\"green\",\"width\":5},\"mode\":\"lines+markers\",\"name\":\"Line segment (5, -5) to (0, 0)\",\"x\":[5,0],\"y\":[-5,0],\"type\":\"scatter\"}],                        {\"template\":{\"data\":{\"bar\":[{\"error_x\":{\"color\":\"#2a3f5f\"},\"error_y\":{\"color\":\"#2a3f5f\"},\"marker\":{\"line\":{\"color\":\"#E5ECF6\",\"width\":0.5},\"pattern\":{\"fillmode\":\"overlay\",\"size\":10,\"solidity\":0.2}},\"type\":\"bar\"}],\"barpolar\":[{\"marker\":{\"line\":{\"color\":\"#E5ECF6\",\"width\":0.5},\"pattern\":{\"fillmode\":\"overlay\",\"size\":10,\"solidity\":0.2}},\"type\":\"barpolar\"}],\"carpet\":[{\"aaxis\":{\"endlinecolor\":\"#2a3f5f\",\"gridcolor\":\"white\",\"linecolor\":\"white\",\"minorgridcolor\":\"white\",\"startlinecolor\":\"#2a3f5f\"},\"baxis\":{\"endlinecolor\":\"#2a3f5f\",\"gridcolor\":\"white\",\"linecolor\":\"white\",\"minorgridcolor\":\"white\",\"startlinecolor\":\"#2a3f5f\"},\"type\":\"carpet\"}],\"choropleth\":[{\"colorbar\":{\"outlinewidth\":0,\"ticks\":\"\"},\"type\":\"choropleth\"}],\"contour\":[{\"colorbar\":{\"outlinewidth\":0,\"ticks\":\"\"},\"colorscale\":[[0.0,\"#0d0887\"],[0.1111111111111111,\"#46039f\"],[0.2222222222222222,\"#7201a8\"],[0.3333333333333333,\"#9c179e\"],[0.4444444444444444,\"#bd3786\"],[0.5555555555555556,\"#d8576b\"],[0.6666666666666666,\"#ed7953\"],[0.7777777777777778,\"#fb9f3a\"],[0.8888888888888888,\"#fdca26\"],[1.0,\"#f0f921\"]],\"type\":\"contour\"}],\"contourcarpet\":[{\"colorbar\":{\"outlinewidth\":0,\"ticks\":\"\"},\"type\":\"contourcarpet\"}],\"heatmap\":[{\"colorbar\":{\"outlinewidth\":0,\"ticks\":\"\"},\"colorscale\":[[0.0,\"#0d0887\"],[0.1111111111111111,\"#46039f\"],[0.2222222222222222,\"#7201a8\"],[0.3333333333333333,\"#9c179e\"],[0.4444444444444444,\"#bd3786\"],[0.5555555555555556,\"#d8576b\"],[0.6666666666666666,\"#ed7953\"],[0.7777777777777778,\"#fb9f3a\"],[0.8888888888888888,\"#fdca26\"],[1.0,\"#f0f921\"]],\"type\":\"heatmap\"}],\"heatmapgl\":[{\"colorbar\":{\"outlinewidth\":0,\"ticks\":\"\"},\"colorscale\":[[0.0,\"#0d0887\"],[0.1111111111111111,\"#46039f\"],[0.2222222222222222,\"#7201a8\"],[0.3333333333333333,\"#9c179e\"],[0.4444444444444444,\"#bd3786\"],[0.5555555555555556,\"#d8576b\"],[0.6666666666666666,\"#ed7953\"],[0.7777777777777778,\"#fb9f3a\"],[0.8888888888888888,\"#fdca26\"],[1.0,\"#f0f921\"]],\"type\":\"heatmapgl\"}],\"histogram\":[{\"marker\":{\"pattern\":{\"fillmode\":\"overlay\",\"size\":10,\"solidity\":0.2}},\"type\":\"histogram\"}],\"histogram2d\":[{\"colorbar\":{\"outlinewidth\":0,\"ticks\":\"\"},\"colorscale\":[[0.0,\"#0d0887\"],[0.1111111111111111,\"#46039f\"],[0.2222222222222222,\"#7201a8\"],[0.3333333333333333,\"#9c179e\"],[0.4444444444444444,\"#bd3786\"],[0.5555555555555556,\"#d8576b\"],[0.6666666666666666,\"#ed7953\"],[0.7777777777777778,\"#fb9f3a\"],[0.8888888888888888,\"#fdca26\"],[1.0,\"#f0f921\"]],\"type\":\"histogram2d\"}],\"histogram2dcontour\":[{\"colorbar\":{\"outlinewidth\":0,\"ticks\":\"\"},\"colorscale\":[[0.0,\"#0d0887\"],[0.1111111111111111,\"#46039f\"],[0.2222222222222222,\"#7201a8\"],[0.3333333333333333,\"#9c179e\"],[0.4444444444444444,\"#bd3786\"],[0.5555555555555556,\"#d8576b\"],[0.6666666666666666,\"#ed7953\"],[0.7777777777777778,\"#fb9f3a\"],[0.8888888888888888,\"#fdca26\"],[1.0,\"#f0f921\"]],\"type\":\"histogram2dcontour\"}],\"mesh3d\":[{\"colorbar\":{\"outlinewidth\":0,\"ticks\":\"\"},\"type\":\"mesh3d\"}],\"parcoords\":[{\"line\":{\"colorbar\":{\"outlinewidth\":0,\"ticks\":\"\"}},\"type\":\"parcoords\"}],\"pie\":[{\"automargin\":true,\"type\":\"pie\"}],\"scatter\":[{\"marker\":{\"colorbar\":{\"outlinewidth\":0,\"ticks\":\"\"}},\"type\":\"scatter\"}],\"scatter3d\":[{\"line\":{\"colorbar\":{\"outlinewidth\":0,\"ticks\":\"\"}},\"marker\":{\"colorbar\":{\"outlinewidth\":0,\"ticks\":\"\"}},\"type\":\"scatter3d\"}],\"scattercarpet\":[{\"marker\":{\"colorbar\":{\"outlinewidth\":0,\"ticks\":\"\"}},\"type\":\"scattercarpet\"}],\"scattergeo\":[{\"marker\":{\"colorbar\":{\"outlinewidth\":0,\"ticks\":\"\"}},\"type\":\"scattergeo\"}],\"scattergl\":[{\"marker\":{\"colorbar\":{\"outlinewidth\":0,\"ticks\":\"\"}},\"type\":\"scattergl\"}],\"scattermapbox\":[{\"marker\":{\"colorbar\":{\"outlinewidth\":0,\"ticks\":\"\"}},\"type\":\"scattermapbox\"}],\"scatterpolar\":[{\"marker\":{\"colorbar\":{\"outlinewidth\":0,\"ticks\":\"\"}},\"type\":\"scatterpolar\"}],\"scatterpolargl\":[{\"marker\":{\"colorbar\":{\"outlinewidth\":0,\"ticks\":\"\"}},\"type\":\"scatterpolargl\"}],\"scatterternary\":[{\"marker\":{\"colorbar\":{\"outlinewidth\":0,\"ticks\":\"\"}},\"type\":\"scatterternary\"}],\"surface\":[{\"colorbar\":{\"outlinewidth\":0,\"ticks\":\"\"},\"colorscale\":[[0.0,\"#0d0887\"],[0.1111111111111111,\"#46039f\"],[0.2222222222222222,\"#7201a8\"],[0.3333333333333333,\"#9c179e\"],[0.4444444444444444,\"#bd3786\"],[0.5555555555555556,\"#d8576b\"],[0.6666666666666666,\"#ed7953\"],[0.7777777777777778,\"#fb9f3a\"],[0.8888888888888888,\"#fdca26\"],[1.0,\"#f0f921\"]],\"type\":\"surface\"}],\"table\":[{\"cells\":{\"fill\":{\"color\":\"#EBF0F8\"},\"line\":{\"color\":\"white\"}},\"header\":{\"fill\":{\"color\":\"#C8D4E3\"},\"line\":{\"color\":\"white\"}},\"type\":\"table\"}]},\"layout\":{\"annotationdefaults\":{\"arrowcolor\":\"#2a3f5f\",\"arrowhead\":0,\"arrowwidth\":1},\"autotypenumbers\":\"strict\",\"coloraxis\":{\"colorbar\":{\"outlinewidth\":0,\"ticks\":\"\"}},\"colorscale\":{\"diverging\":[[0,\"#8e0152\"],[0.1,\"#c51b7d\"],[0.2,\"#de77ae\"],[0.3,\"#f1b6da\"],[0.4,\"#fde0ef\"],[0.5,\"#f7f7f7\"],[0.6,\"#e6f5d0\"],[0.7,\"#b8e186\"],[0.8,\"#7fbc41\"],[0.9,\"#4d9221\"],[1,\"#276419\"]],\"sequential\":[[0.0,\"#0d0887\"],[0.1111111111111111,\"#46039f\"],[0.2222222222222222,\"#7201a8\"],[0.3333333333333333,\"#9c179e\"],[0.4444444444444444,\"#bd3786\"],[0.5555555555555556,\"#d8576b\"],[0.6666666666666666,\"#ed7953\"],[0.7777777777777778,\"#fb9f3a\"],[0.8888888888888888,\"#fdca26\"],[1.0,\"#f0f921\"]],\"sequentialminus\":[[0.0,\"#0d0887\"],[0.1111111111111111,\"#46039f\"],[0.2222222222222222,\"#7201a8\"],[0.3333333333333333,\"#9c179e\"],[0.4444444444444444,\"#bd3786\"],[0.5555555555555556,\"#d8576b\"],[0.6666666666666666,\"#ed7953\"],[0.7777777777777778,\"#fb9f3a\"],[0.8888888888888888,\"#fdca26\"],[1.0,\"#f0f921\"]]},\"colorway\":[\"#636efa\",\"#EF553B\",\"#00cc96\",\"#ab63fa\",\"#FFA15A\",\"#19d3f3\",\"#FF6692\",\"#B6E880\",\"#FF97FF\",\"#FECB52\"],\"font\":{\"color\":\"#2a3f5f\"},\"geo\":{\"bgcolor\":\"white\",\"lakecolor\":\"white\",\"landcolor\":\"#E5ECF6\",\"showlakes\":true,\"showland\":true,\"subunitcolor\":\"white\"},\"hoverlabel\":{\"align\":\"left\"},\"hovermode\":\"closest\",\"mapbox\":{\"style\":\"light\"},\"paper_bgcolor\":\"white\",\"plot_bgcolor\":\"#E5ECF6\",\"polar\":{\"angularaxis\":{\"gridcolor\":\"white\",\"linecolor\":\"white\",\"ticks\":\"\"},\"bgcolor\":\"#E5ECF6\",\"radialaxis\":{\"gridcolor\":\"white\",\"linecolor\":\"white\",\"ticks\":\"\"}},\"scene\":{\"xaxis\":{\"backgroundcolor\":\"#E5ECF6\",\"gridcolor\":\"white\",\"gridwidth\":2,\"linecolor\":\"white\",\"showbackground\":true,\"ticks\":\"\",\"zerolinecolor\":\"white\"},\"yaxis\":{\"backgroundcolor\":\"#E5ECF6\",\"gridcolor\":\"white\",\"gridwidth\":2,\"linecolor\":\"white\",\"showbackground\":true,\"ticks\":\"\",\"zerolinecolor\":\"white\"},\"zaxis\":{\"backgroundcolor\":\"#E5ECF6\",\"gridcolor\":\"white\",\"gridwidth\":2,\"linecolor\":\"white\",\"showbackground\":true,\"ticks\":\"\",\"zerolinecolor\":\"white\"}},\"shapedefaults\":{\"line\":{\"color\":\"#2a3f5f\"}},\"ternary\":{\"aaxis\":{\"gridcolor\":\"white\",\"linecolor\":\"white\",\"ticks\":\"\"},\"baxis\":{\"gridcolor\":\"white\",\"linecolor\":\"white\",\"ticks\":\"\"},\"bgcolor\":\"#E5ECF6\",\"caxis\":{\"gridcolor\":\"white\",\"linecolor\":\"white\",\"ticks\":\"\"}},\"title\":{\"x\":0.05},\"xaxis\":{\"automargin\":true,\"gridcolor\":\"white\",\"linecolor\":\"white\",\"ticks\":\"\",\"title\":{\"standoff\":15},\"zerolinecolor\":\"white\",\"zerolinewidth\":2},\"yaxis\":{\"automargin\":true,\"gridcolor\":\"white\",\"linecolor\":\"white\",\"ticks\":\"\",\"title\":{\"standoff\":15},\"zerolinecolor\":\"white\",\"zerolinewidth\":2}}},\"yaxis\":{\"range\":[-12,5],\"showgrid\":true,\"gridwidth\":1,\"gridcolor\":\"red\",\"scaleanchor\":\"x\",\"scaleratio\":1,\"automargin\":false,\"tickmode\":\"linear\",\"tick0\":-12,\"dtick\":1.0,\"title\":{\"text\":\"Y\"},\"visible\":true},\"xaxis\":{\"range\":[-10,10],\"showgrid\":true,\"gridwidth\":1,\"gridcolor\":\"red\",\"automargin\":false,\"tickmode\":\"linear\",\"tick0\":-10,\"dtick\":1.0,\"title\":{\"text\":\"X\"},\"visible\":true},\"height\":900.0,\"width\":1050.0,\"autosize\":false,\"shapes\":[{\"type\":\"line\",\"x0\":0,\"x1\":1,\"xref\":\"x domain\",\"y0\":0.0,\"y1\":0.0,\"yref\":\"y\"},{\"type\":\"line\",\"x0\":0.0,\"x1\":0.0,\"xref\":\"x\",\"y0\":0,\"y1\":1,\"yref\":\"y domain\"}],\"font\":{\"family\":\"Courier New, monospace\",\"size\":12,\"color\":\"RebeccaPurple\"},\"title\":{\"text\":\"Plots\"},\"legend\":{\"title\":{\"text\":\"List\"}},\"showlegend\":true},                        {\"responsive\": true}                    ).then(function(){\n",
              "                            \n",
              "var gd = document.getElementById('71c97f3d-040c-49c3-a966-26bc21b8fa7b');\n",
              "var x = new MutationObserver(function (mutations, observer) {{\n",
              "        var display = window.getComputedStyle(gd).display;\n",
              "        if (!display || display === 'none') {{\n",
              "            console.log([gd, 'removed!']);\n",
              "            Plotly.purge(gd);\n",
              "            observer.disconnect();\n",
              "        }}\n",
              "}});\n",
              "\n",
              "// Listen for the removal of the full notebook cells\n",
              "var notebookContainer = gd.closest('#notebook-container');\n",
              "if (notebookContainer) {{\n",
              "    x.observe(notebookContainer, {childList: true});\n",
              "}}\n",
              "\n",
              "// Listen for the clearing of the current output cell\n",
              "var outputEl = gd.closest('.output');\n",
              "if (outputEl) {{\n",
              "    x.observe(outputEl, {childList: true});\n",
              "}}\n",
              "\n",
              "                        })                };                            </script>        </div>\n",
              "</body>\n",
              "</html>"
            ]
          },
          "metadata": {}
        }
      ]
    },
    {
      "cell_type": "markdown",
      "source": [
        "## Generate frames using line art\n",
        "Once you are happy with the plots, you want to turn off the grid so that everything appears nicer.\n",
        "\n",
        "To do this, simply add:\n",
        "```\n",
        "NiceGr.setupGrid()\n",
        "```\n",
        "\n",
        "Also, you can save a picture of the graph using:\n",
        "```\n",
        "NiceGr.saveImage(\"frame1.png\") \n",
        "```\n",
        "We will collect these frames to make a video!\n",
        "\n",
        "## Assignment\n",
        "\n",
        "Feel free to experiment with different designs.\n",
        "\n",
        "What can you draw?\n",
        "\n"
      ],
      "metadata": {
        "id": "q8h1CxzaMt0J"
      }
    },
    {
      "cell_type": "code",
      "source": [
        "# Create the object\n",
        "NiceGr = cuteGraph() \n",
        "\n",
        "# Set up the axes\n",
        "# Leave enough space on the right hand side for the text!\n",
        "NiceGr.setStep(step=1.0, stepPixels=20)\n",
        "NiceGr.setX(minX=-10, maxX=25)\n",
        "NiceGr.setY(minY=-15,  maxY=+5)\n",
        "\n",
        "# Turn off the extras before setting up the grid:\n",
        "NiceGr.allOff()\n",
        "\n",
        "# Prepare the grid\n",
        "NiceGr.setupGrid()\n",
        "\n",
        "# Main house\n",
        "NiceGr.setwidths(linewidth=5, pointwidth=2)\n",
        "NiceGr.rect(x1=-5, y1=-10, x2=+5, y2=-5, color=\"red\")\n",
        "\n",
        "# Show the graph\n",
        "NiceGr.plotAll() \n",
        "NiceGr.saveImage(\"frame1.png\") \n",
        "\n",
        "# The door\n",
        "NiceGr.setwidths(linewidth=3, pointwidth=1)\n",
        "NiceGr.rect(x1=-1, y1=-10, x2=1, y2=-7, color=\"blue\")\n",
        "\n",
        "# The window\n",
        "NiceGr.setwidths(linewidth=3, pointwidth=1)\n",
        "NiceGr.rect(x1=+2, y1=-7, x2=2+1, y2=-7+1, color=\"blue\")\n",
        "\n",
        "NiceGr.plotAll() \n",
        "NiceGr.saveImage(\"frame2.png\") \n",
        "\n",
        "# The roof\n",
        "for x1 in range(-5, +5+1):\n",
        "  NiceGr.lineseg(x1=x1, y1=-5, x2=0, y2=0, color=\"green\")\n",
        "\n",
        "# Show the graph\n",
        "NiceGr.plotAll() \n",
        "NiceGr.saveImage(\"frame3.png\") \n",
        "\n",
        "# Add a front:\n",
        "y1 = -15\n",
        "dx = 5\n",
        "dy = 4\n",
        "for x1 in range(-15, +10):\n",
        "  x2 = x1 + dx\n",
        "  y2 = y1 + dy\n",
        "  NiceGr.lineseg(x1=x1, y1=y1, x2=x2, y2=y2, color=\"yellow\")\n",
        "\n",
        "# Show the graph\n",
        "NiceGr.plotAll() \n",
        "NiceGr.saveImage(\"frame4.png\") \n",
        "\n",
        "# Add text:\n",
        "text = \"\"\"Student Name<br>\n",
        "Class Name<br>\n",
        "School Name<br>\n",
        "Semester Year\"\"\"\n",
        "\n",
        "NiceGr.addText(x=15, y=0, text=text, color=\"black\")\n",
        "\n",
        "# Show the graph\n",
        "NiceGr.plotAll() \n",
        "NiceGr.saveImage(\"frame5.png\") "
      ],
      "metadata": {
        "colab": {
          "base_uri": "https://localhost:8080/",
          "height": 1000
        },
        "id": "G63O9h8zuDVz",
        "outputId": "6ebbc704-c629-443f-c4e9-0a25c51b4096"
      },
      "execution_count": 12,
      "outputs": [
        {
          "output_type": "display_data",
          "data": {
            "text/html": [
              "<html>\n",
              "<head><meta charset=\"utf-8\" /></head>\n",
              "<body>\n",
              "    <div>            <script src=\"https://cdnjs.cloudflare.com/ajax/libs/mathjax/2.7.5/MathJax.js?config=TeX-AMS-MML_SVG\"></script><script type=\"text/javascript\">if (window.MathJax) {MathJax.Hub.Config({SVG: {font: \"STIX-Web\"}});}</script>                <script type=\"text/javascript\">window.PlotlyConfig = {MathJaxConfig: 'local'};</script>\n",
              "        <script src=\"https://cdn.plot.ly/plotly-2.8.3.min.js\"></script>                <div id=\"da5b80c1-95b4-4051-b57c-a6485d4c7912\" class=\"plotly-graph-div\" style=\"height:420.0px; width:720.0px;\"></div>            <script type=\"text/javascript\">                                    window.PLOTLYENV=window.PLOTLYENV || {};                                    if (document.getElementById(\"da5b80c1-95b4-4051-b57c-a6485d4c7912\")) {                    Plotly.newPlot(                        \"da5b80c1-95b4-4051-b57c-a6485d4c7912\",                        [{\"line\":{\"color\":\"red\",\"width\":5},\"mode\":\"lines+markers\",\"name\":\"Rect: line (-5, -10) to (-5, -5)\",\"x\":[-5,-5],\"y\":[-10,-5],\"type\":\"scatter\"},{\"line\":{\"color\":\"red\",\"width\":5},\"mode\":\"lines+markers\",\"name\":\"Rect: line (5, -10) to (5, -5)\",\"x\":[5,5],\"y\":[-10,-5],\"type\":\"scatter\"},{\"line\":{\"color\":\"red\",\"width\":5},\"mode\":\"lines+markers\",\"name\":\"Rect: line (-5, -10) to (5, -10)\",\"x\":[-5,5],\"y\":[-10,-10],\"type\":\"scatter\"},{\"line\":{\"color\":\"red\",\"width\":5},\"mode\":\"lines+markers\",\"name\":\"Rect: line (-5, -5) to (5, -5)\",\"x\":[-5,5],\"y\":[-5,-5],\"type\":\"scatter\"}],                        {\"template\":{\"data\":{\"bar\":[{\"error_x\":{\"color\":\"#2a3f5f\"},\"error_y\":{\"color\":\"#2a3f5f\"},\"marker\":{\"line\":{\"color\":\"#E5ECF6\",\"width\":0.5},\"pattern\":{\"fillmode\":\"overlay\",\"size\":10,\"solidity\":0.2}},\"type\":\"bar\"}],\"barpolar\":[{\"marker\":{\"line\":{\"color\":\"#E5ECF6\",\"width\":0.5},\"pattern\":{\"fillmode\":\"overlay\",\"size\":10,\"solidity\":0.2}},\"type\":\"barpolar\"}],\"carpet\":[{\"aaxis\":{\"endlinecolor\":\"#2a3f5f\",\"gridcolor\":\"white\",\"linecolor\":\"white\",\"minorgridcolor\":\"white\",\"startlinecolor\":\"#2a3f5f\"},\"baxis\":{\"endlinecolor\":\"#2a3f5f\",\"gridcolor\":\"white\",\"linecolor\":\"white\",\"minorgridcolor\":\"white\",\"startlinecolor\":\"#2a3f5f\"},\"type\":\"carpet\"}],\"choropleth\":[{\"colorbar\":{\"outlinewidth\":0,\"ticks\":\"\"},\"type\":\"choropleth\"}],\"contour\":[{\"colorbar\":{\"outlinewidth\":0,\"ticks\":\"\"},\"colorscale\":[[0.0,\"#0d0887\"],[0.1111111111111111,\"#46039f\"],[0.2222222222222222,\"#7201a8\"],[0.3333333333333333,\"#9c179e\"],[0.4444444444444444,\"#bd3786\"],[0.5555555555555556,\"#d8576b\"],[0.6666666666666666,\"#ed7953\"],[0.7777777777777778,\"#fb9f3a\"],[0.8888888888888888,\"#fdca26\"],[1.0,\"#f0f921\"]],\"type\":\"contour\"}],\"contourcarpet\":[{\"colorbar\":{\"outlinewidth\":0,\"ticks\":\"\"},\"type\":\"contourcarpet\"}],\"heatmap\":[{\"colorbar\":{\"outlinewidth\":0,\"ticks\":\"\"},\"colorscale\":[[0.0,\"#0d0887\"],[0.1111111111111111,\"#46039f\"],[0.2222222222222222,\"#7201a8\"],[0.3333333333333333,\"#9c179e\"],[0.4444444444444444,\"#bd3786\"],[0.5555555555555556,\"#d8576b\"],[0.6666666666666666,\"#ed7953\"],[0.7777777777777778,\"#fb9f3a\"],[0.8888888888888888,\"#fdca26\"],[1.0,\"#f0f921\"]],\"type\":\"heatmap\"}],\"heatmapgl\":[{\"colorbar\":{\"outlinewidth\":0,\"ticks\":\"\"},\"colorscale\":[[0.0,\"#0d0887\"],[0.1111111111111111,\"#46039f\"],[0.2222222222222222,\"#7201a8\"],[0.3333333333333333,\"#9c179e\"],[0.4444444444444444,\"#bd3786\"],[0.5555555555555556,\"#d8576b\"],[0.6666666666666666,\"#ed7953\"],[0.7777777777777778,\"#fb9f3a\"],[0.8888888888888888,\"#fdca26\"],[1.0,\"#f0f921\"]],\"type\":\"heatmapgl\"}],\"histogram\":[{\"marker\":{\"pattern\":{\"fillmode\":\"overlay\",\"size\":10,\"solidity\":0.2}},\"type\":\"histogram\"}],\"histogram2d\":[{\"colorbar\":{\"outlinewidth\":0,\"ticks\":\"\"},\"colorscale\":[[0.0,\"#0d0887\"],[0.1111111111111111,\"#46039f\"],[0.2222222222222222,\"#7201a8\"],[0.3333333333333333,\"#9c179e\"],[0.4444444444444444,\"#bd3786\"],[0.5555555555555556,\"#d8576b\"],[0.6666666666666666,\"#ed7953\"],[0.7777777777777778,\"#fb9f3a\"],[0.8888888888888888,\"#fdca26\"],[1.0,\"#f0f921\"]],\"type\":\"histogram2d\"}],\"histogram2dcontour\":[{\"colorbar\":{\"outlinewidth\":0,\"ticks\":\"\"},\"colorscale\":[[0.0,\"#0d0887\"],[0.1111111111111111,\"#46039f\"],[0.2222222222222222,\"#7201a8\"],[0.3333333333333333,\"#9c179e\"],[0.4444444444444444,\"#bd3786\"],[0.5555555555555556,\"#d8576b\"],[0.6666666666666666,\"#ed7953\"],[0.7777777777777778,\"#fb9f3a\"],[0.8888888888888888,\"#fdca26\"],[1.0,\"#f0f921\"]],\"type\":\"histogram2dcontour\"}],\"mesh3d\":[{\"colorbar\":{\"outlinewidth\":0,\"ticks\":\"\"},\"type\":\"mesh3d\"}],\"parcoords\":[{\"line\":{\"colorbar\":{\"outlinewidth\":0,\"ticks\":\"\"}},\"type\":\"parcoords\"}],\"pie\":[{\"automargin\":true,\"type\":\"pie\"}],\"scatter\":[{\"marker\":{\"colorbar\":{\"outlinewidth\":0,\"ticks\":\"\"}},\"type\":\"scatter\"}],\"scatter3d\":[{\"line\":{\"colorbar\":{\"outlinewidth\":0,\"ticks\":\"\"}},\"marker\":{\"colorbar\":{\"outlinewidth\":0,\"ticks\":\"\"}},\"type\":\"scatter3d\"}],\"scattercarpet\":[{\"marker\":{\"colorbar\":{\"outlinewidth\":0,\"ticks\":\"\"}},\"type\":\"scattercarpet\"}],\"scattergeo\":[{\"marker\":{\"colorbar\":{\"outlinewidth\":0,\"ticks\":\"\"}},\"type\":\"scattergeo\"}],\"scattergl\":[{\"marker\":{\"colorbar\":{\"outlinewidth\":0,\"ticks\":\"\"}},\"type\":\"scattergl\"}],\"scattermapbox\":[{\"marker\":{\"colorbar\":{\"outlinewidth\":0,\"ticks\":\"\"}},\"type\":\"scattermapbox\"}],\"scatterpolar\":[{\"marker\":{\"colorbar\":{\"outlinewidth\":0,\"ticks\":\"\"}},\"type\":\"scatterpolar\"}],\"scatterpolargl\":[{\"marker\":{\"colorbar\":{\"outlinewidth\":0,\"ticks\":\"\"}},\"type\":\"scatterpolargl\"}],\"scatterternary\":[{\"marker\":{\"colorbar\":{\"outlinewidth\":0,\"ticks\":\"\"}},\"type\":\"scatterternary\"}],\"surface\":[{\"colorbar\":{\"outlinewidth\":0,\"ticks\":\"\"},\"colorscale\":[[0.0,\"#0d0887\"],[0.1111111111111111,\"#46039f\"],[0.2222222222222222,\"#7201a8\"],[0.3333333333333333,\"#9c179e\"],[0.4444444444444444,\"#bd3786\"],[0.5555555555555556,\"#d8576b\"],[0.6666666666666666,\"#ed7953\"],[0.7777777777777778,\"#fb9f3a\"],[0.8888888888888888,\"#fdca26\"],[1.0,\"#f0f921\"]],\"type\":\"surface\"}],\"table\":[{\"cells\":{\"fill\":{\"color\":\"#EBF0F8\"},\"line\":{\"color\":\"white\"}},\"header\":{\"fill\":{\"color\":\"#C8D4E3\"},\"line\":{\"color\":\"white\"}},\"type\":\"table\"}]},\"layout\":{\"annotationdefaults\":{\"arrowcolor\":\"#2a3f5f\",\"arrowhead\":0,\"arrowwidth\":1},\"autotypenumbers\":\"strict\",\"coloraxis\":{\"colorbar\":{\"outlinewidth\":0,\"ticks\":\"\"}},\"colorscale\":{\"diverging\":[[0,\"#8e0152\"],[0.1,\"#c51b7d\"],[0.2,\"#de77ae\"],[0.3,\"#f1b6da\"],[0.4,\"#fde0ef\"],[0.5,\"#f7f7f7\"],[0.6,\"#e6f5d0\"],[0.7,\"#b8e186\"],[0.8,\"#7fbc41\"],[0.9,\"#4d9221\"],[1,\"#276419\"]],\"sequential\":[[0.0,\"#0d0887\"],[0.1111111111111111,\"#46039f\"],[0.2222222222222222,\"#7201a8\"],[0.3333333333333333,\"#9c179e\"],[0.4444444444444444,\"#bd3786\"],[0.5555555555555556,\"#d8576b\"],[0.6666666666666666,\"#ed7953\"],[0.7777777777777778,\"#fb9f3a\"],[0.8888888888888888,\"#fdca26\"],[1.0,\"#f0f921\"]],\"sequentialminus\":[[0.0,\"#0d0887\"],[0.1111111111111111,\"#46039f\"],[0.2222222222222222,\"#7201a8\"],[0.3333333333333333,\"#9c179e\"],[0.4444444444444444,\"#bd3786\"],[0.5555555555555556,\"#d8576b\"],[0.6666666666666666,\"#ed7953\"],[0.7777777777777778,\"#fb9f3a\"],[0.8888888888888888,\"#fdca26\"],[1.0,\"#f0f921\"]]},\"colorway\":[\"#636efa\",\"#EF553B\",\"#00cc96\",\"#ab63fa\",\"#FFA15A\",\"#19d3f3\",\"#FF6692\",\"#B6E880\",\"#FF97FF\",\"#FECB52\"],\"font\":{\"color\":\"#2a3f5f\"},\"geo\":{\"bgcolor\":\"white\",\"lakecolor\":\"white\",\"landcolor\":\"#E5ECF6\",\"showlakes\":true,\"showland\":true,\"subunitcolor\":\"white\"},\"hoverlabel\":{\"align\":\"left\"},\"hovermode\":\"closest\",\"mapbox\":{\"style\":\"light\"},\"paper_bgcolor\":\"white\",\"plot_bgcolor\":\"#E5ECF6\",\"polar\":{\"angularaxis\":{\"gridcolor\":\"white\",\"linecolor\":\"white\",\"ticks\":\"\"},\"bgcolor\":\"#E5ECF6\",\"radialaxis\":{\"gridcolor\":\"white\",\"linecolor\":\"white\",\"ticks\":\"\"}},\"scene\":{\"xaxis\":{\"backgroundcolor\":\"#E5ECF6\",\"gridcolor\":\"white\",\"gridwidth\":2,\"linecolor\":\"white\",\"showbackground\":true,\"ticks\":\"\",\"zerolinecolor\":\"white\"},\"yaxis\":{\"backgroundcolor\":\"#E5ECF6\",\"gridcolor\":\"white\",\"gridwidth\":2,\"linecolor\":\"white\",\"showbackground\":true,\"ticks\":\"\",\"zerolinecolor\":\"white\"},\"zaxis\":{\"backgroundcolor\":\"#E5ECF6\",\"gridcolor\":\"white\",\"gridwidth\":2,\"linecolor\":\"white\",\"showbackground\":true,\"ticks\":\"\",\"zerolinecolor\":\"white\"}},\"shapedefaults\":{\"line\":{\"color\":\"#2a3f5f\"}},\"ternary\":{\"aaxis\":{\"gridcolor\":\"white\",\"linecolor\":\"white\",\"ticks\":\"\"},\"baxis\":{\"gridcolor\":\"white\",\"linecolor\":\"white\",\"ticks\":\"\"},\"bgcolor\":\"#E5ECF6\",\"caxis\":{\"gridcolor\":\"white\",\"linecolor\":\"white\",\"ticks\":\"\"}},\"title\":{\"x\":0.05},\"xaxis\":{\"automargin\":true,\"gridcolor\":\"white\",\"linecolor\":\"white\",\"ticks\":\"\",\"title\":{\"standoff\":15},\"zerolinecolor\":\"white\",\"zerolinewidth\":2},\"yaxis\":{\"automargin\":true,\"gridcolor\":\"white\",\"linecolor\":\"white\",\"ticks\":\"\",\"title\":{\"standoff\":15},\"zerolinecolor\":\"white\",\"zerolinewidth\":2}}},\"yaxis\":{\"range\":[-15,5],\"showgrid\":false,\"gridwidth\":1,\"gridcolor\":\"red\",\"scaleanchor\":\"x\",\"scaleratio\":1,\"automargin\":false,\"tickmode\":\"linear\",\"tick0\":-15,\"dtick\":1.0,\"visible\":false},\"xaxis\":{\"range\":[-10,25],\"showgrid\":false,\"gridwidth\":1,\"gridcolor\":\"red\",\"automargin\":false,\"tickmode\":\"linear\",\"tick0\":-10,\"dtick\":1.0,\"visible\":false},\"height\":420.0,\"width\":720.0,\"autosize\":false,\"showlegend\":false},                        {\"responsive\": true}                    ).then(function(){\n",
              "                            \n",
              "var gd = document.getElementById('da5b80c1-95b4-4051-b57c-a6485d4c7912');\n",
              "var x = new MutationObserver(function (mutations, observer) {{\n",
              "        var display = window.getComputedStyle(gd).display;\n",
              "        if (!display || display === 'none') {{\n",
              "            console.log([gd, 'removed!']);\n",
              "            Plotly.purge(gd);\n",
              "            observer.disconnect();\n",
              "        }}\n",
              "}});\n",
              "\n",
              "// Listen for the removal of the full notebook cells\n",
              "var notebookContainer = gd.closest('#notebook-container');\n",
              "if (notebookContainer) {{\n",
              "    x.observe(notebookContainer, {childList: true});\n",
              "}}\n",
              "\n",
              "// Listen for the clearing of the current output cell\n",
              "var outputEl = gd.closest('.output');\n",
              "if (outputEl) {{\n",
              "    x.observe(outputEl, {childList: true});\n",
              "}}\n",
              "\n",
              "                        })                };                            </script>        </div>\n",
              "</body>\n",
              "</html>"
            ]
          },
          "metadata": {}
        },
        {
          "output_type": "display_data",
          "data": {
            "text/html": [
              "<html>\n",
              "<head><meta charset=\"utf-8\" /></head>\n",
              "<body>\n",
              "    <div>            <script src=\"https://cdnjs.cloudflare.com/ajax/libs/mathjax/2.7.5/MathJax.js?config=TeX-AMS-MML_SVG\"></script><script type=\"text/javascript\">if (window.MathJax) {MathJax.Hub.Config({SVG: {font: \"STIX-Web\"}});}</script>                <script type=\"text/javascript\">window.PlotlyConfig = {MathJaxConfig: 'local'};</script>\n",
              "        <script src=\"https://cdn.plot.ly/plotly-2.8.3.min.js\"></script>                <div id=\"066f5349-c545-4a22-b01a-74f584559a37\" class=\"plotly-graph-div\" style=\"height:420.0px; width:720.0px;\"></div>            <script type=\"text/javascript\">                                    window.PLOTLYENV=window.PLOTLYENV || {};                                    if (document.getElementById(\"066f5349-c545-4a22-b01a-74f584559a37\")) {                    Plotly.newPlot(                        \"066f5349-c545-4a22-b01a-74f584559a37\",                        [{\"line\":{\"color\":\"red\",\"width\":5},\"mode\":\"lines+markers\",\"name\":\"Rect: line (-5, -10) to (-5, -5)\",\"x\":[-5,-5],\"y\":[-10,-5],\"type\":\"scatter\"},{\"line\":{\"color\":\"red\",\"width\":5},\"mode\":\"lines+markers\",\"name\":\"Rect: line (5, -10) to (5, -5)\",\"x\":[5,5],\"y\":[-10,-5],\"type\":\"scatter\"},{\"line\":{\"color\":\"red\",\"width\":5},\"mode\":\"lines+markers\",\"name\":\"Rect: line (-5, -10) to (5, -10)\",\"x\":[-5,5],\"y\":[-10,-10],\"type\":\"scatter\"},{\"line\":{\"color\":\"red\",\"width\":5},\"mode\":\"lines+markers\",\"name\":\"Rect: line (-5, -5) to (5, -5)\",\"x\":[-5,5],\"y\":[-5,-5],\"type\":\"scatter\"},{\"line\":{\"color\":\"red\",\"width\":3},\"mode\":\"lines+markers\",\"name\":\"Rect: line (-5, -10) to (-5, -5)\",\"x\":[-5,-5],\"y\":[-10,-5],\"type\":\"scatter\"},{\"line\":{\"color\":\"red\",\"width\":3},\"mode\":\"lines+markers\",\"name\":\"Rect: line (5, -10) to (5, -5)\",\"x\":[5,5],\"y\":[-10,-5],\"type\":\"scatter\"},{\"line\":{\"color\":\"red\",\"width\":3},\"mode\":\"lines+markers\",\"name\":\"Rect: line (-5, -10) to (5, -10)\",\"x\":[-5,5],\"y\":[-10,-10],\"type\":\"scatter\"},{\"line\":{\"color\":\"red\",\"width\":3},\"mode\":\"lines+markers\",\"name\":\"Rect: line (-5, -5) to (5, -5)\",\"x\":[-5,5],\"y\":[-5,-5],\"type\":\"scatter\"},{\"line\":{\"color\":\"blue\",\"width\":3},\"mode\":\"lines+markers\",\"name\":\"Rect: line (-1, -10) to (-1, -7)\",\"x\":[-1,-1],\"y\":[-10,-7],\"type\":\"scatter\"},{\"line\":{\"color\":\"blue\",\"width\":3},\"mode\":\"lines+markers\",\"name\":\"Rect: line (1, -10) to (1, -7)\",\"x\":[1,1],\"y\":[-10,-7],\"type\":\"scatter\"},{\"line\":{\"color\":\"blue\",\"width\":3},\"mode\":\"lines+markers\",\"name\":\"Rect: line (-1, -10) to (1, -10)\",\"x\":[-1,1],\"y\":[-10,-10],\"type\":\"scatter\"},{\"line\":{\"color\":\"blue\",\"width\":3},\"mode\":\"lines+markers\",\"name\":\"Rect: line (-1, -7) to (1, -7)\",\"x\":[-1,1],\"y\":[-7,-7],\"type\":\"scatter\"},{\"line\":{\"color\":\"blue\",\"width\":3},\"mode\":\"lines+markers\",\"name\":\"Rect: line (2, -7) to (2, -6)\",\"x\":[2,2],\"y\":[-7,-6],\"type\":\"scatter\"},{\"line\":{\"color\":\"blue\",\"width\":3},\"mode\":\"lines+markers\",\"name\":\"Rect: line (3, -7) to (3, -6)\",\"x\":[3,3],\"y\":[-7,-6],\"type\":\"scatter\"},{\"line\":{\"color\":\"blue\",\"width\":3},\"mode\":\"lines+markers\",\"name\":\"Rect: line (2, -7) to (3, -7)\",\"x\":[2,3],\"y\":[-7,-7],\"type\":\"scatter\"},{\"line\":{\"color\":\"blue\",\"width\":3},\"mode\":\"lines+markers\",\"name\":\"Rect: line (2, -6) to (3, -6)\",\"x\":[2,3],\"y\":[-6,-6],\"type\":\"scatter\"}],                        {\"template\":{\"data\":{\"bar\":[{\"error_x\":{\"color\":\"#2a3f5f\"},\"error_y\":{\"color\":\"#2a3f5f\"},\"marker\":{\"line\":{\"color\":\"#E5ECF6\",\"width\":0.5},\"pattern\":{\"fillmode\":\"overlay\",\"size\":10,\"solidity\":0.2}},\"type\":\"bar\"}],\"barpolar\":[{\"marker\":{\"line\":{\"color\":\"#E5ECF6\",\"width\":0.5},\"pattern\":{\"fillmode\":\"overlay\",\"size\":10,\"solidity\":0.2}},\"type\":\"barpolar\"}],\"carpet\":[{\"aaxis\":{\"endlinecolor\":\"#2a3f5f\",\"gridcolor\":\"white\",\"linecolor\":\"white\",\"minorgridcolor\":\"white\",\"startlinecolor\":\"#2a3f5f\"},\"baxis\":{\"endlinecolor\":\"#2a3f5f\",\"gridcolor\":\"white\",\"linecolor\":\"white\",\"minorgridcolor\":\"white\",\"startlinecolor\":\"#2a3f5f\"},\"type\":\"carpet\"}],\"choropleth\":[{\"colorbar\":{\"outlinewidth\":0,\"ticks\":\"\"},\"type\":\"choropleth\"}],\"contour\":[{\"colorbar\":{\"outlinewidth\":0,\"ticks\":\"\"},\"colorscale\":[[0.0,\"#0d0887\"],[0.1111111111111111,\"#46039f\"],[0.2222222222222222,\"#7201a8\"],[0.3333333333333333,\"#9c179e\"],[0.4444444444444444,\"#bd3786\"],[0.5555555555555556,\"#d8576b\"],[0.6666666666666666,\"#ed7953\"],[0.7777777777777778,\"#fb9f3a\"],[0.8888888888888888,\"#fdca26\"],[1.0,\"#f0f921\"]],\"type\":\"contour\"}],\"contourcarpet\":[{\"colorbar\":{\"outlinewidth\":0,\"ticks\":\"\"},\"type\":\"contourcarpet\"}],\"heatmap\":[{\"colorbar\":{\"outlinewidth\":0,\"ticks\":\"\"},\"colorscale\":[[0.0,\"#0d0887\"],[0.1111111111111111,\"#46039f\"],[0.2222222222222222,\"#7201a8\"],[0.3333333333333333,\"#9c179e\"],[0.4444444444444444,\"#bd3786\"],[0.5555555555555556,\"#d8576b\"],[0.6666666666666666,\"#ed7953\"],[0.7777777777777778,\"#fb9f3a\"],[0.8888888888888888,\"#fdca26\"],[1.0,\"#f0f921\"]],\"type\":\"heatmap\"}],\"heatmapgl\":[{\"colorbar\":{\"outlinewidth\":0,\"ticks\":\"\"},\"colorscale\":[[0.0,\"#0d0887\"],[0.1111111111111111,\"#46039f\"],[0.2222222222222222,\"#7201a8\"],[0.3333333333333333,\"#9c179e\"],[0.4444444444444444,\"#bd3786\"],[0.5555555555555556,\"#d8576b\"],[0.6666666666666666,\"#ed7953\"],[0.7777777777777778,\"#fb9f3a\"],[0.8888888888888888,\"#fdca26\"],[1.0,\"#f0f921\"]],\"type\":\"heatmapgl\"}],\"histogram\":[{\"marker\":{\"pattern\":{\"fillmode\":\"overlay\",\"size\":10,\"solidity\":0.2}},\"type\":\"histogram\"}],\"histogram2d\":[{\"colorbar\":{\"outlinewidth\":0,\"ticks\":\"\"},\"colorscale\":[[0.0,\"#0d0887\"],[0.1111111111111111,\"#46039f\"],[0.2222222222222222,\"#7201a8\"],[0.3333333333333333,\"#9c179e\"],[0.4444444444444444,\"#bd3786\"],[0.5555555555555556,\"#d8576b\"],[0.6666666666666666,\"#ed7953\"],[0.7777777777777778,\"#fb9f3a\"],[0.8888888888888888,\"#fdca26\"],[1.0,\"#f0f921\"]],\"type\":\"histogram2d\"}],\"histogram2dcontour\":[{\"colorbar\":{\"outlinewidth\":0,\"ticks\":\"\"},\"colorscale\":[[0.0,\"#0d0887\"],[0.1111111111111111,\"#46039f\"],[0.2222222222222222,\"#7201a8\"],[0.3333333333333333,\"#9c179e\"],[0.4444444444444444,\"#bd3786\"],[0.5555555555555556,\"#d8576b\"],[0.6666666666666666,\"#ed7953\"],[0.7777777777777778,\"#fb9f3a\"],[0.8888888888888888,\"#fdca26\"],[1.0,\"#f0f921\"]],\"type\":\"histogram2dcontour\"}],\"mesh3d\":[{\"colorbar\":{\"outlinewidth\":0,\"ticks\":\"\"},\"type\":\"mesh3d\"}],\"parcoords\":[{\"line\":{\"colorbar\":{\"outlinewidth\":0,\"ticks\":\"\"}},\"type\":\"parcoords\"}],\"pie\":[{\"automargin\":true,\"type\":\"pie\"}],\"scatter\":[{\"marker\":{\"colorbar\":{\"outlinewidth\":0,\"ticks\":\"\"}},\"type\":\"scatter\"}],\"scatter3d\":[{\"line\":{\"colorbar\":{\"outlinewidth\":0,\"ticks\":\"\"}},\"marker\":{\"colorbar\":{\"outlinewidth\":0,\"ticks\":\"\"}},\"type\":\"scatter3d\"}],\"scattercarpet\":[{\"marker\":{\"colorbar\":{\"outlinewidth\":0,\"ticks\":\"\"}},\"type\":\"scattercarpet\"}],\"scattergeo\":[{\"marker\":{\"colorbar\":{\"outlinewidth\":0,\"ticks\":\"\"}},\"type\":\"scattergeo\"}],\"scattergl\":[{\"marker\":{\"colorbar\":{\"outlinewidth\":0,\"ticks\":\"\"}},\"type\":\"scattergl\"}],\"scattermapbox\":[{\"marker\":{\"colorbar\":{\"outlinewidth\":0,\"ticks\":\"\"}},\"type\":\"scattermapbox\"}],\"scatterpolar\":[{\"marker\":{\"colorbar\":{\"outlinewidth\":0,\"ticks\":\"\"}},\"type\":\"scatterpolar\"}],\"scatterpolargl\":[{\"marker\":{\"colorbar\":{\"outlinewidth\":0,\"ticks\":\"\"}},\"type\":\"scatterpolargl\"}],\"scatterternary\":[{\"marker\":{\"colorbar\":{\"outlinewidth\":0,\"ticks\":\"\"}},\"type\":\"scatterternary\"}],\"surface\":[{\"colorbar\":{\"outlinewidth\":0,\"ticks\":\"\"},\"colorscale\":[[0.0,\"#0d0887\"],[0.1111111111111111,\"#46039f\"],[0.2222222222222222,\"#7201a8\"],[0.3333333333333333,\"#9c179e\"],[0.4444444444444444,\"#bd3786\"],[0.5555555555555556,\"#d8576b\"],[0.6666666666666666,\"#ed7953\"],[0.7777777777777778,\"#fb9f3a\"],[0.8888888888888888,\"#fdca26\"],[1.0,\"#f0f921\"]],\"type\":\"surface\"}],\"table\":[{\"cells\":{\"fill\":{\"color\":\"#EBF0F8\"},\"line\":{\"color\":\"white\"}},\"header\":{\"fill\":{\"color\":\"#C8D4E3\"},\"line\":{\"color\":\"white\"}},\"type\":\"table\"}]},\"layout\":{\"annotationdefaults\":{\"arrowcolor\":\"#2a3f5f\",\"arrowhead\":0,\"arrowwidth\":1},\"autotypenumbers\":\"strict\",\"coloraxis\":{\"colorbar\":{\"outlinewidth\":0,\"ticks\":\"\"}},\"colorscale\":{\"diverging\":[[0,\"#8e0152\"],[0.1,\"#c51b7d\"],[0.2,\"#de77ae\"],[0.3,\"#f1b6da\"],[0.4,\"#fde0ef\"],[0.5,\"#f7f7f7\"],[0.6,\"#e6f5d0\"],[0.7,\"#b8e186\"],[0.8,\"#7fbc41\"],[0.9,\"#4d9221\"],[1,\"#276419\"]],\"sequential\":[[0.0,\"#0d0887\"],[0.1111111111111111,\"#46039f\"],[0.2222222222222222,\"#7201a8\"],[0.3333333333333333,\"#9c179e\"],[0.4444444444444444,\"#bd3786\"],[0.5555555555555556,\"#d8576b\"],[0.6666666666666666,\"#ed7953\"],[0.7777777777777778,\"#fb9f3a\"],[0.8888888888888888,\"#fdca26\"],[1.0,\"#f0f921\"]],\"sequentialminus\":[[0.0,\"#0d0887\"],[0.1111111111111111,\"#46039f\"],[0.2222222222222222,\"#7201a8\"],[0.3333333333333333,\"#9c179e\"],[0.4444444444444444,\"#bd3786\"],[0.5555555555555556,\"#d8576b\"],[0.6666666666666666,\"#ed7953\"],[0.7777777777777778,\"#fb9f3a\"],[0.8888888888888888,\"#fdca26\"],[1.0,\"#f0f921\"]]},\"colorway\":[\"#636efa\",\"#EF553B\",\"#00cc96\",\"#ab63fa\",\"#FFA15A\",\"#19d3f3\",\"#FF6692\",\"#B6E880\",\"#FF97FF\",\"#FECB52\"],\"font\":{\"color\":\"#2a3f5f\"},\"geo\":{\"bgcolor\":\"white\",\"lakecolor\":\"white\",\"landcolor\":\"#E5ECF6\",\"showlakes\":true,\"showland\":true,\"subunitcolor\":\"white\"},\"hoverlabel\":{\"align\":\"left\"},\"hovermode\":\"closest\",\"mapbox\":{\"style\":\"light\"},\"paper_bgcolor\":\"white\",\"plot_bgcolor\":\"#E5ECF6\",\"polar\":{\"angularaxis\":{\"gridcolor\":\"white\",\"linecolor\":\"white\",\"ticks\":\"\"},\"bgcolor\":\"#E5ECF6\",\"radialaxis\":{\"gridcolor\":\"white\",\"linecolor\":\"white\",\"ticks\":\"\"}},\"scene\":{\"xaxis\":{\"backgroundcolor\":\"#E5ECF6\",\"gridcolor\":\"white\",\"gridwidth\":2,\"linecolor\":\"white\",\"showbackground\":true,\"ticks\":\"\",\"zerolinecolor\":\"white\"},\"yaxis\":{\"backgroundcolor\":\"#E5ECF6\",\"gridcolor\":\"white\",\"gridwidth\":2,\"linecolor\":\"white\",\"showbackground\":true,\"ticks\":\"\",\"zerolinecolor\":\"white\"},\"zaxis\":{\"backgroundcolor\":\"#E5ECF6\",\"gridcolor\":\"white\",\"gridwidth\":2,\"linecolor\":\"white\",\"showbackground\":true,\"ticks\":\"\",\"zerolinecolor\":\"white\"}},\"shapedefaults\":{\"line\":{\"color\":\"#2a3f5f\"}},\"ternary\":{\"aaxis\":{\"gridcolor\":\"white\",\"linecolor\":\"white\",\"ticks\":\"\"},\"baxis\":{\"gridcolor\":\"white\",\"linecolor\":\"white\",\"ticks\":\"\"},\"bgcolor\":\"#E5ECF6\",\"caxis\":{\"gridcolor\":\"white\",\"linecolor\":\"white\",\"ticks\":\"\"}},\"title\":{\"x\":0.05},\"xaxis\":{\"automargin\":true,\"gridcolor\":\"white\",\"linecolor\":\"white\",\"ticks\":\"\",\"title\":{\"standoff\":15},\"zerolinecolor\":\"white\",\"zerolinewidth\":2},\"yaxis\":{\"automargin\":true,\"gridcolor\":\"white\",\"linecolor\":\"white\",\"ticks\":\"\",\"title\":{\"standoff\":15},\"zerolinecolor\":\"white\",\"zerolinewidth\":2}}},\"yaxis\":{\"range\":[-15,5],\"showgrid\":false,\"gridwidth\":1,\"gridcolor\":\"red\",\"scaleanchor\":\"x\",\"scaleratio\":1,\"automargin\":false,\"tickmode\":\"linear\",\"tick0\":-15,\"dtick\":1.0,\"visible\":false},\"xaxis\":{\"range\":[-10,25],\"showgrid\":false,\"gridwidth\":1,\"gridcolor\":\"red\",\"automargin\":false,\"tickmode\":\"linear\",\"tick0\":-10,\"dtick\":1.0,\"visible\":false},\"height\":420.0,\"width\":720.0,\"autosize\":false,\"showlegend\":false},                        {\"responsive\": true}                    ).then(function(){\n",
              "                            \n",
              "var gd = document.getElementById('066f5349-c545-4a22-b01a-74f584559a37');\n",
              "var x = new MutationObserver(function (mutations, observer) {{\n",
              "        var display = window.getComputedStyle(gd).display;\n",
              "        if (!display || display === 'none') {{\n",
              "            console.log([gd, 'removed!']);\n",
              "            Plotly.purge(gd);\n",
              "            observer.disconnect();\n",
              "        }}\n",
              "}});\n",
              "\n",
              "// Listen for the removal of the full notebook cells\n",
              "var notebookContainer = gd.closest('#notebook-container');\n",
              "if (notebookContainer) {{\n",
              "    x.observe(notebookContainer, {childList: true});\n",
              "}}\n",
              "\n",
              "// Listen for the clearing of the current output cell\n",
              "var outputEl = gd.closest('.output');\n",
              "if (outputEl) {{\n",
              "    x.observe(outputEl, {childList: true});\n",
              "}}\n",
              "\n",
              "                        })                };                            </script>        </div>\n",
              "</body>\n",
              "</html>"
            ]
          },
          "metadata": {}
        },
        {
          "output_type": "display_data",
          "data": {
            "text/html": [
              "<html>\n",
              "<head><meta charset=\"utf-8\" /></head>\n",
              "<body>\n",
              "    <div>            <script src=\"https://cdnjs.cloudflare.com/ajax/libs/mathjax/2.7.5/MathJax.js?config=TeX-AMS-MML_SVG\"></script><script type=\"text/javascript\">if (window.MathJax) {MathJax.Hub.Config({SVG: {font: \"STIX-Web\"}});}</script>                <script type=\"text/javascript\">window.PlotlyConfig = {MathJaxConfig: 'local'};</script>\n",
              "        <script src=\"https://cdn.plot.ly/plotly-2.8.3.min.js\"></script>                <div id=\"6c3f89ff-d462-4094-a92b-04e5892d7bf3\" class=\"plotly-graph-div\" style=\"height:420.0px; width:720.0px;\"></div>            <script type=\"text/javascript\">                                    window.PLOTLYENV=window.PLOTLYENV || {};                                    if (document.getElementById(\"6c3f89ff-d462-4094-a92b-04e5892d7bf3\")) {                    Plotly.newPlot(                        \"6c3f89ff-d462-4094-a92b-04e5892d7bf3\",                        [{\"line\":{\"color\":\"red\",\"width\":5},\"mode\":\"lines+markers\",\"name\":\"Rect: line (-5, -10) to (-5, -5)\",\"x\":[-5,-5],\"y\":[-10,-5],\"type\":\"scatter\"},{\"line\":{\"color\":\"red\",\"width\":5},\"mode\":\"lines+markers\",\"name\":\"Rect: line (5, -10) to (5, -5)\",\"x\":[5,5],\"y\":[-10,-5],\"type\":\"scatter\"},{\"line\":{\"color\":\"red\",\"width\":5},\"mode\":\"lines+markers\",\"name\":\"Rect: line (-5, -10) to (5, -10)\",\"x\":[-5,5],\"y\":[-10,-10],\"type\":\"scatter\"},{\"line\":{\"color\":\"red\",\"width\":5},\"mode\":\"lines+markers\",\"name\":\"Rect: line (-5, -5) to (5, -5)\",\"x\":[-5,5],\"y\":[-5,-5],\"type\":\"scatter\"},{\"line\":{\"color\":\"red\",\"width\":3},\"mode\":\"lines+markers\",\"name\":\"Rect: line (-5, -10) to (-5, -5)\",\"x\":[-5,-5],\"y\":[-10,-5],\"type\":\"scatter\"},{\"line\":{\"color\":\"red\",\"width\":3},\"mode\":\"lines+markers\",\"name\":\"Rect: line (5, -10) to (5, -5)\",\"x\":[5,5],\"y\":[-10,-5],\"type\":\"scatter\"},{\"line\":{\"color\":\"red\",\"width\":3},\"mode\":\"lines+markers\",\"name\":\"Rect: line (-5, -10) to (5, -10)\",\"x\":[-5,5],\"y\":[-10,-10],\"type\":\"scatter\"},{\"line\":{\"color\":\"red\",\"width\":3},\"mode\":\"lines+markers\",\"name\":\"Rect: line (-5, -5) to (5, -5)\",\"x\":[-5,5],\"y\":[-5,-5],\"type\":\"scatter\"},{\"line\":{\"color\":\"blue\",\"width\":3},\"mode\":\"lines+markers\",\"name\":\"Rect: line (-1, -10) to (-1, -7)\",\"x\":[-1,-1],\"y\":[-10,-7],\"type\":\"scatter\"},{\"line\":{\"color\":\"blue\",\"width\":3},\"mode\":\"lines+markers\",\"name\":\"Rect: line (1, -10) to (1, -7)\",\"x\":[1,1],\"y\":[-10,-7],\"type\":\"scatter\"},{\"line\":{\"color\":\"blue\",\"width\":3},\"mode\":\"lines+markers\",\"name\":\"Rect: line (-1, -10) to (1, -10)\",\"x\":[-1,1],\"y\":[-10,-10],\"type\":\"scatter\"},{\"line\":{\"color\":\"blue\",\"width\":3},\"mode\":\"lines+markers\",\"name\":\"Rect: line (-1, -7) to (1, -7)\",\"x\":[-1,1],\"y\":[-7,-7],\"type\":\"scatter\"},{\"line\":{\"color\":\"blue\",\"width\":3},\"mode\":\"lines+markers\",\"name\":\"Rect: line (2, -7) to (2, -6)\",\"x\":[2,2],\"y\":[-7,-6],\"type\":\"scatter\"},{\"line\":{\"color\":\"blue\",\"width\":3},\"mode\":\"lines+markers\",\"name\":\"Rect: line (3, -7) to (3, -6)\",\"x\":[3,3],\"y\":[-7,-6],\"type\":\"scatter\"},{\"line\":{\"color\":\"blue\",\"width\":3},\"mode\":\"lines+markers\",\"name\":\"Rect: line (2, -7) to (3, -7)\",\"x\":[2,3],\"y\":[-7,-7],\"type\":\"scatter\"},{\"line\":{\"color\":\"blue\",\"width\":3},\"mode\":\"lines+markers\",\"name\":\"Rect: line (2, -6) to (3, -6)\",\"x\":[2,3],\"y\":[-6,-6],\"type\":\"scatter\"},{\"line\":{\"color\":\"red\",\"width\":3},\"mode\":\"lines+markers\",\"name\":\"Rect: line (-5, -10) to (-5, -5)\",\"x\":[-5,-5],\"y\":[-10,-5],\"type\":\"scatter\"},{\"line\":{\"color\":\"red\",\"width\":3},\"mode\":\"lines+markers\",\"name\":\"Rect: line (5, -10) to (5, -5)\",\"x\":[5,5],\"y\":[-10,-5],\"type\":\"scatter\"},{\"line\":{\"color\":\"red\",\"width\":3},\"mode\":\"lines+markers\",\"name\":\"Rect: line (-5, -10) to (5, -10)\",\"x\":[-5,5],\"y\":[-10,-10],\"type\":\"scatter\"},{\"line\":{\"color\":\"red\",\"width\":3},\"mode\":\"lines+markers\",\"name\":\"Rect: line (-5, -5) to (5, -5)\",\"x\":[-5,5],\"y\":[-5,-5],\"type\":\"scatter\"},{\"line\":{\"color\":\"blue\",\"width\":3},\"mode\":\"lines+markers\",\"name\":\"Rect: line (-1, -10) to (-1, -7)\",\"x\":[-1,-1],\"y\":[-10,-7],\"type\":\"scatter\"},{\"line\":{\"color\":\"blue\",\"width\":3},\"mode\":\"lines+markers\",\"name\":\"Rect: line (1, -10) to (1, -7)\",\"x\":[1,1],\"y\":[-10,-7],\"type\":\"scatter\"},{\"line\":{\"color\":\"blue\",\"width\":3},\"mode\":\"lines+markers\",\"name\":\"Rect: line (-1, -10) to (1, -10)\",\"x\":[-1,1],\"y\":[-10,-10],\"type\":\"scatter\"},{\"line\":{\"color\":\"blue\",\"width\":3},\"mode\":\"lines+markers\",\"name\":\"Rect: line (-1, -7) to (1, -7)\",\"x\":[-1,1],\"y\":[-7,-7],\"type\":\"scatter\"},{\"line\":{\"color\":\"blue\",\"width\":3},\"mode\":\"lines+markers\",\"name\":\"Rect: line (2, -7) to (2, -6)\",\"x\":[2,2],\"y\":[-7,-6],\"type\":\"scatter\"},{\"line\":{\"color\":\"blue\",\"width\":3},\"mode\":\"lines+markers\",\"name\":\"Rect: line (3, -7) to (3, -6)\",\"x\":[3,3],\"y\":[-7,-6],\"type\":\"scatter\"},{\"line\":{\"color\":\"blue\",\"width\":3},\"mode\":\"lines+markers\",\"name\":\"Rect: line (2, -7) to (3, -7)\",\"x\":[2,3],\"y\":[-7,-7],\"type\":\"scatter\"},{\"line\":{\"color\":\"blue\",\"width\":3},\"mode\":\"lines+markers\",\"name\":\"Rect: line (2, -6) to (3, -6)\",\"x\":[2,3],\"y\":[-6,-6],\"type\":\"scatter\"},{\"line\":{\"color\":\"green\",\"width\":3},\"mode\":\"lines+markers\",\"name\":\"Line segment (-5, -5) to (0, 0)\",\"x\":[-5,0],\"y\":[-5,0],\"type\":\"scatter\"},{\"line\":{\"color\":\"green\",\"width\":3},\"mode\":\"lines+markers\",\"name\":\"Line segment (-4, -5) to (0, 0)\",\"x\":[-4,0],\"y\":[-5,0],\"type\":\"scatter\"},{\"line\":{\"color\":\"green\",\"width\":3},\"mode\":\"lines+markers\",\"name\":\"Line segment (-3, -5) to (0, 0)\",\"x\":[-3,0],\"y\":[-5,0],\"type\":\"scatter\"},{\"line\":{\"color\":\"green\",\"width\":3},\"mode\":\"lines+markers\",\"name\":\"Line segment (-2, -5) to (0, 0)\",\"x\":[-2,0],\"y\":[-5,0],\"type\":\"scatter\"},{\"line\":{\"color\":\"green\",\"width\":3},\"mode\":\"lines+markers\",\"name\":\"Line segment (-1, -5) to (0, 0)\",\"x\":[-1,0],\"y\":[-5,0],\"type\":\"scatter\"},{\"line\":{\"color\":\"green\",\"width\":3},\"mode\":\"lines+markers\",\"name\":\"Line segment (0, -5) to (0, 0)\",\"x\":[0,0],\"y\":[-5,0],\"type\":\"scatter\"},{\"line\":{\"color\":\"green\",\"width\":3},\"mode\":\"lines+markers\",\"name\":\"Line segment (1, -5) to (0, 0)\",\"x\":[1,0],\"y\":[-5,0],\"type\":\"scatter\"},{\"line\":{\"color\":\"green\",\"width\":3},\"mode\":\"lines+markers\",\"name\":\"Line segment (2, -5) to (0, 0)\",\"x\":[2,0],\"y\":[-5,0],\"type\":\"scatter\"},{\"line\":{\"color\":\"green\",\"width\":3},\"mode\":\"lines+markers\",\"name\":\"Line segment (3, -5) to (0, 0)\",\"x\":[3,0],\"y\":[-5,0],\"type\":\"scatter\"},{\"line\":{\"color\":\"green\",\"width\":3},\"mode\":\"lines+markers\",\"name\":\"Line segment (4, -5) to (0, 0)\",\"x\":[4,0],\"y\":[-5,0],\"type\":\"scatter\"},{\"line\":{\"color\":\"green\",\"width\":3},\"mode\":\"lines+markers\",\"name\":\"Line segment (5, -5) to (0, 0)\",\"x\":[5,0],\"y\":[-5,0],\"type\":\"scatter\"}],                        {\"template\":{\"data\":{\"bar\":[{\"error_x\":{\"color\":\"#2a3f5f\"},\"error_y\":{\"color\":\"#2a3f5f\"},\"marker\":{\"line\":{\"color\":\"#E5ECF6\",\"width\":0.5},\"pattern\":{\"fillmode\":\"overlay\",\"size\":10,\"solidity\":0.2}},\"type\":\"bar\"}],\"barpolar\":[{\"marker\":{\"line\":{\"color\":\"#E5ECF6\",\"width\":0.5},\"pattern\":{\"fillmode\":\"overlay\",\"size\":10,\"solidity\":0.2}},\"type\":\"barpolar\"}],\"carpet\":[{\"aaxis\":{\"endlinecolor\":\"#2a3f5f\",\"gridcolor\":\"white\",\"linecolor\":\"white\",\"minorgridcolor\":\"white\",\"startlinecolor\":\"#2a3f5f\"},\"baxis\":{\"endlinecolor\":\"#2a3f5f\",\"gridcolor\":\"white\",\"linecolor\":\"white\",\"minorgridcolor\":\"white\",\"startlinecolor\":\"#2a3f5f\"},\"type\":\"carpet\"}],\"choropleth\":[{\"colorbar\":{\"outlinewidth\":0,\"ticks\":\"\"},\"type\":\"choropleth\"}],\"contour\":[{\"colorbar\":{\"outlinewidth\":0,\"ticks\":\"\"},\"colorscale\":[[0.0,\"#0d0887\"],[0.1111111111111111,\"#46039f\"],[0.2222222222222222,\"#7201a8\"],[0.3333333333333333,\"#9c179e\"],[0.4444444444444444,\"#bd3786\"],[0.5555555555555556,\"#d8576b\"],[0.6666666666666666,\"#ed7953\"],[0.7777777777777778,\"#fb9f3a\"],[0.8888888888888888,\"#fdca26\"],[1.0,\"#f0f921\"]],\"type\":\"contour\"}],\"contourcarpet\":[{\"colorbar\":{\"outlinewidth\":0,\"ticks\":\"\"},\"type\":\"contourcarpet\"}],\"heatmap\":[{\"colorbar\":{\"outlinewidth\":0,\"ticks\":\"\"},\"colorscale\":[[0.0,\"#0d0887\"],[0.1111111111111111,\"#46039f\"],[0.2222222222222222,\"#7201a8\"],[0.3333333333333333,\"#9c179e\"],[0.4444444444444444,\"#bd3786\"],[0.5555555555555556,\"#d8576b\"],[0.6666666666666666,\"#ed7953\"],[0.7777777777777778,\"#fb9f3a\"],[0.8888888888888888,\"#fdca26\"],[1.0,\"#f0f921\"]],\"type\":\"heatmap\"}],\"heatmapgl\":[{\"colorbar\":{\"outlinewidth\":0,\"ticks\":\"\"},\"colorscale\":[[0.0,\"#0d0887\"],[0.1111111111111111,\"#46039f\"],[0.2222222222222222,\"#7201a8\"],[0.3333333333333333,\"#9c179e\"],[0.4444444444444444,\"#bd3786\"],[0.5555555555555556,\"#d8576b\"],[0.6666666666666666,\"#ed7953\"],[0.7777777777777778,\"#fb9f3a\"],[0.8888888888888888,\"#fdca26\"],[1.0,\"#f0f921\"]],\"type\":\"heatmapgl\"}],\"histogram\":[{\"marker\":{\"pattern\":{\"fillmode\":\"overlay\",\"size\":10,\"solidity\":0.2}},\"type\":\"histogram\"}],\"histogram2d\":[{\"colorbar\":{\"outlinewidth\":0,\"ticks\":\"\"},\"colorscale\":[[0.0,\"#0d0887\"],[0.1111111111111111,\"#46039f\"],[0.2222222222222222,\"#7201a8\"],[0.3333333333333333,\"#9c179e\"],[0.4444444444444444,\"#bd3786\"],[0.5555555555555556,\"#d8576b\"],[0.6666666666666666,\"#ed7953\"],[0.7777777777777778,\"#fb9f3a\"],[0.8888888888888888,\"#fdca26\"],[1.0,\"#f0f921\"]],\"type\":\"histogram2d\"}],\"histogram2dcontour\":[{\"colorbar\":{\"outlinewidth\":0,\"ticks\":\"\"},\"colorscale\":[[0.0,\"#0d0887\"],[0.1111111111111111,\"#46039f\"],[0.2222222222222222,\"#7201a8\"],[0.3333333333333333,\"#9c179e\"],[0.4444444444444444,\"#bd3786\"],[0.5555555555555556,\"#d8576b\"],[0.6666666666666666,\"#ed7953\"],[0.7777777777777778,\"#fb9f3a\"],[0.8888888888888888,\"#fdca26\"],[1.0,\"#f0f921\"]],\"type\":\"histogram2dcontour\"}],\"mesh3d\":[{\"colorbar\":{\"outlinewidth\":0,\"ticks\":\"\"},\"type\":\"mesh3d\"}],\"parcoords\":[{\"line\":{\"colorbar\":{\"outlinewidth\":0,\"ticks\":\"\"}},\"type\":\"parcoords\"}],\"pie\":[{\"automargin\":true,\"type\":\"pie\"}],\"scatter\":[{\"marker\":{\"colorbar\":{\"outlinewidth\":0,\"ticks\":\"\"}},\"type\":\"scatter\"}],\"scatter3d\":[{\"line\":{\"colorbar\":{\"outlinewidth\":0,\"ticks\":\"\"}},\"marker\":{\"colorbar\":{\"outlinewidth\":0,\"ticks\":\"\"}},\"type\":\"scatter3d\"}],\"scattercarpet\":[{\"marker\":{\"colorbar\":{\"outlinewidth\":0,\"ticks\":\"\"}},\"type\":\"scattercarpet\"}],\"scattergeo\":[{\"marker\":{\"colorbar\":{\"outlinewidth\":0,\"ticks\":\"\"}},\"type\":\"scattergeo\"}],\"scattergl\":[{\"marker\":{\"colorbar\":{\"outlinewidth\":0,\"ticks\":\"\"}},\"type\":\"scattergl\"}],\"scattermapbox\":[{\"marker\":{\"colorbar\":{\"outlinewidth\":0,\"ticks\":\"\"}},\"type\":\"scattermapbox\"}],\"scatterpolar\":[{\"marker\":{\"colorbar\":{\"outlinewidth\":0,\"ticks\":\"\"}},\"type\":\"scatterpolar\"}],\"scatterpolargl\":[{\"marker\":{\"colorbar\":{\"outlinewidth\":0,\"ticks\":\"\"}},\"type\":\"scatterpolargl\"}],\"scatterternary\":[{\"marker\":{\"colorbar\":{\"outlinewidth\":0,\"ticks\":\"\"}},\"type\":\"scatterternary\"}],\"surface\":[{\"colorbar\":{\"outlinewidth\":0,\"ticks\":\"\"},\"colorscale\":[[0.0,\"#0d0887\"],[0.1111111111111111,\"#46039f\"],[0.2222222222222222,\"#7201a8\"],[0.3333333333333333,\"#9c179e\"],[0.4444444444444444,\"#bd3786\"],[0.5555555555555556,\"#d8576b\"],[0.6666666666666666,\"#ed7953\"],[0.7777777777777778,\"#fb9f3a\"],[0.8888888888888888,\"#fdca26\"],[1.0,\"#f0f921\"]],\"type\":\"surface\"}],\"table\":[{\"cells\":{\"fill\":{\"color\":\"#EBF0F8\"},\"line\":{\"color\":\"white\"}},\"header\":{\"fill\":{\"color\":\"#C8D4E3\"},\"line\":{\"color\":\"white\"}},\"type\":\"table\"}]},\"layout\":{\"annotationdefaults\":{\"arrowcolor\":\"#2a3f5f\",\"arrowhead\":0,\"arrowwidth\":1},\"autotypenumbers\":\"strict\",\"coloraxis\":{\"colorbar\":{\"outlinewidth\":0,\"ticks\":\"\"}},\"colorscale\":{\"diverging\":[[0,\"#8e0152\"],[0.1,\"#c51b7d\"],[0.2,\"#de77ae\"],[0.3,\"#f1b6da\"],[0.4,\"#fde0ef\"],[0.5,\"#f7f7f7\"],[0.6,\"#e6f5d0\"],[0.7,\"#b8e186\"],[0.8,\"#7fbc41\"],[0.9,\"#4d9221\"],[1,\"#276419\"]],\"sequential\":[[0.0,\"#0d0887\"],[0.1111111111111111,\"#46039f\"],[0.2222222222222222,\"#7201a8\"],[0.3333333333333333,\"#9c179e\"],[0.4444444444444444,\"#bd3786\"],[0.5555555555555556,\"#d8576b\"],[0.6666666666666666,\"#ed7953\"],[0.7777777777777778,\"#fb9f3a\"],[0.8888888888888888,\"#fdca26\"],[1.0,\"#f0f921\"]],\"sequentialminus\":[[0.0,\"#0d0887\"],[0.1111111111111111,\"#46039f\"],[0.2222222222222222,\"#7201a8\"],[0.3333333333333333,\"#9c179e\"],[0.4444444444444444,\"#bd3786\"],[0.5555555555555556,\"#d8576b\"],[0.6666666666666666,\"#ed7953\"],[0.7777777777777778,\"#fb9f3a\"],[0.8888888888888888,\"#fdca26\"],[1.0,\"#f0f921\"]]},\"colorway\":[\"#636efa\",\"#EF553B\",\"#00cc96\",\"#ab63fa\",\"#FFA15A\",\"#19d3f3\",\"#FF6692\",\"#B6E880\",\"#FF97FF\",\"#FECB52\"],\"font\":{\"color\":\"#2a3f5f\"},\"geo\":{\"bgcolor\":\"white\",\"lakecolor\":\"white\",\"landcolor\":\"#E5ECF6\",\"showlakes\":true,\"showland\":true,\"subunitcolor\":\"white\"},\"hoverlabel\":{\"align\":\"left\"},\"hovermode\":\"closest\",\"mapbox\":{\"style\":\"light\"},\"paper_bgcolor\":\"white\",\"plot_bgcolor\":\"#E5ECF6\",\"polar\":{\"angularaxis\":{\"gridcolor\":\"white\",\"linecolor\":\"white\",\"ticks\":\"\"},\"bgcolor\":\"#E5ECF6\",\"radialaxis\":{\"gridcolor\":\"white\",\"linecolor\":\"white\",\"ticks\":\"\"}},\"scene\":{\"xaxis\":{\"backgroundcolor\":\"#E5ECF6\",\"gridcolor\":\"white\",\"gridwidth\":2,\"linecolor\":\"white\",\"showbackground\":true,\"ticks\":\"\",\"zerolinecolor\":\"white\"},\"yaxis\":{\"backgroundcolor\":\"#E5ECF6\",\"gridcolor\":\"white\",\"gridwidth\":2,\"linecolor\":\"white\",\"showbackground\":true,\"ticks\":\"\",\"zerolinecolor\":\"white\"},\"zaxis\":{\"backgroundcolor\":\"#E5ECF6\",\"gridcolor\":\"white\",\"gridwidth\":2,\"linecolor\":\"white\",\"showbackground\":true,\"ticks\":\"\",\"zerolinecolor\":\"white\"}},\"shapedefaults\":{\"line\":{\"color\":\"#2a3f5f\"}},\"ternary\":{\"aaxis\":{\"gridcolor\":\"white\",\"linecolor\":\"white\",\"ticks\":\"\"},\"baxis\":{\"gridcolor\":\"white\",\"linecolor\":\"white\",\"ticks\":\"\"},\"bgcolor\":\"#E5ECF6\",\"caxis\":{\"gridcolor\":\"white\",\"linecolor\":\"white\",\"ticks\":\"\"}},\"title\":{\"x\":0.05},\"xaxis\":{\"automargin\":true,\"gridcolor\":\"white\",\"linecolor\":\"white\",\"ticks\":\"\",\"title\":{\"standoff\":15},\"zerolinecolor\":\"white\",\"zerolinewidth\":2},\"yaxis\":{\"automargin\":true,\"gridcolor\":\"white\",\"linecolor\":\"white\",\"ticks\":\"\",\"title\":{\"standoff\":15},\"zerolinecolor\":\"white\",\"zerolinewidth\":2}}},\"yaxis\":{\"range\":[-15,5],\"showgrid\":false,\"gridwidth\":1,\"gridcolor\":\"red\",\"scaleanchor\":\"x\",\"scaleratio\":1,\"automargin\":false,\"tickmode\":\"linear\",\"tick0\":-15,\"dtick\":1.0,\"visible\":false},\"xaxis\":{\"range\":[-10,25],\"showgrid\":false,\"gridwidth\":1,\"gridcolor\":\"red\",\"automargin\":false,\"tickmode\":\"linear\",\"tick0\":-10,\"dtick\":1.0,\"visible\":false},\"height\":420.0,\"width\":720.0,\"autosize\":false,\"showlegend\":false},                        {\"responsive\": true}                    ).then(function(){\n",
              "                            \n",
              "var gd = document.getElementById('6c3f89ff-d462-4094-a92b-04e5892d7bf3');\n",
              "var x = new MutationObserver(function (mutations, observer) {{\n",
              "        var display = window.getComputedStyle(gd).display;\n",
              "        if (!display || display === 'none') {{\n",
              "            console.log([gd, 'removed!']);\n",
              "            Plotly.purge(gd);\n",
              "            observer.disconnect();\n",
              "        }}\n",
              "}});\n",
              "\n",
              "// Listen for the removal of the full notebook cells\n",
              "var notebookContainer = gd.closest('#notebook-container');\n",
              "if (notebookContainer) {{\n",
              "    x.observe(notebookContainer, {childList: true});\n",
              "}}\n",
              "\n",
              "// Listen for the clearing of the current output cell\n",
              "var outputEl = gd.closest('.output');\n",
              "if (outputEl) {{\n",
              "    x.observe(outputEl, {childList: true});\n",
              "}}\n",
              "\n",
              "                        })                };                            </script>        </div>\n",
              "</body>\n",
              "</html>"
            ]
          },
          "metadata": {}
        },
        {
          "output_type": "display_data",
          "data": {
            "text/html": [
              "<html>\n",
              "<head><meta charset=\"utf-8\" /></head>\n",
              "<body>\n",
              "    <div>            <script src=\"https://cdnjs.cloudflare.com/ajax/libs/mathjax/2.7.5/MathJax.js?config=TeX-AMS-MML_SVG\"></script><script type=\"text/javascript\">if (window.MathJax) {MathJax.Hub.Config({SVG: {font: \"STIX-Web\"}});}</script>                <script type=\"text/javascript\">window.PlotlyConfig = {MathJaxConfig: 'local'};</script>\n",
              "        <script src=\"https://cdn.plot.ly/plotly-2.8.3.min.js\"></script>                <div id=\"0240c20c-a9e0-47b4-a61d-1d26043e9294\" class=\"plotly-graph-div\" style=\"height:420.0px; width:720.0px;\"></div>            <script type=\"text/javascript\">                                    window.PLOTLYENV=window.PLOTLYENV || {};                                    if (document.getElementById(\"0240c20c-a9e0-47b4-a61d-1d26043e9294\")) {                    Plotly.newPlot(                        \"0240c20c-a9e0-47b4-a61d-1d26043e9294\",                        [{\"line\":{\"color\":\"red\",\"width\":5},\"mode\":\"lines+markers\",\"name\":\"Rect: line (-5, -10) to (-5, -5)\",\"x\":[-5,-5],\"y\":[-10,-5],\"type\":\"scatter\"},{\"line\":{\"color\":\"red\",\"width\":5},\"mode\":\"lines+markers\",\"name\":\"Rect: line (5, -10) to (5, -5)\",\"x\":[5,5],\"y\":[-10,-5],\"type\":\"scatter\"},{\"line\":{\"color\":\"red\",\"width\":5},\"mode\":\"lines+markers\",\"name\":\"Rect: line (-5, -10) to (5, -10)\",\"x\":[-5,5],\"y\":[-10,-10],\"type\":\"scatter\"},{\"line\":{\"color\":\"red\",\"width\":5},\"mode\":\"lines+markers\",\"name\":\"Rect: line (-5, -5) to (5, -5)\",\"x\":[-5,5],\"y\":[-5,-5],\"type\":\"scatter\"},{\"line\":{\"color\":\"red\",\"width\":3},\"mode\":\"lines+markers\",\"name\":\"Rect: line (-5, -10) to (-5, -5)\",\"x\":[-5,-5],\"y\":[-10,-5],\"type\":\"scatter\"},{\"line\":{\"color\":\"red\",\"width\":3},\"mode\":\"lines+markers\",\"name\":\"Rect: line (5, -10) to (5, -5)\",\"x\":[5,5],\"y\":[-10,-5],\"type\":\"scatter\"},{\"line\":{\"color\":\"red\",\"width\":3},\"mode\":\"lines+markers\",\"name\":\"Rect: line (-5, -10) to (5, -10)\",\"x\":[-5,5],\"y\":[-10,-10],\"type\":\"scatter\"},{\"line\":{\"color\":\"red\",\"width\":3},\"mode\":\"lines+markers\",\"name\":\"Rect: line (-5, -5) to (5, -5)\",\"x\":[-5,5],\"y\":[-5,-5],\"type\":\"scatter\"},{\"line\":{\"color\":\"blue\",\"width\":3},\"mode\":\"lines+markers\",\"name\":\"Rect: line (-1, -10) to (-1, -7)\",\"x\":[-1,-1],\"y\":[-10,-7],\"type\":\"scatter\"},{\"line\":{\"color\":\"blue\",\"width\":3},\"mode\":\"lines+markers\",\"name\":\"Rect: line (1, -10) to (1, -7)\",\"x\":[1,1],\"y\":[-10,-7],\"type\":\"scatter\"},{\"line\":{\"color\":\"blue\",\"width\":3},\"mode\":\"lines+markers\",\"name\":\"Rect: line (-1, -10) to (1, -10)\",\"x\":[-1,1],\"y\":[-10,-10],\"type\":\"scatter\"},{\"line\":{\"color\":\"blue\",\"width\":3},\"mode\":\"lines+markers\",\"name\":\"Rect: line (-1, -7) to (1, -7)\",\"x\":[-1,1],\"y\":[-7,-7],\"type\":\"scatter\"},{\"line\":{\"color\":\"blue\",\"width\":3},\"mode\":\"lines+markers\",\"name\":\"Rect: line (2, -7) to (2, -6)\",\"x\":[2,2],\"y\":[-7,-6],\"type\":\"scatter\"},{\"line\":{\"color\":\"blue\",\"width\":3},\"mode\":\"lines+markers\",\"name\":\"Rect: line (3, -7) to (3, -6)\",\"x\":[3,3],\"y\":[-7,-6],\"type\":\"scatter\"},{\"line\":{\"color\":\"blue\",\"width\":3},\"mode\":\"lines+markers\",\"name\":\"Rect: line (2, -7) to (3, -7)\",\"x\":[2,3],\"y\":[-7,-7],\"type\":\"scatter\"},{\"line\":{\"color\":\"blue\",\"width\":3},\"mode\":\"lines+markers\",\"name\":\"Rect: line (2, -6) to (3, -6)\",\"x\":[2,3],\"y\":[-6,-6],\"type\":\"scatter\"},{\"line\":{\"color\":\"red\",\"width\":3},\"mode\":\"lines+markers\",\"name\":\"Rect: line (-5, -10) to (-5, -5)\",\"x\":[-5,-5],\"y\":[-10,-5],\"type\":\"scatter\"},{\"line\":{\"color\":\"red\",\"width\":3},\"mode\":\"lines+markers\",\"name\":\"Rect: line (5, -10) to (5, -5)\",\"x\":[5,5],\"y\":[-10,-5],\"type\":\"scatter\"},{\"line\":{\"color\":\"red\",\"width\":3},\"mode\":\"lines+markers\",\"name\":\"Rect: line (-5, -10) to (5, -10)\",\"x\":[-5,5],\"y\":[-10,-10],\"type\":\"scatter\"},{\"line\":{\"color\":\"red\",\"width\":3},\"mode\":\"lines+markers\",\"name\":\"Rect: line (-5, -5) to (5, -5)\",\"x\":[-5,5],\"y\":[-5,-5],\"type\":\"scatter\"},{\"line\":{\"color\":\"blue\",\"width\":3},\"mode\":\"lines+markers\",\"name\":\"Rect: line (-1, -10) to (-1, -7)\",\"x\":[-1,-1],\"y\":[-10,-7],\"type\":\"scatter\"},{\"line\":{\"color\":\"blue\",\"width\":3},\"mode\":\"lines+markers\",\"name\":\"Rect: line (1, -10) to (1, -7)\",\"x\":[1,1],\"y\":[-10,-7],\"type\":\"scatter\"},{\"line\":{\"color\":\"blue\",\"width\":3},\"mode\":\"lines+markers\",\"name\":\"Rect: line (-1, -10) to (1, -10)\",\"x\":[-1,1],\"y\":[-10,-10],\"type\":\"scatter\"},{\"line\":{\"color\":\"blue\",\"width\":3},\"mode\":\"lines+markers\",\"name\":\"Rect: line (-1, -7) to (1, -7)\",\"x\":[-1,1],\"y\":[-7,-7],\"type\":\"scatter\"},{\"line\":{\"color\":\"blue\",\"width\":3},\"mode\":\"lines+markers\",\"name\":\"Rect: line (2, -7) to (2, -6)\",\"x\":[2,2],\"y\":[-7,-6],\"type\":\"scatter\"},{\"line\":{\"color\":\"blue\",\"width\":3},\"mode\":\"lines+markers\",\"name\":\"Rect: line (3, -7) to (3, -6)\",\"x\":[3,3],\"y\":[-7,-6],\"type\":\"scatter\"},{\"line\":{\"color\":\"blue\",\"width\":3},\"mode\":\"lines+markers\",\"name\":\"Rect: line (2, -7) to (3, -7)\",\"x\":[2,3],\"y\":[-7,-7],\"type\":\"scatter\"},{\"line\":{\"color\":\"blue\",\"width\":3},\"mode\":\"lines+markers\",\"name\":\"Rect: line (2, -6) to (3, -6)\",\"x\":[2,3],\"y\":[-6,-6],\"type\":\"scatter\"},{\"line\":{\"color\":\"green\",\"width\":3},\"mode\":\"lines+markers\",\"name\":\"Line segment (-5, -5) to (0, 0)\",\"x\":[-5,0],\"y\":[-5,0],\"type\":\"scatter\"},{\"line\":{\"color\":\"green\",\"width\":3},\"mode\":\"lines+markers\",\"name\":\"Line segment (-4, -5) to (0, 0)\",\"x\":[-4,0],\"y\":[-5,0],\"type\":\"scatter\"},{\"line\":{\"color\":\"green\",\"width\":3},\"mode\":\"lines+markers\",\"name\":\"Line segment (-3, -5) to (0, 0)\",\"x\":[-3,0],\"y\":[-5,0],\"type\":\"scatter\"},{\"line\":{\"color\":\"green\",\"width\":3},\"mode\":\"lines+markers\",\"name\":\"Line segment (-2, -5) to (0, 0)\",\"x\":[-2,0],\"y\":[-5,0],\"type\":\"scatter\"},{\"line\":{\"color\":\"green\",\"width\":3},\"mode\":\"lines+markers\",\"name\":\"Line segment (-1, -5) to (0, 0)\",\"x\":[-1,0],\"y\":[-5,0],\"type\":\"scatter\"},{\"line\":{\"color\":\"green\",\"width\":3},\"mode\":\"lines+markers\",\"name\":\"Line segment (0, -5) to (0, 0)\",\"x\":[0,0],\"y\":[-5,0],\"type\":\"scatter\"},{\"line\":{\"color\":\"green\",\"width\":3},\"mode\":\"lines+markers\",\"name\":\"Line segment (1, -5) to (0, 0)\",\"x\":[1,0],\"y\":[-5,0],\"type\":\"scatter\"},{\"line\":{\"color\":\"green\",\"width\":3},\"mode\":\"lines+markers\",\"name\":\"Line segment (2, -5) to (0, 0)\",\"x\":[2,0],\"y\":[-5,0],\"type\":\"scatter\"},{\"line\":{\"color\":\"green\",\"width\":3},\"mode\":\"lines+markers\",\"name\":\"Line segment (3, -5) to (0, 0)\",\"x\":[3,0],\"y\":[-5,0],\"type\":\"scatter\"},{\"line\":{\"color\":\"green\",\"width\":3},\"mode\":\"lines+markers\",\"name\":\"Line segment (4, -5) to (0, 0)\",\"x\":[4,0],\"y\":[-5,0],\"type\":\"scatter\"},{\"line\":{\"color\":\"green\",\"width\":3},\"mode\":\"lines+markers\",\"name\":\"Line segment (5, -5) to (0, 0)\",\"x\":[5,0],\"y\":[-5,0],\"type\":\"scatter\"},{\"line\":{\"color\":\"red\",\"width\":3},\"mode\":\"lines+markers\",\"name\":\"Rect: line (-5, -10) to (-5, -5)\",\"x\":[-5,-5],\"y\":[-10,-5],\"type\":\"scatter\"},{\"line\":{\"color\":\"red\",\"width\":3},\"mode\":\"lines+markers\",\"name\":\"Rect: line (5, -10) to (5, -5)\",\"x\":[5,5],\"y\":[-10,-5],\"type\":\"scatter\"},{\"line\":{\"color\":\"red\",\"width\":3},\"mode\":\"lines+markers\",\"name\":\"Rect: line (-5, -10) to (5, -10)\",\"x\":[-5,5],\"y\":[-10,-10],\"type\":\"scatter\"},{\"line\":{\"color\":\"red\",\"width\":3},\"mode\":\"lines+markers\",\"name\":\"Rect: line (-5, -5) to (5, -5)\",\"x\":[-5,5],\"y\":[-5,-5],\"type\":\"scatter\"},{\"line\":{\"color\":\"blue\",\"width\":3},\"mode\":\"lines+markers\",\"name\":\"Rect: line (-1, -10) to (-1, -7)\",\"x\":[-1,-1],\"y\":[-10,-7],\"type\":\"scatter\"},{\"line\":{\"color\":\"blue\",\"width\":3},\"mode\":\"lines+markers\",\"name\":\"Rect: line (1, -10) to (1, -7)\",\"x\":[1,1],\"y\":[-10,-7],\"type\":\"scatter\"},{\"line\":{\"color\":\"blue\",\"width\":3},\"mode\":\"lines+markers\",\"name\":\"Rect: line (-1, -10) to (1, -10)\",\"x\":[-1,1],\"y\":[-10,-10],\"type\":\"scatter\"},{\"line\":{\"color\":\"blue\",\"width\":3},\"mode\":\"lines+markers\",\"name\":\"Rect: line (-1, -7) to (1, -7)\",\"x\":[-1,1],\"y\":[-7,-7],\"type\":\"scatter\"},{\"line\":{\"color\":\"blue\",\"width\":3},\"mode\":\"lines+markers\",\"name\":\"Rect: line (2, -7) to (2, -6)\",\"x\":[2,2],\"y\":[-7,-6],\"type\":\"scatter\"},{\"line\":{\"color\":\"blue\",\"width\":3},\"mode\":\"lines+markers\",\"name\":\"Rect: line (3, -7) to (3, -6)\",\"x\":[3,3],\"y\":[-7,-6],\"type\":\"scatter\"},{\"line\":{\"color\":\"blue\",\"width\":3},\"mode\":\"lines+markers\",\"name\":\"Rect: line (2, -7) to (3, -7)\",\"x\":[2,3],\"y\":[-7,-7],\"type\":\"scatter\"},{\"line\":{\"color\":\"blue\",\"width\":3},\"mode\":\"lines+markers\",\"name\":\"Rect: line (2, -6) to (3, -6)\",\"x\":[2,3],\"y\":[-6,-6],\"type\":\"scatter\"},{\"line\":{\"color\":\"green\",\"width\":3},\"mode\":\"lines+markers\",\"name\":\"Line segment (-5, -5) to (0, 0)\",\"x\":[-5,0],\"y\":[-5,0],\"type\":\"scatter\"},{\"line\":{\"color\":\"green\",\"width\":3},\"mode\":\"lines+markers\",\"name\":\"Line segment (-4, -5) to (0, 0)\",\"x\":[-4,0],\"y\":[-5,0],\"type\":\"scatter\"},{\"line\":{\"color\":\"green\",\"width\":3},\"mode\":\"lines+markers\",\"name\":\"Line segment (-3, -5) to (0, 0)\",\"x\":[-3,0],\"y\":[-5,0],\"type\":\"scatter\"},{\"line\":{\"color\":\"green\",\"width\":3},\"mode\":\"lines+markers\",\"name\":\"Line segment (-2, -5) to (0, 0)\",\"x\":[-2,0],\"y\":[-5,0],\"type\":\"scatter\"},{\"line\":{\"color\":\"green\",\"width\":3},\"mode\":\"lines+markers\",\"name\":\"Line segment (-1, -5) to (0, 0)\",\"x\":[-1,0],\"y\":[-5,0],\"type\":\"scatter\"},{\"line\":{\"color\":\"green\",\"width\":3},\"mode\":\"lines+markers\",\"name\":\"Line segment (0, -5) to (0, 0)\",\"x\":[0,0],\"y\":[-5,0],\"type\":\"scatter\"},{\"line\":{\"color\":\"green\",\"width\":3},\"mode\":\"lines+markers\",\"name\":\"Line segment (1, -5) to (0, 0)\",\"x\":[1,0],\"y\":[-5,0],\"type\":\"scatter\"},{\"line\":{\"color\":\"green\",\"width\":3},\"mode\":\"lines+markers\",\"name\":\"Line segment (2, -5) to (0, 0)\",\"x\":[2,0],\"y\":[-5,0],\"type\":\"scatter\"},{\"line\":{\"color\":\"green\",\"width\":3},\"mode\":\"lines+markers\",\"name\":\"Line segment (3, -5) to (0, 0)\",\"x\":[3,0],\"y\":[-5,0],\"type\":\"scatter\"},{\"line\":{\"color\":\"green\",\"width\":3},\"mode\":\"lines+markers\",\"name\":\"Line segment (4, -5) to (0, 0)\",\"x\":[4,0],\"y\":[-5,0],\"type\":\"scatter\"},{\"line\":{\"color\":\"green\",\"width\":3},\"mode\":\"lines+markers\",\"name\":\"Line segment (5, -5) to (0, 0)\",\"x\":[5,0],\"y\":[-5,0],\"type\":\"scatter\"},{\"line\":{\"color\":\"yellow\",\"width\":3},\"mode\":\"lines+markers\",\"name\":\"Line segment (-15, -15) to (-10, -11)\",\"x\":[-15,-10],\"y\":[-15,-11],\"type\":\"scatter\"},{\"line\":{\"color\":\"yellow\",\"width\":3},\"mode\":\"lines+markers\",\"name\":\"Line segment (-14, -15) to (-9, -11)\",\"x\":[-14,-9],\"y\":[-15,-11],\"type\":\"scatter\"},{\"line\":{\"color\":\"yellow\",\"width\":3},\"mode\":\"lines+markers\",\"name\":\"Line segment (-13, -15) to (-8, -11)\",\"x\":[-13,-8],\"y\":[-15,-11],\"type\":\"scatter\"},{\"line\":{\"color\":\"yellow\",\"width\":3},\"mode\":\"lines+markers\",\"name\":\"Line segment (-12, -15) to (-7, -11)\",\"x\":[-12,-7],\"y\":[-15,-11],\"type\":\"scatter\"},{\"line\":{\"color\":\"yellow\",\"width\":3},\"mode\":\"lines+markers\",\"name\":\"Line segment (-11, -15) to (-6, -11)\",\"x\":[-11,-6],\"y\":[-15,-11],\"type\":\"scatter\"},{\"line\":{\"color\":\"yellow\",\"width\":3},\"mode\":\"lines+markers\",\"name\":\"Line segment (-10, -15) to (-5, -11)\",\"x\":[-10,-5],\"y\":[-15,-11],\"type\":\"scatter\"},{\"line\":{\"color\":\"yellow\",\"width\":3},\"mode\":\"lines+markers\",\"name\":\"Line segment (-9, -15) to (-4, -11)\",\"x\":[-9,-4],\"y\":[-15,-11],\"type\":\"scatter\"},{\"line\":{\"color\":\"yellow\",\"width\":3},\"mode\":\"lines+markers\",\"name\":\"Line segment (-8, -15) to (-3, -11)\",\"x\":[-8,-3],\"y\":[-15,-11],\"type\":\"scatter\"},{\"line\":{\"color\":\"yellow\",\"width\":3},\"mode\":\"lines+markers\",\"name\":\"Line segment (-7, -15) to (-2, -11)\",\"x\":[-7,-2],\"y\":[-15,-11],\"type\":\"scatter\"},{\"line\":{\"color\":\"yellow\",\"width\":3},\"mode\":\"lines+markers\",\"name\":\"Line segment (-6, -15) to (-1, -11)\",\"x\":[-6,-1],\"y\":[-15,-11],\"type\":\"scatter\"},{\"line\":{\"color\":\"yellow\",\"width\":3},\"mode\":\"lines+markers\",\"name\":\"Line segment (-5, -15) to (0, -11)\",\"x\":[-5,0],\"y\":[-15,-11],\"type\":\"scatter\"},{\"line\":{\"color\":\"yellow\",\"width\":3},\"mode\":\"lines+markers\",\"name\":\"Line segment (-4, -15) to (1, -11)\",\"x\":[-4,1],\"y\":[-15,-11],\"type\":\"scatter\"},{\"line\":{\"color\":\"yellow\",\"width\":3},\"mode\":\"lines+markers\",\"name\":\"Line segment (-3, -15) to (2, -11)\",\"x\":[-3,2],\"y\":[-15,-11],\"type\":\"scatter\"},{\"line\":{\"color\":\"yellow\",\"width\":3},\"mode\":\"lines+markers\",\"name\":\"Line segment (-2, -15) to (3, -11)\",\"x\":[-2,3],\"y\":[-15,-11],\"type\":\"scatter\"},{\"line\":{\"color\":\"yellow\",\"width\":3},\"mode\":\"lines+markers\",\"name\":\"Line segment (-1, -15) to (4, -11)\",\"x\":[-1,4],\"y\":[-15,-11],\"type\":\"scatter\"},{\"line\":{\"color\":\"yellow\",\"width\":3},\"mode\":\"lines+markers\",\"name\":\"Line segment (0, -15) to (5, -11)\",\"x\":[0,5],\"y\":[-15,-11],\"type\":\"scatter\"},{\"line\":{\"color\":\"yellow\",\"width\":3},\"mode\":\"lines+markers\",\"name\":\"Line segment (1, -15) to (6, -11)\",\"x\":[1,6],\"y\":[-15,-11],\"type\":\"scatter\"},{\"line\":{\"color\":\"yellow\",\"width\":3},\"mode\":\"lines+markers\",\"name\":\"Line segment (2, -15) to (7, -11)\",\"x\":[2,7],\"y\":[-15,-11],\"type\":\"scatter\"},{\"line\":{\"color\":\"yellow\",\"width\":3},\"mode\":\"lines+markers\",\"name\":\"Line segment (3, -15) to (8, -11)\",\"x\":[3,8],\"y\":[-15,-11],\"type\":\"scatter\"},{\"line\":{\"color\":\"yellow\",\"width\":3},\"mode\":\"lines+markers\",\"name\":\"Line segment (4, -15) to (9, -11)\",\"x\":[4,9],\"y\":[-15,-11],\"type\":\"scatter\"},{\"line\":{\"color\":\"yellow\",\"width\":3},\"mode\":\"lines+markers\",\"name\":\"Line segment (5, -15) to (10, -11)\",\"x\":[5,10],\"y\":[-15,-11],\"type\":\"scatter\"},{\"line\":{\"color\":\"yellow\",\"width\":3},\"mode\":\"lines+markers\",\"name\":\"Line segment (6, -15) to (11, -11)\",\"x\":[6,11],\"y\":[-15,-11],\"type\":\"scatter\"},{\"line\":{\"color\":\"yellow\",\"width\":3},\"mode\":\"lines+markers\",\"name\":\"Line segment (7, -15) to (12, -11)\",\"x\":[7,12],\"y\":[-15,-11],\"type\":\"scatter\"},{\"line\":{\"color\":\"yellow\",\"width\":3},\"mode\":\"lines+markers\",\"name\":\"Line segment (8, -15) to (13, -11)\",\"x\":[8,13],\"y\":[-15,-11],\"type\":\"scatter\"},{\"line\":{\"color\":\"yellow\",\"width\":3},\"mode\":\"lines+markers\",\"name\":\"Line segment (9, -15) to (14, -11)\",\"x\":[9,14],\"y\":[-15,-11],\"type\":\"scatter\"}],                        {\"template\":{\"data\":{\"bar\":[{\"error_x\":{\"color\":\"#2a3f5f\"},\"error_y\":{\"color\":\"#2a3f5f\"},\"marker\":{\"line\":{\"color\":\"#E5ECF6\",\"width\":0.5},\"pattern\":{\"fillmode\":\"overlay\",\"size\":10,\"solidity\":0.2}},\"type\":\"bar\"}],\"barpolar\":[{\"marker\":{\"line\":{\"color\":\"#E5ECF6\",\"width\":0.5},\"pattern\":{\"fillmode\":\"overlay\",\"size\":10,\"solidity\":0.2}},\"type\":\"barpolar\"}],\"carpet\":[{\"aaxis\":{\"endlinecolor\":\"#2a3f5f\",\"gridcolor\":\"white\",\"linecolor\":\"white\",\"minorgridcolor\":\"white\",\"startlinecolor\":\"#2a3f5f\"},\"baxis\":{\"endlinecolor\":\"#2a3f5f\",\"gridcolor\":\"white\",\"linecolor\":\"white\",\"minorgridcolor\":\"white\",\"startlinecolor\":\"#2a3f5f\"},\"type\":\"carpet\"}],\"choropleth\":[{\"colorbar\":{\"outlinewidth\":0,\"ticks\":\"\"},\"type\":\"choropleth\"}],\"contour\":[{\"colorbar\":{\"outlinewidth\":0,\"ticks\":\"\"},\"colorscale\":[[0.0,\"#0d0887\"],[0.1111111111111111,\"#46039f\"],[0.2222222222222222,\"#7201a8\"],[0.3333333333333333,\"#9c179e\"],[0.4444444444444444,\"#bd3786\"],[0.5555555555555556,\"#d8576b\"],[0.6666666666666666,\"#ed7953\"],[0.7777777777777778,\"#fb9f3a\"],[0.8888888888888888,\"#fdca26\"],[1.0,\"#f0f921\"]],\"type\":\"contour\"}],\"contourcarpet\":[{\"colorbar\":{\"outlinewidth\":0,\"ticks\":\"\"},\"type\":\"contourcarpet\"}],\"heatmap\":[{\"colorbar\":{\"outlinewidth\":0,\"ticks\":\"\"},\"colorscale\":[[0.0,\"#0d0887\"],[0.1111111111111111,\"#46039f\"],[0.2222222222222222,\"#7201a8\"],[0.3333333333333333,\"#9c179e\"],[0.4444444444444444,\"#bd3786\"],[0.5555555555555556,\"#d8576b\"],[0.6666666666666666,\"#ed7953\"],[0.7777777777777778,\"#fb9f3a\"],[0.8888888888888888,\"#fdca26\"],[1.0,\"#f0f921\"]],\"type\":\"heatmap\"}],\"heatmapgl\":[{\"colorbar\":{\"outlinewidth\":0,\"ticks\":\"\"},\"colorscale\":[[0.0,\"#0d0887\"],[0.1111111111111111,\"#46039f\"],[0.2222222222222222,\"#7201a8\"],[0.3333333333333333,\"#9c179e\"],[0.4444444444444444,\"#bd3786\"],[0.5555555555555556,\"#d8576b\"],[0.6666666666666666,\"#ed7953\"],[0.7777777777777778,\"#fb9f3a\"],[0.8888888888888888,\"#fdca26\"],[1.0,\"#f0f921\"]],\"type\":\"heatmapgl\"}],\"histogram\":[{\"marker\":{\"pattern\":{\"fillmode\":\"overlay\",\"size\":10,\"solidity\":0.2}},\"type\":\"histogram\"}],\"histogram2d\":[{\"colorbar\":{\"outlinewidth\":0,\"ticks\":\"\"},\"colorscale\":[[0.0,\"#0d0887\"],[0.1111111111111111,\"#46039f\"],[0.2222222222222222,\"#7201a8\"],[0.3333333333333333,\"#9c179e\"],[0.4444444444444444,\"#bd3786\"],[0.5555555555555556,\"#d8576b\"],[0.6666666666666666,\"#ed7953\"],[0.7777777777777778,\"#fb9f3a\"],[0.8888888888888888,\"#fdca26\"],[1.0,\"#f0f921\"]],\"type\":\"histogram2d\"}],\"histogram2dcontour\":[{\"colorbar\":{\"outlinewidth\":0,\"ticks\":\"\"},\"colorscale\":[[0.0,\"#0d0887\"],[0.1111111111111111,\"#46039f\"],[0.2222222222222222,\"#7201a8\"],[0.3333333333333333,\"#9c179e\"],[0.4444444444444444,\"#bd3786\"],[0.5555555555555556,\"#d8576b\"],[0.6666666666666666,\"#ed7953\"],[0.7777777777777778,\"#fb9f3a\"],[0.8888888888888888,\"#fdca26\"],[1.0,\"#f0f921\"]],\"type\":\"histogram2dcontour\"}],\"mesh3d\":[{\"colorbar\":{\"outlinewidth\":0,\"ticks\":\"\"},\"type\":\"mesh3d\"}],\"parcoords\":[{\"line\":{\"colorbar\":{\"outlinewidth\":0,\"ticks\":\"\"}},\"type\":\"parcoords\"}],\"pie\":[{\"automargin\":true,\"type\":\"pie\"}],\"scatter\":[{\"marker\":{\"colorbar\":{\"outlinewidth\":0,\"ticks\":\"\"}},\"type\":\"scatter\"}],\"scatter3d\":[{\"line\":{\"colorbar\":{\"outlinewidth\":0,\"ticks\":\"\"}},\"marker\":{\"colorbar\":{\"outlinewidth\":0,\"ticks\":\"\"}},\"type\":\"scatter3d\"}],\"scattercarpet\":[{\"marker\":{\"colorbar\":{\"outlinewidth\":0,\"ticks\":\"\"}},\"type\":\"scattercarpet\"}],\"scattergeo\":[{\"marker\":{\"colorbar\":{\"outlinewidth\":0,\"ticks\":\"\"}},\"type\":\"scattergeo\"}],\"scattergl\":[{\"marker\":{\"colorbar\":{\"outlinewidth\":0,\"ticks\":\"\"}},\"type\":\"scattergl\"}],\"scattermapbox\":[{\"marker\":{\"colorbar\":{\"outlinewidth\":0,\"ticks\":\"\"}},\"type\":\"scattermapbox\"}],\"scatterpolar\":[{\"marker\":{\"colorbar\":{\"outlinewidth\":0,\"ticks\":\"\"}},\"type\":\"scatterpolar\"}],\"scatterpolargl\":[{\"marker\":{\"colorbar\":{\"outlinewidth\":0,\"ticks\":\"\"}},\"type\":\"scatterpolargl\"}],\"scatterternary\":[{\"marker\":{\"colorbar\":{\"outlinewidth\":0,\"ticks\":\"\"}},\"type\":\"scatterternary\"}],\"surface\":[{\"colorbar\":{\"outlinewidth\":0,\"ticks\":\"\"},\"colorscale\":[[0.0,\"#0d0887\"],[0.1111111111111111,\"#46039f\"],[0.2222222222222222,\"#7201a8\"],[0.3333333333333333,\"#9c179e\"],[0.4444444444444444,\"#bd3786\"],[0.5555555555555556,\"#d8576b\"],[0.6666666666666666,\"#ed7953\"],[0.7777777777777778,\"#fb9f3a\"],[0.8888888888888888,\"#fdca26\"],[1.0,\"#f0f921\"]],\"type\":\"surface\"}],\"table\":[{\"cells\":{\"fill\":{\"color\":\"#EBF0F8\"},\"line\":{\"color\":\"white\"}},\"header\":{\"fill\":{\"color\":\"#C8D4E3\"},\"line\":{\"color\":\"white\"}},\"type\":\"table\"}]},\"layout\":{\"annotationdefaults\":{\"arrowcolor\":\"#2a3f5f\",\"arrowhead\":0,\"arrowwidth\":1},\"autotypenumbers\":\"strict\",\"coloraxis\":{\"colorbar\":{\"outlinewidth\":0,\"ticks\":\"\"}},\"colorscale\":{\"diverging\":[[0,\"#8e0152\"],[0.1,\"#c51b7d\"],[0.2,\"#de77ae\"],[0.3,\"#f1b6da\"],[0.4,\"#fde0ef\"],[0.5,\"#f7f7f7\"],[0.6,\"#e6f5d0\"],[0.7,\"#b8e186\"],[0.8,\"#7fbc41\"],[0.9,\"#4d9221\"],[1,\"#276419\"]],\"sequential\":[[0.0,\"#0d0887\"],[0.1111111111111111,\"#46039f\"],[0.2222222222222222,\"#7201a8\"],[0.3333333333333333,\"#9c179e\"],[0.4444444444444444,\"#bd3786\"],[0.5555555555555556,\"#d8576b\"],[0.6666666666666666,\"#ed7953\"],[0.7777777777777778,\"#fb9f3a\"],[0.8888888888888888,\"#fdca26\"],[1.0,\"#f0f921\"]],\"sequentialminus\":[[0.0,\"#0d0887\"],[0.1111111111111111,\"#46039f\"],[0.2222222222222222,\"#7201a8\"],[0.3333333333333333,\"#9c179e\"],[0.4444444444444444,\"#bd3786\"],[0.5555555555555556,\"#d8576b\"],[0.6666666666666666,\"#ed7953\"],[0.7777777777777778,\"#fb9f3a\"],[0.8888888888888888,\"#fdca26\"],[1.0,\"#f0f921\"]]},\"colorway\":[\"#636efa\",\"#EF553B\",\"#00cc96\",\"#ab63fa\",\"#FFA15A\",\"#19d3f3\",\"#FF6692\",\"#B6E880\",\"#FF97FF\",\"#FECB52\"],\"font\":{\"color\":\"#2a3f5f\"},\"geo\":{\"bgcolor\":\"white\",\"lakecolor\":\"white\",\"landcolor\":\"#E5ECF6\",\"showlakes\":true,\"showland\":true,\"subunitcolor\":\"white\"},\"hoverlabel\":{\"align\":\"left\"},\"hovermode\":\"closest\",\"mapbox\":{\"style\":\"light\"},\"paper_bgcolor\":\"white\",\"plot_bgcolor\":\"#E5ECF6\",\"polar\":{\"angularaxis\":{\"gridcolor\":\"white\",\"linecolor\":\"white\",\"ticks\":\"\"},\"bgcolor\":\"#E5ECF6\",\"radialaxis\":{\"gridcolor\":\"white\",\"linecolor\":\"white\",\"ticks\":\"\"}},\"scene\":{\"xaxis\":{\"backgroundcolor\":\"#E5ECF6\",\"gridcolor\":\"white\",\"gridwidth\":2,\"linecolor\":\"white\",\"showbackground\":true,\"ticks\":\"\",\"zerolinecolor\":\"white\"},\"yaxis\":{\"backgroundcolor\":\"#E5ECF6\",\"gridcolor\":\"white\",\"gridwidth\":2,\"linecolor\":\"white\",\"showbackground\":true,\"ticks\":\"\",\"zerolinecolor\":\"white\"},\"zaxis\":{\"backgroundcolor\":\"#E5ECF6\",\"gridcolor\":\"white\",\"gridwidth\":2,\"linecolor\":\"white\",\"showbackground\":true,\"ticks\":\"\",\"zerolinecolor\":\"white\"}},\"shapedefaults\":{\"line\":{\"color\":\"#2a3f5f\"}},\"ternary\":{\"aaxis\":{\"gridcolor\":\"white\",\"linecolor\":\"white\",\"ticks\":\"\"},\"baxis\":{\"gridcolor\":\"white\",\"linecolor\":\"white\",\"ticks\":\"\"},\"bgcolor\":\"#E5ECF6\",\"caxis\":{\"gridcolor\":\"white\",\"linecolor\":\"white\",\"ticks\":\"\"}},\"title\":{\"x\":0.05},\"xaxis\":{\"automargin\":true,\"gridcolor\":\"white\",\"linecolor\":\"white\",\"ticks\":\"\",\"title\":{\"standoff\":15},\"zerolinecolor\":\"white\",\"zerolinewidth\":2},\"yaxis\":{\"automargin\":true,\"gridcolor\":\"white\",\"linecolor\":\"white\",\"ticks\":\"\",\"title\":{\"standoff\":15},\"zerolinecolor\":\"white\",\"zerolinewidth\":2}}},\"yaxis\":{\"range\":[-15,5],\"showgrid\":false,\"gridwidth\":1,\"gridcolor\":\"red\",\"scaleanchor\":\"x\",\"scaleratio\":1,\"automargin\":false,\"tickmode\":\"linear\",\"tick0\":-15,\"dtick\":1.0,\"visible\":false},\"xaxis\":{\"range\":[-10,25],\"showgrid\":false,\"gridwidth\":1,\"gridcolor\":\"red\",\"automargin\":false,\"tickmode\":\"linear\",\"tick0\":-10,\"dtick\":1.0,\"visible\":false},\"height\":420.0,\"width\":720.0,\"autosize\":false,\"showlegend\":false},                        {\"responsive\": true}                    ).then(function(){\n",
              "                            \n",
              "var gd = document.getElementById('0240c20c-a9e0-47b4-a61d-1d26043e9294');\n",
              "var x = new MutationObserver(function (mutations, observer) {{\n",
              "        var display = window.getComputedStyle(gd).display;\n",
              "        if (!display || display === 'none') {{\n",
              "            console.log([gd, 'removed!']);\n",
              "            Plotly.purge(gd);\n",
              "            observer.disconnect();\n",
              "        }}\n",
              "}});\n",
              "\n",
              "// Listen for the removal of the full notebook cells\n",
              "var notebookContainer = gd.closest('#notebook-container');\n",
              "if (notebookContainer) {{\n",
              "    x.observe(notebookContainer, {childList: true});\n",
              "}}\n",
              "\n",
              "// Listen for the clearing of the current output cell\n",
              "var outputEl = gd.closest('.output');\n",
              "if (outputEl) {{\n",
              "    x.observe(outputEl, {childList: true});\n",
              "}}\n",
              "\n",
              "                        })                };                            </script>        </div>\n",
              "</body>\n",
              "</html>"
            ]
          },
          "metadata": {}
        },
        {
          "output_type": "display_data",
          "data": {
            "text/html": [
              "<html>\n",
              "<head><meta charset=\"utf-8\" /></head>\n",
              "<body>\n",
              "    <div>            <script src=\"https://cdnjs.cloudflare.com/ajax/libs/mathjax/2.7.5/MathJax.js?config=TeX-AMS-MML_SVG\"></script><script type=\"text/javascript\">if (window.MathJax) {MathJax.Hub.Config({SVG: {font: \"STIX-Web\"}});}</script>                <script type=\"text/javascript\">window.PlotlyConfig = {MathJaxConfig: 'local'};</script>\n",
              "        <script src=\"https://cdn.plot.ly/plotly-2.8.3.min.js\"></script>                <div id=\"da38dd6d-4774-471f-a9b7-3f12a9c23f59\" class=\"plotly-graph-div\" style=\"height:420.0px; width:720.0px;\"></div>            <script type=\"text/javascript\">                                    window.PLOTLYENV=window.PLOTLYENV || {};                                    if (document.getElementById(\"da38dd6d-4774-471f-a9b7-3f12a9c23f59\")) {                    Plotly.newPlot(                        \"da38dd6d-4774-471f-a9b7-3f12a9c23f59\",                        [{\"line\":{\"color\":\"red\",\"width\":5},\"mode\":\"lines+markers\",\"name\":\"Rect: line (-5, -10) to (-5, -5)\",\"x\":[-5,-5],\"y\":[-10,-5],\"type\":\"scatter\"},{\"line\":{\"color\":\"red\",\"width\":5},\"mode\":\"lines+markers\",\"name\":\"Rect: line (5, -10) to (5, -5)\",\"x\":[5,5],\"y\":[-10,-5],\"type\":\"scatter\"},{\"line\":{\"color\":\"red\",\"width\":5},\"mode\":\"lines+markers\",\"name\":\"Rect: line (-5, -10) to (5, -10)\",\"x\":[-5,5],\"y\":[-10,-10],\"type\":\"scatter\"},{\"line\":{\"color\":\"red\",\"width\":5},\"mode\":\"lines+markers\",\"name\":\"Rect: line (-5, -5) to (5, -5)\",\"x\":[-5,5],\"y\":[-5,-5],\"type\":\"scatter\"},{\"line\":{\"color\":\"red\",\"width\":3},\"mode\":\"lines+markers\",\"name\":\"Rect: line (-5, -10) to (-5, -5)\",\"x\":[-5,-5],\"y\":[-10,-5],\"type\":\"scatter\"},{\"line\":{\"color\":\"red\",\"width\":3},\"mode\":\"lines+markers\",\"name\":\"Rect: line (5, -10) to (5, -5)\",\"x\":[5,5],\"y\":[-10,-5],\"type\":\"scatter\"},{\"line\":{\"color\":\"red\",\"width\":3},\"mode\":\"lines+markers\",\"name\":\"Rect: line (-5, -10) to (5, -10)\",\"x\":[-5,5],\"y\":[-10,-10],\"type\":\"scatter\"},{\"line\":{\"color\":\"red\",\"width\":3},\"mode\":\"lines+markers\",\"name\":\"Rect: line (-5, -5) to (5, -5)\",\"x\":[-5,5],\"y\":[-5,-5],\"type\":\"scatter\"},{\"line\":{\"color\":\"blue\",\"width\":3},\"mode\":\"lines+markers\",\"name\":\"Rect: line (-1, -10) to (-1, -7)\",\"x\":[-1,-1],\"y\":[-10,-7],\"type\":\"scatter\"},{\"line\":{\"color\":\"blue\",\"width\":3},\"mode\":\"lines+markers\",\"name\":\"Rect: line (1, -10) to (1, -7)\",\"x\":[1,1],\"y\":[-10,-7],\"type\":\"scatter\"},{\"line\":{\"color\":\"blue\",\"width\":3},\"mode\":\"lines+markers\",\"name\":\"Rect: line (-1, -10) to (1, -10)\",\"x\":[-1,1],\"y\":[-10,-10],\"type\":\"scatter\"},{\"line\":{\"color\":\"blue\",\"width\":3},\"mode\":\"lines+markers\",\"name\":\"Rect: line (-1, -7) to (1, -7)\",\"x\":[-1,1],\"y\":[-7,-7],\"type\":\"scatter\"},{\"line\":{\"color\":\"blue\",\"width\":3},\"mode\":\"lines+markers\",\"name\":\"Rect: line (2, -7) to (2, -6)\",\"x\":[2,2],\"y\":[-7,-6],\"type\":\"scatter\"},{\"line\":{\"color\":\"blue\",\"width\":3},\"mode\":\"lines+markers\",\"name\":\"Rect: line (3, -7) to (3, -6)\",\"x\":[3,3],\"y\":[-7,-6],\"type\":\"scatter\"},{\"line\":{\"color\":\"blue\",\"width\":3},\"mode\":\"lines+markers\",\"name\":\"Rect: line (2, -7) to (3, -7)\",\"x\":[2,3],\"y\":[-7,-7],\"type\":\"scatter\"},{\"line\":{\"color\":\"blue\",\"width\":3},\"mode\":\"lines+markers\",\"name\":\"Rect: line (2, -6) to (3, -6)\",\"x\":[2,3],\"y\":[-6,-6],\"type\":\"scatter\"},{\"line\":{\"color\":\"red\",\"width\":3},\"mode\":\"lines+markers\",\"name\":\"Rect: line (-5, -10) to (-5, -5)\",\"x\":[-5,-5],\"y\":[-10,-5],\"type\":\"scatter\"},{\"line\":{\"color\":\"red\",\"width\":3},\"mode\":\"lines+markers\",\"name\":\"Rect: line (5, -10) to (5, -5)\",\"x\":[5,5],\"y\":[-10,-5],\"type\":\"scatter\"},{\"line\":{\"color\":\"red\",\"width\":3},\"mode\":\"lines+markers\",\"name\":\"Rect: line (-5, -10) to (5, -10)\",\"x\":[-5,5],\"y\":[-10,-10],\"type\":\"scatter\"},{\"line\":{\"color\":\"red\",\"width\":3},\"mode\":\"lines+markers\",\"name\":\"Rect: line (-5, -5) to (5, -5)\",\"x\":[-5,5],\"y\":[-5,-5],\"type\":\"scatter\"},{\"line\":{\"color\":\"blue\",\"width\":3},\"mode\":\"lines+markers\",\"name\":\"Rect: line (-1, -10) to (-1, -7)\",\"x\":[-1,-1],\"y\":[-10,-7],\"type\":\"scatter\"},{\"line\":{\"color\":\"blue\",\"width\":3},\"mode\":\"lines+markers\",\"name\":\"Rect: line (1, -10) to (1, -7)\",\"x\":[1,1],\"y\":[-10,-7],\"type\":\"scatter\"},{\"line\":{\"color\":\"blue\",\"width\":3},\"mode\":\"lines+markers\",\"name\":\"Rect: line (-1, -10) to (1, -10)\",\"x\":[-1,1],\"y\":[-10,-10],\"type\":\"scatter\"},{\"line\":{\"color\":\"blue\",\"width\":3},\"mode\":\"lines+markers\",\"name\":\"Rect: line (-1, -7) to (1, -7)\",\"x\":[-1,1],\"y\":[-7,-7],\"type\":\"scatter\"},{\"line\":{\"color\":\"blue\",\"width\":3},\"mode\":\"lines+markers\",\"name\":\"Rect: line (2, -7) to (2, -6)\",\"x\":[2,2],\"y\":[-7,-6],\"type\":\"scatter\"},{\"line\":{\"color\":\"blue\",\"width\":3},\"mode\":\"lines+markers\",\"name\":\"Rect: line (3, -7) to (3, -6)\",\"x\":[3,3],\"y\":[-7,-6],\"type\":\"scatter\"},{\"line\":{\"color\":\"blue\",\"width\":3},\"mode\":\"lines+markers\",\"name\":\"Rect: line (2, -7) to (3, -7)\",\"x\":[2,3],\"y\":[-7,-7],\"type\":\"scatter\"},{\"line\":{\"color\":\"blue\",\"width\":3},\"mode\":\"lines+markers\",\"name\":\"Rect: line (2, -6) to (3, -6)\",\"x\":[2,3],\"y\":[-6,-6],\"type\":\"scatter\"},{\"line\":{\"color\":\"green\",\"width\":3},\"mode\":\"lines+markers\",\"name\":\"Line segment (-5, -5) to (0, 0)\",\"x\":[-5,0],\"y\":[-5,0],\"type\":\"scatter\"},{\"line\":{\"color\":\"green\",\"width\":3},\"mode\":\"lines+markers\",\"name\":\"Line segment (-4, -5) to (0, 0)\",\"x\":[-4,0],\"y\":[-5,0],\"type\":\"scatter\"},{\"line\":{\"color\":\"green\",\"width\":3},\"mode\":\"lines+markers\",\"name\":\"Line segment (-3, -5) to (0, 0)\",\"x\":[-3,0],\"y\":[-5,0],\"type\":\"scatter\"},{\"line\":{\"color\":\"green\",\"width\":3},\"mode\":\"lines+markers\",\"name\":\"Line segment (-2, -5) to (0, 0)\",\"x\":[-2,0],\"y\":[-5,0],\"type\":\"scatter\"},{\"line\":{\"color\":\"green\",\"width\":3},\"mode\":\"lines+markers\",\"name\":\"Line segment (-1, -5) to (0, 0)\",\"x\":[-1,0],\"y\":[-5,0],\"type\":\"scatter\"},{\"line\":{\"color\":\"green\",\"width\":3},\"mode\":\"lines+markers\",\"name\":\"Line segment (0, -5) to (0, 0)\",\"x\":[0,0],\"y\":[-5,0],\"type\":\"scatter\"},{\"line\":{\"color\":\"green\",\"width\":3},\"mode\":\"lines+markers\",\"name\":\"Line segment (1, -5) to (0, 0)\",\"x\":[1,0],\"y\":[-5,0],\"type\":\"scatter\"},{\"line\":{\"color\":\"green\",\"width\":3},\"mode\":\"lines+markers\",\"name\":\"Line segment (2, -5) to (0, 0)\",\"x\":[2,0],\"y\":[-5,0],\"type\":\"scatter\"},{\"line\":{\"color\":\"green\",\"width\":3},\"mode\":\"lines+markers\",\"name\":\"Line segment (3, -5) to (0, 0)\",\"x\":[3,0],\"y\":[-5,0],\"type\":\"scatter\"},{\"line\":{\"color\":\"green\",\"width\":3},\"mode\":\"lines+markers\",\"name\":\"Line segment (4, -5) to (0, 0)\",\"x\":[4,0],\"y\":[-5,0],\"type\":\"scatter\"},{\"line\":{\"color\":\"green\",\"width\":3},\"mode\":\"lines+markers\",\"name\":\"Line segment (5, -5) to (0, 0)\",\"x\":[5,0],\"y\":[-5,0],\"type\":\"scatter\"},{\"line\":{\"color\":\"red\",\"width\":3},\"mode\":\"lines+markers\",\"name\":\"Rect: line (-5, -10) to (-5, -5)\",\"x\":[-5,-5],\"y\":[-10,-5],\"type\":\"scatter\"},{\"line\":{\"color\":\"red\",\"width\":3},\"mode\":\"lines+markers\",\"name\":\"Rect: line (5, -10) to (5, -5)\",\"x\":[5,5],\"y\":[-10,-5],\"type\":\"scatter\"},{\"line\":{\"color\":\"red\",\"width\":3},\"mode\":\"lines+markers\",\"name\":\"Rect: line (-5, -10) to (5, -10)\",\"x\":[-5,5],\"y\":[-10,-10],\"type\":\"scatter\"},{\"line\":{\"color\":\"red\",\"width\":3},\"mode\":\"lines+markers\",\"name\":\"Rect: line (-5, -5) to (5, -5)\",\"x\":[-5,5],\"y\":[-5,-5],\"type\":\"scatter\"},{\"line\":{\"color\":\"blue\",\"width\":3},\"mode\":\"lines+markers\",\"name\":\"Rect: line (-1, -10) to (-1, -7)\",\"x\":[-1,-1],\"y\":[-10,-7],\"type\":\"scatter\"},{\"line\":{\"color\":\"blue\",\"width\":3},\"mode\":\"lines+markers\",\"name\":\"Rect: line (1, -10) to (1, -7)\",\"x\":[1,1],\"y\":[-10,-7],\"type\":\"scatter\"},{\"line\":{\"color\":\"blue\",\"width\":3},\"mode\":\"lines+markers\",\"name\":\"Rect: line (-1, -10) to (1, -10)\",\"x\":[-1,1],\"y\":[-10,-10],\"type\":\"scatter\"},{\"line\":{\"color\":\"blue\",\"width\":3},\"mode\":\"lines+markers\",\"name\":\"Rect: line (-1, -7) to (1, -7)\",\"x\":[-1,1],\"y\":[-7,-7],\"type\":\"scatter\"},{\"line\":{\"color\":\"blue\",\"width\":3},\"mode\":\"lines+markers\",\"name\":\"Rect: line (2, -7) to (2, -6)\",\"x\":[2,2],\"y\":[-7,-6],\"type\":\"scatter\"},{\"line\":{\"color\":\"blue\",\"width\":3},\"mode\":\"lines+markers\",\"name\":\"Rect: line (3, -7) to (3, -6)\",\"x\":[3,3],\"y\":[-7,-6],\"type\":\"scatter\"},{\"line\":{\"color\":\"blue\",\"width\":3},\"mode\":\"lines+markers\",\"name\":\"Rect: line (2, -7) to (3, -7)\",\"x\":[2,3],\"y\":[-7,-7],\"type\":\"scatter\"},{\"line\":{\"color\":\"blue\",\"width\":3},\"mode\":\"lines+markers\",\"name\":\"Rect: line (2, -6) to (3, -6)\",\"x\":[2,3],\"y\":[-6,-6],\"type\":\"scatter\"},{\"line\":{\"color\":\"green\",\"width\":3},\"mode\":\"lines+markers\",\"name\":\"Line segment (-5, -5) to (0, 0)\",\"x\":[-5,0],\"y\":[-5,0],\"type\":\"scatter\"},{\"line\":{\"color\":\"green\",\"width\":3},\"mode\":\"lines+markers\",\"name\":\"Line segment (-4, -5) to (0, 0)\",\"x\":[-4,0],\"y\":[-5,0],\"type\":\"scatter\"},{\"line\":{\"color\":\"green\",\"width\":3},\"mode\":\"lines+markers\",\"name\":\"Line segment (-3, -5) to (0, 0)\",\"x\":[-3,0],\"y\":[-5,0],\"type\":\"scatter\"},{\"line\":{\"color\":\"green\",\"width\":3},\"mode\":\"lines+markers\",\"name\":\"Line segment (-2, -5) to (0, 0)\",\"x\":[-2,0],\"y\":[-5,0],\"type\":\"scatter\"},{\"line\":{\"color\":\"green\",\"width\":3},\"mode\":\"lines+markers\",\"name\":\"Line segment (-1, -5) to (0, 0)\",\"x\":[-1,0],\"y\":[-5,0],\"type\":\"scatter\"},{\"line\":{\"color\":\"green\",\"width\":3},\"mode\":\"lines+markers\",\"name\":\"Line segment (0, -5) to (0, 0)\",\"x\":[0,0],\"y\":[-5,0],\"type\":\"scatter\"},{\"line\":{\"color\":\"green\",\"width\":3},\"mode\":\"lines+markers\",\"name\":\"Line segment (1, -5) to (0, 0)\",\"x\":[1,0],\"y\":[-5,0],\"type\":\"scatter\"},{\"line\":{\"color\":\"green\",\"width\":3},\"mode\":\"lines+markers\",\"name\":\"Line segment (2, -5) to (0, 0)\",\"x\":[2,0],\"y\":[-5,0],\"type\":\"scatter\"},{\"line\":{\"color\":\"green\",\"width\":3},\"mode\":\"lines+markers\",\"name\":\"Line segment (3, -5) to (0, 0)\",\"x\":[3,0],\"y\":[-5,0],\"type\":\"scatter\"},{\"line\":{\"color\":\"green\",\"width\":3},\"mode\":\"lines+markers\",\"name\":\"Line segment (4, -5) to (0, 0)\",\"x\":[4,0],\"y\":[-5,0],\"type\":\"scatter\"},{\"line\":{\"color\":\"green\",\"width\":3},\"mode\":\"lines+markers\",\"name\":\"Line segment (5, -5) to (0, 0)\",\"x\":[5,0],\"y\":[-5,0],\"type\":\"scatter\"},{\"line\":{\"color\":\"yellow\",\"width\":3},\"mode\":\"lines+markers\",\"name\":\"Line segment (-15, -15) to (-10, -11)\",\"x\":[-15,-10],\"y\":[-15,-11],\"type\":\"scatter\"},{\"line\":{\"color\":\"yellow\",\"width\":3},\"mode\":\"lines+markers\",\"name\":\"Line segment (-14, -15) to (-9, -11)\",\"x\":[-14,-9],\"y\":[-15,-11],\"type\":\"scatter\"},{\"line\":{\"color\":\"yellow\",\"width\":3},\"mode\":\"lines+markers\",\"name\":\"Line segment (-13, -15) to (-8, -11)\",\"x\":[-13,-8],\"y\":[-15,-11],\"type\":\"scatter\"},{\"line\":{\"color\":\"yellow\",\"width\":3},\"mode\":\"lines+markers\",\"name\":\"Line segment (-12, -15) to (-7, -11)\",\"x\":[-12,-7],\"y\":[-15,-11],\"type\":\"scatter\"},{\"line\":{\"color\":\"yellow\",\"width\":3},\"mode\":\"lines+markers\",\"name\":\"Line segment (-11, -15) to (-6, -11)\",\"x\":[-11,-6],\"y\":[-15,-11],\"type\":\"scatter\"},{\"line\":{\"color\":\"yellow\",\"width\":3},\"mode\":\"lines+markers\",\"name\":\"Line segment (-10, -15) to (-5, -11)\",\"x\":[-10,-5],\"y\":[-15,-11],\"type\":\"scatter\"},{\"line\":{\"color\":\"yellow\",\"width\":3},\"mode\":\"lines+markers\",\"name\":\"Line segment (-9, -15) to (-4, -11)\",\"x\":[-9,-4],\"y\":[-15,-11],\"type\":\"scatter\"},{\"line\":{\"color\":\"yellow\",\"width\":3},\"mode\":\"lines+markers\",\"name\":\"Line segment (-8, -15) to (-3, -11)\",\"x\":[-8,-3],\"y\":[-15,-11],\"type\":\"scatter\"},{\"line\":{\"color\":\"yellow\",\"width\":3},\"mode\":\"lines+markers\",\"name\":\"Line segment (-7, -15) to (-2, -11)\",\"x\":[-7,-2],\"y\":[-15,-11],\"type\":\"scatter\"},{\"line\":{\"color\":\"yellow\",\"width\":3},\"mode\":\"lines+markers\",\"name\":\"Line segment (-6, -15) to (-1, -11)\",\"x\":[-6,-1],\"y\":[-15,-11],\"type\":\"scatter\"},{\"line\":{\"color\":\"yellow\",\"width\":3},\"mode\":\"lines+markers\",\"name\":\"Line segment (-5, -15) to (0, -11)\",\"x\":[-5,0],\"y\":[-15,-11],\"type\":\"scatter\"},{\"line\":{\"color\":\"yellow\",\"width\":3},\"mode\":\"lines+markers\",\"name\":\"Line segment (-4, -15) to (1, -11)\",\"x\":[-4,1],\"y\":[-15,-11],\"type\":\"scatter\"},{\"line\":{\"color\":\"yellow\",\"width\":3},\"mode\":\"lines+markers\",\"name\":\"Line segment (-3, -15) to (2, -11)\",\"x\":[-3,2],\"y\":[-15,-11],\"type\":\"scatter\"},{\"line\":{\"color\":\"yellow\",\"width\":3},\"mode\":\"lines+markers\",\"name\":\"Line segment (-2, -15) to (3, -11)\",\"x\":[-2,3],\"y\":[-15,-11],\"type\":\"scatter\"},{\"line\":{\"color\":\"yellow\",\"width\":3},\"mode\":\"lines+markers\",\"name\":\"Line segment (-1, -15) to (4, -11)\",\"x\":[-1,4],\"y\":[-15,-11],\"type\":\"scatter\"},{\"line\":{\"color\":\"yellow\",\"width\":3},\"mode\":\"lines+markers\",\"name\":\"Line segment (0, -15) to (5, -11)\",\"x\":[0,5],\"y\":[-15,-11],\"type\":\"scatter\"},{\"line\":{\"color\":\"yellow\",\"width\":3},\"mode\":\"lines+markers\",\"name\":\"Line segment (1, -15) to (6, -11)\",\"x\":[1,6],\"y\":[-15,-11],\"type\":\"scatter\"},{\"line\":{\"color\":\"yellow\",\"width\":3},\"mode\":\"lines+markers\",\"name\":\"Line segment (2, -15) to (7, -11)\",\"x\":[2,7],\"y\":[-15,-11],\"type\":\"scatter\"},{\"line\":{\"color\":\"yellow\",\"width\":3},\"mode\":\"lines+markers\",\"name\":\"Line segment (3, -15) to (8, -11)\",\"x\":[3,8],\"y\":[-15,-11],\"type\":\"scatter\"},{\"line\":{\"color\":\"yellow\",\"width\":3},\"mode\":\"lines+markers\",\"name\":\"Line segment (4, -15) to (9, -11)\",\"x\":[4,9],\"y\":[-15,-11],\"type\":\"scatter\"},{\"line\":{\"color\":\"yellow\",\"width\":3},\"mode\":\"lines+markers\",\"name\":\"Line segment (5, -15) to (10, -11)\",\"x\":[5,10],\"y\":[-15,-11],\"type\":\"scatter\"},{\"line\":{\"color\":\"yellow\",\"width\":3},\"mode\":\"lines+markers\",\"name\":\"Line segment (6, -15) to (11, -11)\",\"x\":[6,11],\"y\":[-15,-11],\"type\":\"scatter\"},{\"line\":{\"color\":\"yellow\",\"width\":3},\"mode\":\"lines+markers\",\"name\":\"Line segment (7, -15) to (12, -11)\",\"x\":[7,12],\"y\":[-15,-11],\"type\":\"scatter\"},{\"line\":{\"color\":\"yellow\",\"width\":3},\"mode\":\"lines+markers\",\"name\":\"Line segment (8, -15) to (13, -11)\",\"x\":[8,13],\"y\":[-15,-11],\"type\":\"scatter\"},{\"line\":{\"color\":\"yellow\",\"width\":3},\"mode\":\"lines+markers\",\"name\":\"Line segment (9, -15) to (14, -11)\",\"x\":[9,14],\"y\":[-15,-11],\"type\":\"scatter\"},{\"line\":{\"color\":\"red\",\"width\":3},\"mode\":\"lines+markers\",\"name\":\"Rect: line (-5, -10) to (-5, -5)\",\"x\":[-5,-5],\"y\":[-10,-5],\"type\":\"scatter\"},{\"line\":{\"color\":\"red\",\"width\":3},\"mode\":\"lines+markers\",\"name\":\"Rect: line (5, -10) to (5, -5)\",\"x\":[5,5],\"y\":[-10,-5],\"type\":\"scatter\"},{\"line\":{\"color\":\"red\",\"width\":3},\"mode\":\"lines+markers\",\"name\":\"Rect: line (-5, -10) to (5, -10)\",\"x\":[-5,5],\"y\":[-10,-10],\"type\":\"scatter\"},{\"line\":{\"color\":\"red\",\"width\":3},\"mode\":\"lines+markers\",\"name\":\"Rect: line (-5, -5) to (5, -5)\",\"x\":[-5,5],\"y\":[-5,-5],\"type\":\"scatter\"},{\"line\":{\"color\":\"blue\",\"width\":3},\"mode\":\"lines+markers\",\"name\":\"Rect: line (-1, -10) to (-1, -7)\",\"x\":[-1,-1],\"y\":[-10,-7],\"type\":\"scatter\"},{\"line\":{\"color\":\"blue\",\"width\":3},\"mode\":\"lines+markers\",\"name\":\"Rect: line (1, -10) to (1, -7)\",\"x\":[1,1],\"y\":[-10,-7],\"type\":\"scatter\"},{\"line\":{\"color\":\"blue\",\"width\":3},\"mode\":\"lines+markers\",\"name\":\"Rect: line (-1, -10) to (1, -10)\",\"x\":[-1,1],\"y\":[-10,-10],\"type\":\"scatter\"},{\"line\":{\"color\":\"blue\",\"width\":3},\"mode\":\"lines+markers\",\"name\":\"Rect: line (-1, -7) to (1, -7)\",\"x\":[-1,1],\"y\":[-7,-7],\"type\":\"scatter\"},{\"line\":{\"color\":\"blue\",\"width\":3},\"mode\":\"lines+markers\",\"name\":\"Rect: line (2, -7) to (2, -6)\",\"x\":[2,2],\"y\":[-7,-6],\"type\":\"scatter\"},{\"line\":{\"color\":\"blue\",\"width\":3},\"mode\":\"lines+markers\",\"name\":\"Rect: line (3, -7) to (3, -6)\",\"x\":[3,3],\"y\":[-7,-6],\"type\":\"scatter\"},{\"line\":{\"color\":\"blue\",\"width\":3},\"mode\":\"lines+markers\",\"name\":\"Rect: line (2, -7) to (3, -7)\",\"x\":[2,3],\"y\":[-7,-7],\"type\":\"scatter\"},{\"line\":{\"color\":\"blue\",\"width\":3},\"mode\":\"lines+markers\",\"name\":\"Rect: line (2, -6) to (3, -6)\",\"x\":[2,3],\"y\":[-6,-6],\"type\":\"scatter\"},{\"line\":{\"color\":\"green\",\"width\":3},\"mode\":\"lines+markers\",\"name\":\"Line segment (-5, -5) to (0, 0)\",\"x\":[-5,0],\"y\":[-5,0],\"type\":\"scatter\"},{\"line\":{\"color\":\"green\",\"width\":3},\"mode\":\"lines+markers\",\"name\":\"Line segment (-4, -5) to (0, 0)\",\"x\":[-4,0],\"y\":[-5,0],\"type\":\"scatter\"},{\"line\":{\"color\":\"green\",\"width\":3},\"mode\":\"lines+markers\",\"name\":\"Line segment (-3, -5) to (0, 0)\",\"x\":[-3,0],\"y\":[-5,0],\"type\":\"scatter\"},{\"line\":{\"color\":\"green\",\"width\":3},\"mode\":\"lines+markers\",\"name\":\"Line segment (-2, -5) to (0, 0)\",\"x\":[-2,0],\"y\":[-5,0],\"type\":\"scatter\"},{\"line\":{\"color\":\"green\",\"width\":3},\"mode\":\"lines+markers\",\"name\":\"Line segment (-1, -5) to (0, 0)\",\"x\":[-1,0],\"y\":[-5,0],\"type\":\"scatter\"},{\"line\":{\"color\":\"green\",\"width\":3},\"mode\":\"lines+markers\",\"name\":\"Line segment (0, -5) to (0, 0)\",\"x\":[0,0],\"y\":[-5,0],\"type\":\"scatter\"},{\"line\":{\"color\":\"green\",\"width\":3},\"mode\":\"lines+markers\",\"name\":\"Line segment (1, -5) to (0, 0)\",\"x\":[1,0],\"y\":[-5,0],\"type\":\"scatter\"},{\"line\":{\"color\":\"green\",\"width\":3},\"mode\":\"lines+markers\",\"name\":\"Line segment (2, -5) to (0, 0)\",\"x\":[2,0],\"y\":[-5,0],\"type\":\"scatter\"},{\"line\":{\"color\":\"green\",\"width\":3},\"mode\":\"lines+markers\",\"name\":\"Line segment (3, -5) to (0, 0)\",\"x\":[3,0],\"y\":[-5,0],\"type\":\"scatter\"},{\"line\":{\"color\":\"green\",\"width\":3},\"mode\":\"lines+markers\",\"name\":\"Line segment (4, -5) to (0, 0)\",\"x\":[4,0],\"y\":[-5,0],\"type\":\"scatter\"},{\"line\":{\"color\":\"green\",\"width\":3},\"mode\":\"lines+markers\",\"name\":\"Line segment (5, -5) to (0, 0)\",\"x\":[5,0],\"y\":[-5,0],\"type\":\"scatter\"},{\"line\":{\"color\":\"yellow\",\"width\":3},\"mode\":\"lines+markers\",\"name\":\"Line segment (-15, -15) to (-10, -11)\",\"x\":[-15,-10],\"y\":[-15,-11],\"type\":\"scatter\"},{\"line\":{\"color\":\"yellow\",\"width\":3},\"mode\":\"lines+markers\",\"name\":\"Line segment (-14, -15) to (-9, -11)\",\"x\":[-14,-9],\"y\":[-15,-11],\"type\":\"scatter\"},{\"line\":{\"color\":\"yellow\",\"width\":3},\"mode\":\"lines+markers\",\"name\":\"Line segment (-13, -15) to (-8, -11)\",\"x\":[-13,-8],\"y\":[-15,-11],\"type\":\"scatter\"},{\"line\":{\"color\":\"yellow\",\"width\":3},\"mode\":\"lines+markers\",\"name\":\"Line segment (-12, -15) to (-7, -11)\",\"x\":[-12,-7],\"y\":[-15,-11],\"type\":\"scatter\"},{\"line\":{\"color\":\"yellow\",\"width\":3},\"mode\":\"lines+markers\",\"name\":\"Line segment (-11, -15) to (-6, -11)\",\"x\":[-11,-6],\"y\":[-15,-11],\"type\":\"scatter\"},{\"line\":{\"color\":\"yellow\",\"width\":3},\"mode\":\"lines+markers\",\"name\":\"Line segment (-10, -15) to (-5, -11)\",\"x\":[-10,-5],\"y\":[-15,-11],\"type\":\"scatter\"},{\"line\":{\"color\":\"yellow\",\"width\":3},\"mode\":\"lines+markers\",\"name\":\"Line segment (-9, -15) to (-4, -11)\",\"x\":[-9,-4],\"y\":[-15,-11],\"type\":\"scatter\"},{\"line\":{\"color\":\"yellow\",\"width\":3},\"mode\":\"lines+markers\",\"name\":\"Line segment (-8, -15) to (-3, -11)\",\"x\":[-8,-3],\"y\":[-15,-11],\"type\":\"scatter\"},{\"line\":{\"color\":\"yellow\",\"width\":3},\"mode\":\"lines+markers\",\"name\":\"Line segment (-7, -15) to (-2, -11)\",\"x\":[-7,-2],\"y\":[-15,-11],\"type\":\"scatter\"},{\"line\":{\"color\":\"yellow\",\"width\":3},\"mode\":\"lines+markers\",\"name\":\"Line segment (-6, -15) to (-1, -11)\",\"x\":[-6,-1],\"y\":[-15,-11],\"type\":\"scatter\"},{\"line\":{\"color\":\"yellow\",\"width\":3},\"mode\":\"lines+markers\",\"name\":\"Line segment (-5, -15) to (0, -11)\",\"x\":[-5,0],\"y\":[-15,-11],\"type\":\"scatter\"},{\"line\":{\"color\":\"yellow\",\"width\":3},\"mode\":\"lines+markers\",\"name\":\"Line segment (-4, -15) to (1, -11)\",\"x\":[-4,1],\"y\":[-15,-11],\"type\":\"scatter\"},{\"line\":{\"color\":\"yellow\",\"width\":3},\"mode\":\"lines+markers\",\"name\":\"Line segment (-3, -15) to (2, -11)\",\"x\":[-3,2],\"y\":[-15,-11],\"type\":\"scatter\"},{\"line\":{\"color\":\"yellow\",\"width\":3},\"mode\":\"lines+markers\",\"name\":\"Line segment (-2, -15) to (3, -11)\",\"x\":[-2,3],\"y\":[-15,-11],\"type\":\"scatter\"},{\"line\":{\"color\":\"yellow\",\"width\":3},\"mode\":\"lines+markers\",\"name\":\"Line segment (-1, -15) to (4, -11)\",\"x\":[-1,4],\"y\":[-15,-11],\"type\":\"scatter\"},{\"line\":{\"color\":\"yellow\",\"width\":3},\"mode\":\"lines+markers\",\"name\":\"Line segment (0, -15) to (5, -11)\",\"x\":[0,5],\"y\":[-15,-11],\"type\":\"scatter\"},{\"line\":{\"color\":\"yellow\",\"width\":3},\"mode\":\"lines+markers\",\"name\":\"Line segment (1, -15) to (6, -11)\",\"x\":[1,6],\"y\":[-15,-11],\"type\":\"scatter\"},{\"line\":{\"color\":\"yellow\",\"width\":3},\"mode\":\"lines+markers\",\"name\":\"Line segment (2, -15) to (7, -11)\",\"x\":[2,7],\"y\":[-15,-11],\"type\":\"scatter\"},{\"line\":{\"color\":\"yellow\",\"width\":3},\"mode\":\"lines+markers\",\"name\":\"Line segment (3, -15) to (8, -11)\",\"x\":[3,8],\"y\":[-15,-11],\"type\":\"scatter\"},{\"line\":{\"color\":\"yellow\",\"width\":3},\"mode\":\"lines+markers\",\"name\":\"Line segment (4, -15) to (9, -11)\",\"x\":[4,9],\"y\":[-15,-11],\"type\":\"scatter\"},{\"line\":{\"color\":\"yellow\",\"width\":3},\"mode\":\"lines+markers\",\"name\":\"Line segment (5, -15) to (10, -11)\",\"x\":[5,10],\"y\":[-15,-11],\"type\":\"scatter\"},{\"line\":{\"color\":\"yellow\",\"width\":3},\"mode\":\"lines+markers\",\"name\":\"Line segment (6, -15) to (11, -11)\",\"x\":[6,11],\"y\":[-15,-11],\"type\":\"scatter\"},{\"line\":{\"color\":\"yellow\",\"width\":3},\"mode\":\"lines+markers\",\"name\":\"Line segment (7, -15) to (12, -11)\",\"x\":[7,12],\"y\":[-15,-11],\"type\":\"scatter\"},{\"line\":{\"color\":\"yellow\",\"width\":3},\"mode\":\"lines+markers\",\"name\":\"Line segment (8, -15) to (13, -11)\",\"x\":[8,13],\"y\":[-15,-11],\"type\":\"scatter\"},{\"line\":{\"color\":\"yellow\",\"width\":3},\"mode\":\"lines+markers\",\"name\":\"Line segment (9, -15) to (14, -11)\",\"x\":[9,14],\"y\":[-15,-11],\"type\":\"scatter\"}],                        {\"template\":{\"data\":{\"bar\":[{\"error_x\":{\"color\":\"#2a3f5f\"},\"error_y\":{\"color\":\"#2a3f5f\"},\"marker\":{\"line\":{\"color\":\"#E5ECF6\",\"width\":0.5},\"pattern\":{\"fillmode\":\"overlay\",\"size\":10,\"solidity\":0.2}},\"type\":\"bar\"}],\"barpolar\":[{\"marker\":{\"line\":{\"color\":\"#E5ECF6\",\"width\":0.5},\"pattern\":{\"fillmode\":\"overlay\",\"size\":10,\"solidity\":0.2}},\"type\":\"barpolar\"}],\"carpet\":[{\"aaxis\":{\"endlinecolor\":\"#2a3f5f\",\"gridcolor\":\"white\",\"linecolor\":\"white\",\"minorgridcolor\":\"white\",\"startlinecolor\":\"#2a3f5f\"},\"baxis\":{\"endlinecolor\":\"#2a3f5f\",\"gridcolor\":\"white\",\"linecolor\":\"white\",\"minorgridcolor\":\"white\",\"startlinecolor\":\"#2a3f5f\"},\"type\":\"carpet\"}],\"choropleth\":[{\"colorbar\":{\"outlinewidth\":0,\"ticks\":\"\"},\"type\":\"choropleth\"}],\"contour\":[{\"colorbar\":{\"outlinewidth\":0,\"ticks\":\"\"},\"colorscale\":[[0.0,\"#0d0887\"],[0.1111111111111111,\"#46039f\"],[0.2222222222222222,\"#7201a8\"],[0.3333333333333333,\"#9c179e\"],[0.4444444444444444,\"#bd3786\"],[0.5555555555555556,\"#d8576b\"],[0.6666666666666666,\"#ed7953\"],[0.7777777777777778,\"#fb9f3a\"],[0.8888888888888888,\"#fdca26\"],[1.0,\"#f0f921\"]],\"type\":\"contour\"}],\"contourcarpet\":[{\"colorbar\":{\"outlinewidth\":0,\"ticks\":\"\"},\"type\":\"contourcarpet\"}],\"heatmap\":[{\"colorbar\":{\"outlinewidth\":0,\"ticks\":\"\"},\"colorscale\":[[0.0,\"#0d0887\"],[0.1111111111111111,\"#46039f\"],[0.2222222222222222,\"#7201a8\"],[0.3333333333333333,\"#9c179e\"],[0.4444444444444444,\"#bd3786\"],[0.5555555555555556,\"#d8576b\"],[0.6666666666666666,\"#ed7953\"],[0.7777777777777778,\"#fb9f3a\"],[0.8888888888888888,\"#fdca26\"],[1.0,\"#f0f921\"]],\"type\":\"heatmap\"}],\"heatmapgl\":[{\"colorbar\":{\"outlinewidth\":0,\"ticks\":\"\"},\"colorscale\":[[0.0,\"#0d0887\"],[0.1111111111111111,\"#46039f\"],[0.2222222222222222,\"#7201a8\"],[0.3333333333333333,\"#9c179e\"],[0.4444444444444444,\"#bd3786\"],[0.5555555555555556,\"#d8576b\"],[0.6666666666666666,\"#ed7953\"],[0.7777777777777778,\"#fb9f3a\"],[0.8888888888888888,\"#fdca26\"],[1.0,\"#f0f921\"]],\"type\":\"heatmapgl\"}],\"histogram\":[{\"marker\":{\"pattern\":{\"fillmode\":\"overlay\",\"size\":10,\"solidity\":0.2}},\"type\":\"histogram\"}],\"histogram2d\":[{\"colorbar\":{\"outlinewidth\":0,\"ticks\":\"\"},\"colorscale\":[[0.0,\"#0d0887\"],[0.1111111111111111,\"#46039f\"],[0.2222222222222222,\"#7201a8\"],[0.3333333333333333,\"#9c179e\"],[0.4444444444444444,\"#bd3786\"],[0.5555555555555556,\"#d8576b\"],[0.6666666666666666,\"#ed7953\"],[0.7777777777777778,\"#fb9f3a\"],[0.8888888888888888,\"#fdca26\"],[1.0,\"#f0f921\"]],\"type\":\"histogram2d\"}],\"histogram2dcontour\":[{\"colorbar\":{\"outlinewidth\":0,\"ticks\":\"\"},\"colorscale\":[[0.0,\"#0d0887\"],[0.1111111111111111,\"#46039f\"],[0.2222222222222222,\"#7201a8\"],[0.3333333333333333,\"#9c179e\"],[0.4444444444444444,\"#bd3786\"],[0.5555555555555556,\"#d8576b\"],[0.6666666666666666,\"#ed7953\"],[0.7777777777777778,\"#fb9f3a\"],[0.8888888888888888,\"#fdca26\"],[1.0,\"#f0f921\"]],\"type\":\"histogram2dcontour\"}],\"mesh3d\":[{\"colorbar\":{\"outlinewidth\":0,\"ticks\":\"\"},\"type\":\"mesh3d\"}],\"parcoords\":[{\"line\":{\"colorbar\":{\"outlinewidth\":0,\"ticks\":\"\"}},\"type\":\"parcoords\"}],\"pie\":[{\"automargin\":true,\"type\":\"pie\"}],\"scatter\":[{\"marker\":{\"colorbar\":{\"outlinewidth\":0,\"ticks\":\"\"}},\"type\":\"scatter\"}],\"scatter3d\":[{\"line\":{\"colorbar\":{\"outlinewidth\":0,\"ticks\":\"\"}},\"marker\":{\"colorbar\":{\"outlinewidth\":0,\"ticks\":\"\"}},\"type\":\"scatter3d\"}],\"scattercarpet\":[{\"marker\":{\"colorbar\":{\"outlinewidth\":0,\"ticks\":\"\"}},\"type\":\"scattercarpet\"}],\"scattergeo\":[{\"marker\":{\"colorbar\":{\"outlinewidth\":0,\"ticks\":\"\"}},\"type\":\"scattergeo\"}],\"scattergl\":[{\"marker\":{\"colorbar\":{\"outlinewidth\":0,\"ticks\":\"\"}},\"type\":\"scattergl\"}],\"scattermapbox\":[{\"marker\":{\"colorbar\":{\"outlinewidth\":0,\"ticks\":\"\"}},\"type\":\"scattermapbox\"}],\"scatterpolar\":[{\"marker\":{\"colorbar\":{\"outlinewidth\":0,\"ticks\":\"\"}},\"type\":\"scatterpolar\"}],\"scatterpolargl\":[{\"marker\":{\"colorbar\":{\"outlinewidth\":0,\"ticks\":\"\"}},\"type\":\"scatterpolargl\"}],\"scatterternary\":[{\"marker\":{\"colorbar\":{\"outlinewidth\":0,\"ticks\":\"\"}},\"type\":\"scatterternary\"}],\"surface\":[{\"colorbar\":{\"outlinewidth\":0,\"ticks\":\"\"},\"colorscale\":[[0.0,\"#0d0887\"],[0.1111111111111111,\"#46039f\"],[0.2222222222222222,\"#7201a8\"],[0.3333333333333333,\"#9c179e\"],[0.4444444444444444,\"#bd3786\"],[0.5555555555555556,\"#d8576b\"],[0.6666666666666666,\"#ed7953\"],[0.7777777777777778,\"#fb9f3a\"],[0.8888888888888888,\"#fdca26\"],[1.0,\"#f0f921\"]],\"type\":\"surface\"}],\"table\":[{\"cells\":{\"fill\":{\"color\":\"#EBF0F8\"},\"line\":{\"color\":\"white\"}},\"header\":{\"fill\":{\"color\":\"#C8D4E3\"},\"line\":{\"color\":\"white\"}},\"type\":\"table\"}]},\"layout\":{\"annotationdefaults\":{\"arrowcolor\":\"#2a3f5f\",\"arrowhead\":0,\"arrowwidth\":1},\"autotypenumbers\":\"strict\",\"coloraxis\":{\"colorbar\":{\"outlinewidth\":0,\"ticks\":\"\"}},\"colorscale\":{\"diverging\":[[0,\"#8e0152\"],[0.1,\"#c51b7d\"],[0.2,\"#de77ae\"],[0.3,\"#f1b6da\"],[0.4,\"#fde0ef\"],[0.5,\"#f7f7f7\"],[0.6,\"#e6f5d0\"],[0.7,\"#b8e186\"],[0.8,\"#7fbc41\"],[0.9,\"#4d9221\"],[1,\"#276419\"]],\"sequential\":[[0.0,\"#0d0887\"],[0.1111111111111111,\"#46039f\"],[0.2222222222222222,\"#7201a8\"],[0.3333333333333333,\"#9c179e\"],[0.4444444444444444,\"#bd3786\"],[0.5555555555555556,\"#d8576b\"],[0.6666666666666666,\"#ed7953\"],[0.7777777777777778,\"#fb9f3a\"],[0.8888888888888888,\"#fdca26\"],[1.0,\"#f0f921\"]],\"sequentialminus\":[[0.0,\"#0d0887\"],[0.1111111111111111,\"#46039f\"],[0.2222222222222222,\"#7201a8\"],[0.3333333333333333,\"#9c179e\"],[0.4444444444444444,\"#bd3786\"],[0.5555555555555556,\"#d8576b\"],[0.6666666666666666,\"#ed7953\"],[0.7777777777777778,\"#fb9f3a\"],[0.8888888888888888,\"#fdca26\"],[1.0,\"#f0f921\"]]},\"colorway\":[\"#636efa\",\"#EF553B\",\"#00cc96\",\"#ab63fa\",\"#FFA15A\",\"#19d3f3\",\"#FF6692\",\"#B6E880\",\"#FF97FF\",\"#FECB52\"],\"font\":{\"color\":\"#2a3f5f\"},\"geo\":{\"bgcolor\":\"white\",\"lakecolor\":\"white\",\"landcolor\":\"#E5ECF6\",\"showlakes\":true,\"showland\":true,\"subunitcolor\":\"white\"},\"hoverlabel\":{\"align\":\"left\"},\"hovermode\":\"closest\",\"mapbox\":{\"style\":\"light\"},\"paper_bgcolor\":\"white\",\"plot_bgcolor\":\"#E5ECF6\",\"polar\":{\"angularaxis\":{\"gridcolor\":\"white\",\"linecolor\":\"white\",\"ticks\":\"\"},\"bgcolor\":\"#E5ECF6\",\"radialaxis\":{\"gridcolor\":\"white\",\"linecolor\":\"white\",\"ticks\":\"\"}},\"scene\":{\"xaxis\":{\"backgroundcolor\":\"#E5ECF6\",\"gridcolor\":\"white\",\"gridwidth\":2,\"linecolor\":\"white\",\"showbackground\":true,\"ticks\":\"\",\"zerolinecolor\":\"white\"},\"yaxis\":{\"backgroundcolor\":\"#E5ECF6\",\"gridcolor\":\"white\",\"gridwidth\":2,\"linecolor\":\"white\",\"showbackground\":true,\"ticks\":\"\",\"zerolinecolor\":\"white\"},\"zaxis\":{\"backgroundcolor\":\"#E5ECF6\",\"gridcolor\":\"white\",\"gridwidth\":2,\"linecolor\":\"white\",\"showbackground\":true,\"ticks\":\"\",\"zerolinecolor\":\"white\"}},\"shapedefaults\":{\"line\":{\"color\":\"#2a3f5f\"}},\"ternary\":{\"aaxis\":{\"gridcolor\":\"white\",\"linecolor\":\"white\",\"ticks\":\"\"},\"baxis\":{\"gridcolor\":\"white\",\"linecolor\":\"white\",\"ticks\":\"\"},\"bgcolor\":\"#E5ECF6\",\"caxis\":{\"gridcolor\":\"white\",\"linecolor\":\"white\",\"ticks\":\"\"}},\"title\":{\"x\":0.05},\"xaxis\":{\"automargin\":true,\"gridcolor\":\"white\",\"linecolor\":\"white\",\"ticks\":\"\",\"title\":{\"standoff\":15},\"zerolinecolor\":\"white\",\"zerolinewidth\":2},\"yaxis\":{\"automargin\":true,\"gridcolor\":\"white\",\"linecolor\":\"white\",\"ticks\":\"\",\"title\":{\"standoff\":15},\"zerolinecolor\":\"white\",\"zerolinewidth\":2}}},\"yaxis\":{\"range\":[-15,5],\"showgrid\":false,\"gridwidth\":1,\"gridcolor\":\"red\",\"scaleanchor\":\"x\",\"scaleratio\":1,\"automargin\":false,\"tickmode\":\"linear\",\"tick0\":-15,\"dtick\":1.0,\"visible\":false},\"xaxis\":{\"range\":[-10,25],\"showgrid\":false,\"gridwidth\":1,\"gridcolor\":\"red\",\"automargin\":false,\"tickmode\":\"linear\",\"tick0\":-10,\"dtick\":1.0,\"visible\":false},\"height\":420.0,\"width\":720.0,\"autosize\":false,\"showlegend\":false,\"annotations\":[{\"align\":\"center\",\"font\":{\"color\":\"black\",\"family\":\"Courier New, monospace\",\"size\":16},\"showarrow\":false,\"text\":\"Student Name<br>\\nClass Name<br>\\nSchool Name<br>\\nSemester Year\",\"x\":15,\"y\":0}]},                        {\"responsive\": true}                    ).then(function(){\n",
              "                            \n",
              "var gd = document.getElementById('da38dd6d-4774-471f-a9b7-3f12a9c23f59');\n",
              "var x = new MutationObserver(function (mutations, observer) {{\n",
              "        var display = window.getComputedStyle(gd).display;\n",
              "        if (!display || display === 'none') {{\n",
              "            console.log([gd, 'removed!']);\n",
              "            Plotly.purge(gd);\n",
              "            observer.disconnect();\n",
              "        }}\n",
              "}});\n",
              "\n",
              "// Listen for the removal of the full notebook cells\n",
              "var notebookContainer = gd.closest('#notebook-container');\n",
              "if (notebookContainer) {{\n",
              "    x.observe(notebookContainer, {childList: true});\n",
              "}}\n",
              "\n",
              "// Listen for the clearing of the current output cell\n",
              "var outputEl = gd.closest('.output');\n",
              "if (outputEl) {{\n",
              "    x.observe(outputEl, {childList: true});\n",
              "}}\n",
              "\n",
              "                        })                };                            </script>        </div>\n",
              "</body>\n",
              "</html>"
            ]
          },
          "metadata": {}
        }
      ]
    },
    {
      "cell_type": "markdown",
      "source": [
        "## Create a video using generated video frames\n",
        "We can create a list of all of the video frame images using:\n",
        "```\n",
        "file_list = ['frame1.png', 'frame2.png', 'frame3.png', 'frame4.png', 'frame5.png']\n",
        "```\n",
        "We need to define a name for our video:\n",
        "```\n",
        "video_name = \"video2.mp4\"\n",
        "```\n",
        "To display the video, we simply use:\n",
        "```\n",
        "HTML(CreateVideo(video_name, file_list, fps=0.5))\n",
        "```\n",
        "Here, note that <tt>fps</tt> refers to the number of frames per second that we are displaying. At 0.5, it means that there is a delay of half a second between video frames.\n",
        "\n",
        "## Assignment\n",
        "\n",
        "Try the following:\n",
        "1. Slow down the video display by changing fps.\n",
        "2. Speed up the video display.\n",
        "3. Change the order of the video frames.\n",
        "\n",
        "\n"
      ],
      "metadata": {
        "id": "un83-QdfRzCv"
      }
    },
    {
      "cell_type": "code",
      "source": [
        "file_list = ['frame1.png', 'frame2.png', 'frame3.png', 'frame4.png', 'frame5.png']\n",
        "\n",
        "video_name = \"video2.mp4\"\n",
        "HTML(CreateVideo(video_name, file_list, fps=0.5))"
      ],
      "metadata": {
        "colab": {
          "base_uri": "https://localhost:8080/",
          "height": 459
        },
        "id": "dnTuGD6-u0b5",
        "outputId": "5058f6ea-8b65-4f52-cee1-e38efa196d0d"
      },
      "execution_count": 13,
      "outputs": [
        {
          "output_type": "stream",
          "name": "stdout",
          "text": [
            "Compressed video2.mp4 into temp_video.mp4\n"
          ]
        },
        {
          "output_type": "execute_result",
          "data": {
            "text/plain": [
              "<IPython.core.display.HTML object>"
            ],
            "text/html": [
              "\n",
              "                 <video width=\"720\" height=\"420\" controls loop autoplay>\n",
              "                    <source src=\"data:video/mp4;base64,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\" type=\"video/mp4\">\n",
              "                 </video> "
            ]
          },
          "metadata": {},
          "execution_count": 13
        }
      ]
    }
  ],
  "metadata": {
    "colab": {
      "provenance": [],
      "collapsed_sections": [
        "TRS2iLxlVaFc",
        "rzZpUgfQ-hiO",
        "HQrLCNXFj4Eh"
      ],
      "include_colab_link": true
    },
    "kernelspec": {
      "display_name": "Python 3 (ipykernel)",
      "language": "python",
      "name": "python3"
    },
    "language_info": {
      "codemirror_mode": {
        "name": "ipython",
        "version": 3
      },
      "file_extension": ".py",
      "mimetype": "text/x-python",
      "name": "python",
      "nbconvert_exporter": "python",
      "pygments_lexer": "ipython3",
      "version": "3.9.15"
    }
  },
  "nbformat": 4,
  "nbformat_minor": 0
}